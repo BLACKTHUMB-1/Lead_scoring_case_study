{
 "cells": [
  {
   "cell_type": "markdown",
   "id": "5f1a7e72",
   "metadata": {},
   "source": [
    "# Logistic Regression Assignment\n",
    "\n",
    "## Lead Scoring Case Study\n",
    "\n",
    "### Problem Statement:\n",
    "An education company named X Education sells online courses to industry professionals. On any given day, many professionals who are interested in the courses land on their website and browse for courses. The company markets its courses on several websites and search engines. Through this process, some of the leads get converted while most do not. The typical lead conversion rate at X education is around 30%.\n",
    "The company requires you to build a model wherein you need to assign a lead score to each of the leads such that the customers with higher lead score have a higher conversion chance and the customers with lower lead score have a lower conversion chance.\n",
    "\n",
    " \n",
    "**The company wants :**\n",
    "\n",
    "- How well those lead variables describe the course demands.\n",
    "- The target lead conversion rate to be around 80%.\n"
   ]
  },
  {
   "cell_type": "markdown",
   "id": "579a5aba",
   "metadata": {},
   "source": [
    "# Data\n",
    "The company has provided with a leads dataset from the past with around 9000 data points. This dataset consists of various attributes such as Lead Source, Total Time Spent on Website, Total Visits, Last Activity, etc. which may or may not be useful in ultimately deciding whether a lead will be converted or not. The target variable, in this case, is the column ‘Converted’ which tells whether a past lead was converted or not."
   ]
  },
  {
   "cell_type": "markdown",
   "id": "e9287edc",
   "metadata": {},
   "source": [
    "# Importing Important libraries"
   ]
  },
  {
   "cell_type": "code",
   "execution_count": 1,
   "id": "e76d6c86",
   "metadata": {},
   "outputs": [],
   "source": [
    "import warnings\n",
    "warnings.filterwarnings('ignore')\n",
    "import pandas as pd\n",
    "import numpy as np\n",
    "import matplotlib.pyplot as plt\n",
    "import seaborn as sns\n",
    "\n",
    "from sklearn.cluster import KMeans\n",
    "from sklearn.model_selection import train_test_split\n",
    "from sklearn.preprocessing import StandardScaler\n",
    "import statsmodels.api as sm\n",
    "from sklearn.linear_model import LogisticRegression\n",
    "from sklearn.feature_selection import RFE\n",
    "from statsmodels.stats.outliers_influence import variance_inflation_factor\n",
    "\n",
    "\n",
    "\n",
    "pd.options.display.max_columns = None\n",
    "pd.options.display.max_rows = 150\n",
    "pd.options.display.float_format = '{:.2f}'.format"
   ]
  },
  {
   "cell_type": "markdown",
   "id": "c64332cf",
   "metadata": {},
   "source": [
    "## Reading and Understanding Data"
   ]
  },
  {
   "cell_type": "code",
   "execution_count": 2,
   "id": "fe05c970",
   "metadata": {},
   "outputs": [
    {
     "data": {
      "text/html": [
       "<div>\n",
       "<style scoped>\n",
       "    .dataframe tbody tr th:only-of-type {\n",
       "        vertical-align: middle;\n",
       "    }\n",
       "\n",
       "    .dataframe tbody tr th {\n",
       "        vertical-align: top;\n",
       "    }\n",
       "\n",
       "    .dataframe thead th {\n",
       "        text-align: right;\n",
       "    }\n",
       "</style>\n",
       "<table border=\"1\" class=\"dataframe\">\n",
       "  <thead>\n",
       "    <tr style=\"text-align: right;\">\n",
       "      <th></th>\n",
       "      <th>Prospect ID</th>\n",
       "      <th>Lead Number</th>\n",
       "      <th>Lead Origin</th>\n",
       "      <th>Lead Source</th>\n",
       "      <th>Do Not Email</th>\n",
       "      <th>Do Not Call</th>\n",
       "      <th>Converted</th>\n",
       "      <th>TotalVisits</th>\n",
       "      <th>Total Time Spent on Website</th>\n",
       "      <th>Page Views Per Visit</th>\n",
       "      <th>Last Activity</th>\n",
       "      <th>Country</th>\n",
       "      <th>Specialization</th>\n",
       "      <th>How did you hear about X Education</th>\n",
       "      <th>What is your current occupation</th>\n",
       "      <th>What matters most to you in choosing a course</th>\n",
       "      <th>Search</th>\n",
       "      <th>Magazine</th>\n",
       "      <th>Newspaper Article</th>\n",
       "      <th>X Education Forums</th>\n",
       "      <th>Newspaper</th>\n",
       "      <th>Digital Advertisement</th>\n",
       "      <th>Through Recommendations</th>\n",
       "      <th>Receive More Updates About Our Courses</th>\n",
       "      <th>Tags</th>\n",
       "      <th>Lead Quality</th>\n",
       "      <th>Update me on Supply Chain Content</th>\n",
       "      <th>Get updates on DM Content</th>\n",
       "      <th>Lead Profile</th>\n",
       "      <th>City</th>\n",
       "      <th>Asymmetrique Activity Index</th>\n",
       "      <th>Asymmetrique Profile Index</th>\n",
       "      <th>Asymmetrique Activity Score</th>\n",
       "      <th>Asymmetrique Profile Score</th>\n",
       "      <th>I agree to pay the amount through cheque</th>\n",
       "      <th>A free copy of Mastering The Interview</th>\n",
       "      <th>Last Notable Activity</th>\n",
       "    </tr>\n",
       "  </thead>\n",
       "  <tbody>\n",
       "    <tr>\n",
       "      <th>0</th>\n",
       "      <td>7927b2df-8bba-4d29-b9a2-b6e0beafe620</td>\n",
       "      <td>660737</td>\n",
       "      <td>API</td>\n",
       "      <td>Olark Chat</td>\n",
       "      <td>No</td>\n",
       "      <td>No</td>\n",
       "      <td>0</td>\n",
       "      <td>0.00</td>\n",
       "      <td>0</td>\n",
       "      <td>0.00</td>\n",
       "      <td>Page Visited on Website</td>\n",
       "      <td>NaN</td>\n",
       "      <td>Select</td>\n",
       "      <td>Select</td>\n",
       "      <td>Unemployed</td>\n",
       "      <td>Better Career Prospects</td>\n",
       "      <td>No</td>\n",
       "      <td>No</td>\n",
       "      <td>No</td>\n",
       "      <td>No</td>\n",
       "      <td>No</td>\n",
       "      <td>No</td>\n",
       "      <td>No</td>\n",
       "      <td>No</td>\n",
       "      <td>Interested in other courses</td>\n",
       "      <td>Low in Relevance</td>\n",
       "      <td>No</td>\n",
       "      <td>No</td>\n",
       "      <td>Select</td>\n",
       "      <td>Select</td>\n",
       "      <td>02.Medium</td>\n",
       "      <td>02.Medium</td>\n",
       "      <td>15.00</td>\n",
       "      <td>15.00</td>\n",
       "      <td>No</td>\n",
       "      <td>No</td>\n",
       "      <td>Modified</td>\n",
       "    </tr>\n",
       "    <tr>\n",
       "      <th>1</th>\n",
       "      <td>2a272436-5132-4136-86fa-dcc88c88f482</td>\n",
       "      <td>660728</td>\n",
       "      <td>API</td>\n",
       "      <td>Organic Search</td>\n",
       "      <td>No</td>\n",
       "      <td>No</td>\n",
       "      <td>0</td>\n",
       "      <td>5.00</td>\n",
       "      <td>674</td>\n",
       "      <td>2.50</td>\n",
       "      <td>Email Opened</td>\n",
       "      <td>India</td>\n",
       "      <td>Select</td>\n",
       "      <td>Select</td>\n",
       "      <td>Unemployed</td>\n",
       "      <td>Better Career Prospects</td>\n",
       "      <td>No</td>\n",
       "      <td>No</td>\n",
       "      <td>No</td>\n",
       "      <td>No</td>\n",
       "      <td>No</td>\n",
       "      <td>No</td>\n",
       "      <td>No</td>\n",
       "      <td>No</td>\n",
       "      <td>Ringing</td>\n",
       "      <td>NaN</td>\n",
       "      <td>No</td>\n",
       "      <td>No</td>\n",
       "      <td>Select</td>\n",
       "      <td>Select</td>\n",
       "      <td>02.Medium</td>\n",
       "      <td>02.Medium</td>\n",
       "      <td>15.00</td>\n",
       "      <td>15.00</td>\n",
       "      <td>No</td>\n",
       "      <td>No</td>\n",
       "      <td>Email Opened</td>\n",
       "    </tr>\n",
       "    <tr>\n",
       "      <th>2</th>\n",
       "      <td>8cc8c611-a219-4f35-ad23-fdfd2656bd8a</td>\n",
       "      <td>660727</td>\n",
       "      <td>Landing Page Submission</td>\n",
       "      <td>Direct Traffic</td>\n",
       "      <td>No</td>\n",
       "      <td>No</td>\n",
       "      <td>1</td>\n",
       "      <td>2.00</td>\n",
       "      <td>1532</td>\n",
       "      <td>2.00</td>\n",
       "      <td>Email Opened</td>\n",
       "      <td>India</td>\n",
       "      <td>Business Administration</td>\n",
       "      <td>Select</td>\n",
       "      <td>Student</td>\n",
       "      <td>Better Career Prospects</td>\n",
       "      <td>No</td>\n",
       "      <td>No</td>\n",
       "      <td>No</td>\n",
       "      <td>No</td>\n",
       "      <td>No</td>\n",
       "      <td>No</td>\n",
       "      <td>No</td>\n",
       "      <td>No</td>\n",
       "      <td>Will revert after reading the email</td>\n",
       "      <td>Might be</td>\n",
       "      <td>No</td>\n",
       "      <td>No</td>\n",
       "      <td>Potential Lead</td>\n",
       "      <td>Mumbai</td>\n",
       "      <td>02.Medium</td>\n",
       "      <td>01.High</td>\n",
       "      <td>14.00</td>\n",
       "      <td>20.00</td>\n",
       "      <td>No</td>\n",
       "      <td>Yes</td>\n",
       "      <td>Email Opened</td>\n",
       "    </tr>\n",
       "    <tr>\n",
       "      <th>3</th>\n",
       "      <td>0cc2df48-7cf4-4e39-9de9-19797f9b38cc</td>\n",
       "      <td>660719</td>\n",
       "      <td>Landing Page Submission</td>\n",
       "      <td>Direct Traffic</td>\n",
       "      <td>No</td>\n",
       "      <td>No</td>\n",
       "      <td>0</td>\n",
       "      <td>1.00</td>\n",
       "      <td>305</td>\n",
       "      <td>1.00</td>\n",
       "      <td>Unreachable</td>\n",
       "      <td>India</td>\n",
       "      <td>Media and Advertising</td>\n",
       "      <td>Word Of Mouth</td>\n",
       "      <td>Unemployed</td>\n",
       "      <td>Better Career Prospects</td>\n",
       "      <td>No</td>\n",
       "      <td>No</td>\n",
       "      <td>No</td>\n",
       "      <td>No</td>\n",
       "      <td>No</td>\n",
       "      <td>No</td>\n",
       "      <td>No</td>\n",
       "      <td>No</td>\n",
       "      <td>Ringing</td>\n",
       "      <td>Not Sure</td>\n",
       "      <td>No</td>\n",
       "      <td>No</td>\n",
       "      <td>Select</td>\n",
       "      <td>Mumbai</td>\n",
       "      <td>02.Medium</td>\n",
       "      <td>01.High</td>\n",
       "      <td>13.00</td>\n",
       "      <td>17.00</td>\n",
       "      <td>No</td>\n",
       "      <td>No</td>\n",
       "      <td>Modified</td>\n",
       "    </tr>\n",
       "    <tr>\n",
       "      <th>4</th>\n",
       "      <td>3256f628-e534-4826-9d63-4a8b88782852</td>\n",
       "      <td>660681</td>\n",
       "      <td>Landing Page Submission</td>\n",
       "      <td>Google</td>\n",
       "      <td>No</td>\n",
       "      <td>No</td>\n",
       "      <td>1</td>\n",
       "      <td>2.00</td>\n",
       "      <td>1428</td>\n",
       "      <td>1.00</td>\n",
       "      <td>Converted to Lead</td>\n",
       "      <td>India</td>\n",
       "      <td>Select</td>\n",
       "      <td>Other</td>\n",
       "      <td>Unemployed</td>\n",
       "      <td>Better Career Prospects</td>\n",
       "      <td>No</td>\n",
       "      <td>No</td>\n",
       "      <td>No</td>\n",
       "      <td>No</td>\n",
       "      <td>No</td>\n",
       "      <td>No</td>\n",
       "      <td>No</td>\n",
       "      <td>No</td>\n",
       "      <td>Will revert after reading the email</td>\n",
       "      <td>Might be</td>\n",
       "      <td>No</td>\n",
       "      <td>No</td>\n",
       "      <td>Select</td>\n",
       "      <td>Mumbai</td>\n",
       "      <td>02.Medium</td>\n",
       "      <td>01.High</td>\n",
       "      <td>15.00</td>\n",
       "      <td>18.00</td>\n",
       "      <td>No</td>\n",
       "      <td>No</td>\n",
       "      <td>Modified</td>\n",
       "    </tr>\n",
       "  </tbody>\n",
       "</table>\n",
       "</div>"
      ],
      "text/plain": [
       "                            Prospect ID  Lead Number              Lead Origin  \\\n",
       "0  7927b2df-8bba-4d29-b9a2-b6e0beafe620       660737                      API   \n",
       "1  2a272436-5132-4136-86fa-dcc88c88f482       660728                      API   \n",
       "2  8cc8c611-a219-4f35-ad23-fdfd2656bd8a       660727  Landing Page Submission   \n",
       "3  0cc2df48-7cf4-4e39-9de9-19797f9b38cc       660719  Landing Page Submission   \n",
       "4  3256f628-e534-4826-9d63-4a8b88782852       660681  Landing Page Submission   \n",
       "\n",
       "      Lead Source Do Not Email Do Not Call  Converted  TotalVisits  \\\n",
       "0      Olark Chat           No          No          0         0.00   \n",
       "1  Organic Search           No          No          0         5.00   \n",
       "2  Direct Traffic           No          No          1         2.00   \n",
       "3  Direct Traffic           No          No          0         1.00   \n",
       "4          Google           No          No          1         2.00   \n",
       "\n",
       "   Total Time Spent on Website  Page Views Per Visit            Last Activity  \\\n",
       "0                            0                  0.00  Page Visited on Website   \n",
       "1                          674                  2.50             Email Opened   \n",
       "2                         1532                  2.00             Email Opened   \n",
       "3                          305                  1.00              Unreachable   \n",
       "4                         1428                  1.00        Converted to Lead   \n",
       "\n",
       "  Country           Specialization How did you hear about X Education  \\\n",
       "0     NaN                   Select                             Select   \n",
       "1   India                   Select                             Select   \n",
       "2   India  Business Administration                             Select   \n",
       "3   India    Media and Advertising                      Word Of Mouth   \n",
       "4   India                   Select                              Other   \n",
       "\n",
       "  What is your current occupation  \\\n",
       "0                      Unemployed   \n",
       "1                      Unemployed   \n",
       "2                         Student   \n",
       "3                      Unemployed   \n",
       "4                      Unemployed   \n",
       "\n",
       "  What matters most to you in choosing a course Search Magazine  \\\n",
       "0                       Better Career Prospects     No       No   \n",
       "1                       Better Career Prospects     No       No   \n",
       "2                       Better Career Prospects     No       No   \n",
       "3                       Better Career Prospects     No       No   \n",
       "4                       Better Career Prospects     No       No   \n",
       "\n",
       "  Newspaper Article X Education Forums Newspaper Digital Advertisement  \\\n",
       "0                No                 No        No                    No   \n",
       "1                No                 No        No                    No   \n",
       "2                No                 No        No                    No   \n",
       "3                No                 No        No                    No   \n",
       "4                No                 No        No                    No   \n",
       "\n",
       "  Through Recommendations Receive More Updates About Our Courses  \\\n",
       "0                      No                                     No   \n",
       "1                      No                                     No   \n",
       "2                      No                                     No   \n",
       "3                      No                                     No   \n",
       "4                      No                                     No   \n",
       "\n",
       "                                  Tags      Lead Quality  \\\n",
       "0          Interested in other courses  Low in Relevance   \n",
       "1                              Ringing               NaN   \n",
       "2  Will revert after reading the email          Might be   \n",
       "3                              Ringing          Not Sure   \n",
       "4  Will revert after reading the email          Might be   \n",
       "\n",
       "  Update me on Supply Chain Content Get updates on DM Content    Lead Profile  \\\n",
       "0                                No                        No          Select   \n",
       "1                                No                        No          Select   \n",
       "2                                No                        No  Potential Lead   \n",
       "3                                No                        No          Select   \n",
       "4                                No                        No          Select   \n",
       "\n",
       "     City Asymmetrique Activity Index Asymmetrique Profile Index  \\\n",
       "0  Select                   02.Medium                  02.Medium   \n",
       "1  Select                   02.Medium                  02.Medium   \n",
       "2  Mumbai                   02.Medium                    01.High   \n",
       "3  Mumbai                   02.Medium                    01.High   \n",
       "4  Mumbai                   02.Medium                    01.High   \n",
       "\n",
       "   Asymmetrique Activity Score  Asymmetrique Profile Score  \\\n",
       "0                        15.00                       15.00   \n",
       "1                        15.00                       15.00   \n",
       "2                        14.00                       20.00   \n",
       "3                        13.00                       17.00   \n",
       "4                        15.00                       18.00   \n",
       "\n",
       "  I agree to pay the amount through cheque  \\\n",
       "0                                       No   \n",
       "1                                       No   \n",
       "2                                       No   \n",
       "3                                       No   \n",
       "4                                       No   \n",
       "\n",
       "  A free copy of Mastering The Interview Last Notable Activity  \n",
       "0                                     No              Modified  \n",
       "1                                     No          Email Opened  \n",
       "2                                    Yes          Email Opened  \n",
       "3                                     No              Modified  \n",
       "4                                     No              Modified  "
      ]
     },
     "execution_count": 2,
     "metadata": {},
     "output_type": "execute_result"
    }
   ],
   "source": [
    "df = pd.read_csv('Leads.csv')\n",
    "df.head()"
   ]
  },
  {
   "cell_type": "code",
   "execution_count": 3,
   "id": "cd1eddba",
   "metadata": {},
   "outputs": [
    {
     "data": {
      "text/plain": [
       "(9240, 37)"
      ]
     },
     "execution_count": 3,
     "metadata": {},
     "output_type": "execute_result"
    }
   ],
   "source": [
    "df.shape\n"
   ]
  },
  {
   "cell_type": "code",
   "execution_count": 4,
   "id": "9e659a6f",
   "metadata": {},
   "outputs": [
    {
     "name": "stdout",
     "output_type": "stream",
     "text": [
      "<class 'pandas.core.frame.DataFrame'>\n",
      "RangeIndex: 9240 entries, 0 to 9239\n",
      "Data columns (total 37 columns):\n",
      " #   Column                                         Non-Null Count  Dtype  \n",
      "---  ------                                         --------------  -----  \n",
      " 0   Prospect ID                                    9240 non-null   object \n",
      " 1   Lead Number                                    9240 non-null   int64  \n",
      " 2   Lead Origin                                    9240 non-null   object \n",
      " 3   Lead Source                                    9204 non-null   object \n",
      " 4   Do Not Email                                   9240 non-null   object \n",
      " 5   Do Not Call                                    9240 non-null   object \n",
      " 6   Converted                                      9240 non-null   int64  \n",
      " 7   TotalVisits                                    9103 non-null   float64\n",
      " 8   Total Time Spent on Website                    9240 non-null   int64  \n",
      " 9   Page Views Per Visit                           9103 non-null   float64\n",
      " 10  Last Activity                                  9137 non-null   object \n",
      " 11  Country                                        6779 non-null   object \n",
      " 12  Specialization                                 7802 non-null   object \n",
      " 13  How did you hear about X Education             7033 non-null   object \n",
      " 14  What is your current occupation                6550 non-null   object \n",
      " 15  What matters most to you in choosing a course  6531 non-null   object \n",
      " 16  Search                                         9240 non-null   object \n",
      " 17  Magazine                                       9240 non-null   object \n",
      " 18  Newspaper Article                              9240 non-null   object \n",
      " 19  X Education Forums                             9240 non-null   object \n",
      " 20  Newspaper                                      9240 non-null   object \n",
      " 21  Digital Advertisement                          9240 non-null   object \n",
      " 22  Through Recommendations                        9240 non-null   object \n",
      " 23  Receive More Updates About Our Courses         9240 non-null   object \n",
      " 24  Tags                                           5887 non-null   object \n",
      " 25  Lead Quality                                   4473 non-null   object \n",
      " 26  Update me on Supply Chain Content              9240 non-null   object \n",
      " 27  Get updates on DM Content                      9240 non-null   object \n",
      " 28  Lead Profile                                   6531 non-null   object \n",
      " 29  City                                           7820 non-null   object \n",
      " 30  Asymmetrique Activity Index                    5022 non-null   object \n",
      " 31  Asymmetrique Profile Index                     5022 non-null   object \n",
      " 32  Asymmetrique Activity Score                    5022 non-null   float64\n",
      " 33  Asymmetrique Profile Score                     5022 non-null   float64\n",
      " 34  I agree to pay the amount through cheque       9240 non-null   object \n",
      " 35  A free copy of Mastering The Interview         9240 non-null   object \n",
      " 36  Last Notable Activity                          9240 non-null   object \n",
      "dtypes: float64(4), int64(3), object(30)\n",
      "memory usage: 2.6+ MB\n"
     ]
    }
   ],
   "source": [
    "df.info()"
   ]
  },
  {
   "cell_type": "code",
   "execution_count": 5,
   "id": "35c7a340",
   "metadata": {},
   "outputs": [
    {
     "data": {
      "text/html": [
       "<div>\n",
       "<style scoped>\n",
       "    .dataframe tbody tr th:only-of-type {\n",
       "        vertical-align: middle;\n",
       "    }\n",
       "\n",
       "    .dataframe tbody tr th {\n",
       "        vertical-align: top;\n",
       "    }\n",
       "\n",
       "    .dataframe thead th {\n",
       "        text-align: right;\n",
       "    }\n",
       "</style>\n",
       "<table border=\"1\" class=\"dataframe\">\n",
       "  <thead>\n",
       "    <tr style=\"text-align: right;\">\n",
       "      <th></th>\n",
       "      <th>Lead Number</th>\n",
       "      <th>Converted</th>\n",
       "      <th>TotalVisits</th>\n",
       "      <th>Total Time Spent on Website</th>\n",
       "      <th>Page Views Per Visit</th>\n",
       "      <th>Asymmetrique Activity Score</th>\n",
       "      <th>Asymmetrique Profile Score</th>\n",
       "    </tr>\n",
       "  </thead>\n",
       "  <tbody>\n",
       "    <tr>\n",
       "      <th>count</th>\n",
       "      <td>9240.00</td>\n",
       "      <td>9240.00</td>\n",
       "      <td>9103.00</td>\n",
       "      <td>9240.00</td>\n",
       "      <td>9103.00</td>\n",
       "      <td>5022.00</td>\n",
       "      <td>5022.00</td>\n",
       "    </tr>\n",
       "    <tr>\n",
       "      <th>mean</th>\n",
       "      <td>617188.44</td>\n",
       "      <td>0.39</td>\n",
       "      <td>3.45</td>\n",
       "      <td>487.70</td>\n",
       "      <td>2.36</td>\n",
       "      <td>14.31</td>\n",
       "      <td>16.34</td>\n",
       "    </tr>\n",
       "    <tr>\n",
       "      <th>std</th>\n",
       "      <td>23406.00</td>\n",
       "      <td>0.49</td>\n",
       "      <td>4.85</td>\n",
       "      <td>548.02</td>\n",
       "      <td>2.16</td>\n",
       "      <td>1.39</td>\n",
       "      <td>1.81</td>\n",
       "    </tr>\n",
       "    <tr>\n",
       "      <th>min</th>\n",
       "      <td>579533.00</td>\n",
       "      <td>0.00</td>\n",
       "      <td>0.00</td>\n",
       "      <td>0.00</td>\n",
       "      <td>0.00</td>\n",
       "      <td>7.00</td>\n",
       "      <td>11.00</td>\n",
       "    </tr>\n",
       "    <tr>\n",
       "      <th>25%</th>\n",
       "      <td>596484.50</td>\n",
       "      <td>0.00</td>\n",
       "      <td>1.00</td>\n",
       "      <td>12.00</td>\n",
       "      <td>1.00</td>\n",
       "      <td>14.00</td>\n",
       "      <td>15.00</td>\n",
       "    </tr>\n",
       "    <tr>\n",
       "      <th>50%</th>\n",
       "      <td>615479.00</td>\n",
       "      <td>0.00</td>\n",
       "      <td>3.00</td>\n",
       "      <td>248.00</td>\n",
       "      <td>2.00</td>\n",
       "      <td>14.00</td>\n",
       "      <td>16.00</td>\n",
       "    </tr>\n",
       "    <tr>\n",
       "      <th>75%</th>\n",
       "      <td>637387.25</td>\n",
       "      <td>1.00</td>\n",
       "      <td>5.00</td>\n",
       "      <td>936.00</td>\n",
       "      <td>3.00</td>\n",
       "      <td>15.00</td>\n",
       "      <td>18.00</td>\n",
       "    </tr>\n",
       "    <tr>\n",
       "      <th>max</th>\n",
       "      <td>660737.00</td>\n",
       "      <td>1.00</td>\n",
       "      <td>251.00</td>\n",
       "      <td>2272.00</td>\n",
       "      <td>55.00</td>\n",
       "      <td>18.00</td>\n",
       "      <td>20.00</td>\n",
       "    </tr>\n",
       "  </tbody>\n",
       "</table>\n",
       "</div>"
      ],
      "text/plain": [
       "       Lead Number  Converted  TotalVisits  Total Time Spent on Website  \\\n",
       "count      9240.00    9240.00      9103.00                      9240.00   \n",
       "mean     617188.44       0.39         3.45                       487.70   \n",
       "std       23406.00       0.49         4.85                       548.02   \n",
       "min      579533.00       0.00         0.00                         0.00   \n",
       "25%      596484.50       0.00         1.00                        12.00   \n",
       "50%      615479.00       0.00         3.00                       248.00   \n",
       "75%      637387.25       1.00         5.00                       936.00   \n",
       "max      660737.00       1.00       251.00                      2272.00   \n",
       "\n",
       "       Page Views Per Visit  Asymmetrique Activity Score  \\\n",
       "count               9103.00                      5022.00   \n",
       "mean                   2.36                        14.31   \n",
       "std                    2.16                         1.39   \n",
       "min                    0.00                         7.00   \n",
       "25%                    1.00                        14.00   \n",
       "50%                    2.00                        14.00   \n",
       "75%                    3.00                        15.00   \n",
       "max                   55.00                        18.00   \n",
       "\n",
       "       Asymmetrique Profile Score  \n",
       "count                     5022.00  \n",
       "mean                        16.34  \n",
       "std                          1.81  \n",
       "min                         11.00  \n",
       "25%                         15.00  \n",
       "50%                         16.00  \n",
       "75%                         18.00  \n",
       "max                         20.00  "
      ]
     },
     "execution_count": 5,
     "metadata": {},
     "output_type": "execute_result"
    }
   ],
   "source": [
    "df.describe()"
   ]
  },
  {
   "cell_type": "markdown",
   "id": "3d0926b0",
   "metadata": {},
   "source": [
    "**Scrutiny**\n",
    "* Significant number of columns have null values. We shall drop these.\n",
    "* `Prospect ID` and `Lead Number` both serve the same purpose. We will drop `Prospect ID`\n",
    "* Few categorical columns have \"Select\" in their entries. Those select are essentially null values because Select appears when someone does not select anything from the dropdown"
   ]
  },
  {
   "cell_type": "markdown",
   "id": "56d3e136",
   "metadata": {},
   "source": [
    "# Data Cleaning"
   ]
  },
  {
   "cell_type": "code",
   "execution_count": 6,
   "id": "ff668d49",
   "metadata": {},
   "outputs": [],
   "source": [
    "df=df.drop_duplicates()\n"
   ]
  },
  {
   "cell_type": "code",
   "execution_count": 7,
   "id": "d4d328fb",
   "metadata": {},
   "outputs": [],
   "source": [
    "df.drop('Prospect ID', axis = 1, inplace = True)"
   ]
  },
  {
   "cell_type": "code",
   "execution_count": 8,
   "id": "e479b918",
   "metadata": {},
   "outputs": [
    {
     "name": "stdout",
     "output_type": "stream",
     "text": [
      "['Specialization', 'How did you hear about X Education', 'Lead Profile', 'City']\n"
     ]
    }
   ],
   "source": [
    "# Replace \"Select\" category with null values\n",
    "df_obj = df.select_dtypes(include='object')\n",
    "\n",
    "# Find out columns that have \"Select\"\n",
    "select = lambda x: x.str.contains('Select', na=False)\n",
    "list_select = df_obj.columns[df_obj.apply(select).any()].tolist()\n",
    "print (list_select)"
   ]
  },
  {
   "cell_type": "code",
   "execution_count": 9,
   "id": "12c93a9f",
   "metadata": {},
   "outputs": [],
   "source": [
    "#There are 4 columns that contains `Select`, which are effectively null values.\n",
    "df[list_select] = df[list_select].replace('Select', np.NaN)\n"
   ]
  },
  {
   "cell_type": "markdown",
   "id": "0500e49c",
   "metadata": {},
   "source": [
    "### Handle null values and Insignificant columns\n",
    "\n",
    "- Given there are a number of columns with very high number of null entries, let's calculate the percentage of null values in each column, and take a decision from there.\n",
    "- Furthermore, we can also drop Sales generated columns because those are the data entries that are made after the sales team has connected with the student. Those data have no bearing to the purpose of our model ie. providing lead score. The columns are\n",
    "    * `tags`\n",
    "    * `lead_quality`\n",
    "    * all `asymmetrique` columns\n",
    "    * `last_activity`\n",
    "    * `last_notable_activity`"
   ]
  },
  {
   "cell_type": "code",
   "execution_count": 10,
   "id": "ba0a9a38",
   "metadata": {},
   "outputs": [
    {
     "data": {
      "text/plain": [
       "How did you hear about X Education              78.46\n",
       "Lead Profile                                    74.19\n",
       "Lead Quality                                    51.59\n",
       "Asymmetrique Activity Index                     45.65\n",
       "Asymmetrique Profile Score                      45.65\n",
       "Asymmetrique Profile Index                      45.65\n",
       "Asymmetrique Activity Score                     45.65\n",
       "City                                            39.71\n",
       "Specialization                                  36.58\n",
       "Tags                                            36.29\n",
       "What matters most to you in choosing a course   29.32\n",
       "What is your current occupation                 29.11\n",
       "Country                                         26.63\n",
       "Page Views Per Visit                             1.48\n",
       "TotalVisits                                      1.48\n",
       "Last Activity                                    1.11\n",
       "Lead Source                                      0.39\n",
       "I agree to pay the amount through cheque         0.00\n",
       "A free copy of Mastering The Interview           0.00\n",
       "Get updates on DM Content                        0.00\n",
       "Update me on Supply Chain Content                0.00\n",
       "Lead Number                                      0.00\n",
       "X Education Forums                               0.00\n",
       "Receive More Updates About Our Courses           0.00\n",
       "Through Recommendations                          0.00\n",
       "Digital Advertisement                            0.00\n",
       "Newspaper                                        0.00\n",
       "Lead Origin                                      0.00\n",
       "Newspaper Article                                0.00\n",
       "Magazine                                         0.00\n",
       "Search                                           0.00\n",
       "Total Time Spent on Website                      0.00\n",
       "Converted                                        0.00\n",
       "Do Not Call                                      0.00\n",
       "Do Not Email                                     0.00\n",
       "Last Notable Activity                            0.00\n",
       "dtype: float64"
      ]
     },
     "execution_count": 10,
     "metadata": {},
     "output_type": "execute_result"
    }
   ],
   "source": [
    "null= df.isnull().sum()/len(df)*100\n",
    "null.sort_values(ascending=False)"
   ]
  },
  {
   "cell_type": "markdown",
   "id": "3bd7d975",
   "metadata": {},
   "source": [
    "**Scrutiny**: There are quite a few columns with high number of missing data. Since there are no ways to get data, we can drop all those columns that have null values > 40%"
   ]
  },
  {
   "cell_type": "code",
   "execution_count": 11,
   "id": "3d3aa9a0",
   "metadata": {},
   "outputs": [],
   "source": [
    "def bins (df, perc=40):\n",
    "    null= df.isnull().sum()/len(df)*100\n",
    "    null = list(null[null.values>=perc].index)\n",
    "    df.drop(labels= null, axis=1, inplace=True)\n",
    "    return df"
   ]
  },
  {
   "cell_type": "code",
   "execution_count": 12,
   "id": "80c30fb4",
   "metadata": {},
   "outputs": [
    {
     "data": {
      "text/plain": [
       "(9240, 29)"
      ]
     },
     "execution_count": 12,
     "metadata": {},
     "output_type": "execute_result"
    }
   ],
   "source": [
    "df = bins(df,perc=40)\n",
    "df.shape"
   ]
  },
  {
   "cell_type": "code",
   "execution_count": 13,
   "id": "d918a2dd",
   "metadata": {},
   "outputs": [
    {
     "data": {
      "text/plain": [
       "Index(['lead_number', 'lead_origin', 'lead_source', 'do_not_email',\n",
       "       'do_not_call', 'converted', 'totalvisits',\n",
       "       'total_time_spent_on_website', 'page_views_per_visit', 'last_activity',\n",
       "       'country', 'specialization', 'what_is_your_current_occupation',\n",
       "       'what_matters_most_to_you_in_choosing_a_course', 'search', 'magazine',\n",
       "       'newspaper_article', 'x_education_forums', 'newspaper',\n",
       "       'digital_advertisement', 'through_recommendations',\n",
       "       'receive_more_updates_about_our_courses', 'tags',\n",
       "       'update_me_on_supply_chain_content', 'get_updates_on_dm_content',\n",
       "       'city', 'i_agree_to_pay_the_amount_through_cheque',\n",
       "       'a_free_copy_of_mastering_the_interview', 'last_notable_activity'],\n",
       "      dtype='object')"
      ]
     },
     "execution_count": 13,
     "metadata": {},
     "output_type": "execute_result"
    }
   ],
   "source": [
    "# Handling some of the Nomenclature\n",
    "df.columns = df.columns.str.replace(' ', '_').str.lower()\n",
    "df.columns"
   ]
  },
  {
   "cell_type": "code",
   "execution_count": 14,
   "id": "c137abd5",
   "metadata": {},
   "outputs": [
    {
     "data": {
      "text/html": [
       "<div>\n",
       "<style scoped>\n",
       "    .dataframe tbody tr th:only-of-type {\n",
       "        vertical-align: middle;\n",
       "    }\n",
       "\n",
       "    .dataframe tbody tr th {\n",
       "        vertical-align: top;\n",
       "    }\n",
       "\n",
       "    .dataframe thead th {\n",
       "        text-align: right;\n",
       "    }\n",
       "</style>\n",
       "<table border=\"1\" class=\"dataframe\">\n",
       "  <thead>\n",
       "    <tr style=\"text-align: right;\">\n",
       "      <th></th>\n",
       "      <th>lead_number</th>\n",
       "      <th>lead_origin</th>\n",
       "      <th>lead_source</th>\n",
       "      <th>do_not_email</th>\n",
       "      <th>do_not_call</th>\n",
       "      <th>converted</th>\n",
       "      <th>total_visits</th>\n",
       "      <th>time_on_website</th>\n",
       "      <th>page_views_per_visit</th>\n",
       "      <th>last_activity</th>\n",
       "      <th>country</th>\n",
       "      <th>specialization</th>\n",
       "      <th>occupation</th>\n",
       "      <th>course_selection_reason</th>\n",
       "      <th>search</th>\n",
       "      <th>magazine</th>\n",
       "      <th>newspaper_article</th>\n",
       "      <th>x_education_forums</th>\n",
       "      <th>newspaper</th>\n",
       "      <th>digital_advertisement</th>\n",
       "      <th>through_recommendations</th>\n",
       "      <th>courses_updates</th>\n",
       "      <th>tags</th>\n",
       "      <th>supply_chain_content_updates</th>\n",
       "      <th>dm_content_updates</th>\n",
       "      <th>city</th>\n",
       "      <th>cheque_payment</th>\n",
       "      <th>mastering_interview</th>\n",
       "      <th>last_notable_activity</th>\n",
       "    </tr>\n",
       "  </thead>\n",
       "  <tbody>\n",
       "    <tr>\n",
       "      <th>0</th>\n",
       "      <td>660737</td>\n",
       "      <td>API</td>\n",
       "      <td>Olark Chat</td>\n",
       "      <td>No</td>\n",
       "      <td>No</td>\n",
       "      <td>0</td>\n",
       "      <td>0.00</td>\n",
       "      <td>0</td>\n",
       "      <td>0.00</td>\n",
       "      <td>Page Visited on Website</td>\n",
       "      <td>NaN</td>\n",
       "      <td>NaN</td>\n",
       "      <td>Unemployed</td>\n",
       "      <td>Better Career Prospects</td>\n",
       "      <td>No</td>\n",
       "      <td>No</td>\n",
       "      <td>No</td>\n",
       "      <td>No</td>\n",
       "      <td>No</td>\n",
       "      <td>No</td>\n",
       "      <td>No</td>\n",
       "      <td>No</td>\n",
       "      <td>Interested in other courses</td>\n",
       "      <td>No</td>\n",
       "      <td>No</td>\n",
       "      <td>NaN</td>\n",
       "      <td>No</td>\n",
       "      <td>No</td>\n",
       "      <td>Modified</td>\n",
       "    </tr>\n",
       "    <tr>\n",
       "      <th>1</th>\n",
       "      <td>660728</td>\n",
       "      <td>API</td>\n",
       "      <td>Organic Search</td>\n",
       "      <td>No</td>\n",
       "      <td>No</td>\n",
       "      <td>0</td>\n",
       "      <td>5.00</td>\n",
       "      <td>674</td>\n",
       "      <td>2.50</td>\n",
       "      <td>Email Opened</td>\n",
       "      <td>India</td>\n",
       "      <td>NaN</td>\n",
       "      <td>Unemployed</td>\n",
       "      <td>Better Career Prospects</td>\n",
       "      <td>No</td>\n",
       "      <td>No</td>\n",
       "      <td>No</td>\n",
       "      <td>No</td>\n",
       "      <td>No</td>\n",
       "      <td>No</td>\n",
       "      <td>No</td>\n",
       "      <td>No</td>\n",
       "      <td>Ringing</td>\n",
       "      <td>No</td>\n",
       "      <td>No</td>\n",
       "      <td>NaN</td>\n",
       "      <td>No</td>\n",
       "      <td>No</td>\n",
       "      <td>Email Opened</td>\n",
       "    </tr>\n",
       "    <tr>\n",
       "      <th>2</th>\n",
       "      <td>660727</td>\n",
       "      <td>Landing Page Submission</td>\n",
       "      <td>Direct Traffic</td>\n",
       "      <td>No</td>\n",
       "      <td>No</td>\n",
       "      <td>1</td>\n",
       "      <td>2.00</td>\n",
       "      <td>1532</td>\n",
       "      <td>2.00</td>\n",
       "      <td>Email Opened</td>\n",
       "      <td>India</td>\n",
       "      <td>Business Administration</td>\n",
       "      <td>Student</td>\n",
       "      <td>Better Career Prospects</td>\n",
       "      <td>No</td>\n",
       "      <td>No</td>\n",
       "      <td>No</td>\n",
       "      <td>No</td>\n",
       "      <td>No</td>\n",
       "      <td>No</td>\n",
       "      <td>No</td>\n",
       "      <td>No</td>\n",
       "      <td>Will revert after reading the email</td>\n",
       "      <td>No</td>\n",
       "      <td>No</td>\n",
       "      <td>Mumbai</td>\n",
       "      <td>No</td>\n",
       "      <td>Yes</td>\n",
       "      <td>Email Opened</td>\n",
       "    </tr>\n",
       "    <tr>\n",
       "      <th>3</th>\n",
       "      <td>660719</td>\n",
       "      <td>Landing Page Submission</td>\n",
       "      <td>Direct Traffic</td>\n",
       "      <td>No</td>\n",
       "      <td>No</td>\n",
       "      <td>0</td>\n",
       "      <td>1.00</td>\n",
       "      <td>305</td>\n",
       "      <td>1.00</td>\n",
       "      <td>Unreachable</td>\n",
       "      <td>India</td>\n",
       "      <td>Media and Advertising</td>\n",
       "      <td>Unemployed</td>\n",
       "      <td>Better Career Prospects</td>\n",
       "      <td>No</td>\n",
       "      <td>No</td>\n",
       "      <td>No</td>\n",
       "      <td>No</td>\n",
       "      <td>No</td>\n",
       "      <td>No</td>\n",
       "      <td>No</td>\n",
       "      <td>No</td>\n",
       "      <td>Ringing</td>\n",
       "      <td>No</td>\n",
       "      <td>No</td>\n",
       "      <td>Mumbai</td>\n",
       "      <td>No</td>\n",
       "      <td>No</td>\n",
       "      <td>Modified</td>\n",
       "    </tr>\n",
       "    <tr>\n",
       "      <th>4</th>\n",
       "      <td>660681</td>\n",
       "      <td>Landing Page Submission</td>\n",
       "      <td>Google</td>\n",
       "      <td>No</td>\n",
       "      <td>No</td>\n",
       "      <td>1</td>\n",
       "      <td>2.00</td>\n",
       "      <td>1428</td>\n",
       "      <td>1.00</td>\n",
       "      <td>Converted to Lead</td>\n",
       "      <td>India</td>\n",
       "      <td>NaN</td>\n",
       "      <td>Unemployed</td>\n",
       "      <td>Better Career Prospects</td>\n",
       "      <td>No</td>\n",
       "      <td>No</td>\n",
       "      <td>No</td>\n",
       "      <td>No</td>\n",
       "      <td>No</td>\n",
       "      <td>No</td>\n",
       "      <td>No</td>\n",
       "      <td>No</td>\n",
       "      <td>Will revert after reading the email</td>\n",
       "      <td>No</td>\n",
       "      <td>No</td>\n",
       "      <td>Mumbai</td>\n",
       "      <td>No</td>\n",
       "      <td>No</td>\n",
       "      <td>Modified</td>\n",
       "    </tr>\n",
       "  </tbody>\n",
       "</table>\n",
       "</div>"
      ],
      "text/plain": [
       "   lead_number              lead_origin     lead_source do_not_email  \\\n",
       "0       660737                      API      Olark Chat           No   \n",
       "1       660728                      API  Organic Search           No   \n",
       "2       660727  Landing Page Submission  Direct Traffic           No   \n",
       "3       660719  Landing Page Submission  Direct Traffic           No   \n",
       "4       660681  Landing Page Submission          Google           No   \n",
       "\n",
       "  do_not_call  converted  total_visits  time_on_website  page_views_per_visit  \\\n",
       "0          No          0          0.00                0                  0.00   \n",
       "1          No          0          5.00              674                  2.50   \n",
       "2          No          1          2.00             1532                  2.00   \n",
       "3          No          0          1.00              305                  1.00   \n",
       "4          No          1          2.00             1428                  1.00   \n",
       "\n",
       "             last_activity country           specialization  occupation  \\\n",
       "0  Page Visited on Website     NaN                      NaN  Unemployed   \n",
       "1             Email Opened   India                      NaN  Unemployed   \n",
       "2             Email Opened   India  Business Administration     Student   \n",
       "3              Unreachable   India    Media and Advertising  Unemployed   \n",
       "4        Converted to Lead   India                      NaN  Unemployed   \n",
       "\n",
       "   course_selection_reason search magazine newspaper_article  \\\n",
       "0  Better Career Prospects     No       No                No   \n",
       "1  Better Career Prospects     No       No                No   \n",
       "2  Better Career Prospects     No       No                No   \n",
       "3  Better Career Prospects     No       No                No   \n",
       "4  Better Career Prospects     No       No                No   \n",
       "\n",
       "  x_education_forums newspaper digital_advertisement through_recommendations  \\\n",
       "0                 No        No                    No                      No   \n",
       "1                 No        No                    No                      No   \n",
       "2                 No        No                    No                      No   \n",
       "3                 No        No                    No                      No   \n",
       "4                 No        No                    No                      No   \n",
       "\n",
       "  courses_updates                                 tags  \\\n",
       "0              No          Interested in other courses   \n",
       "1              No                              Ringing   \n",
       "2              No  Will revert after reading the email   \n",
       "3              No                              Ringing   \n",
       "4              No  Will revert after reading the email   \n",
       "\n",
       "  supply_chain_content_updates dm_content_updates    city cheque_payment  \\\n",
       "0                           No                 No     NaN             No   \n",
       "1                           No                 No     NaN             No   \n",
       "2                           No                 No  Mumbai             No   \n",
       "3                           No                 No  Mumbai             No   \n",
       "4                           No                 No  Mumbai             No   \n",
       "\n",
       "  mastering_interview last_notable_activity  \n",
       "0                  No              Modified  \n",
       "1                  No          Email Opened  \n",
       "2                 Yes          Email Opened  \n",
       "3                  No              Modified  \n",
       "4                  No              Modified  "
      ]
     },
     "execution_count": 14,
     "metadata": {},
     "output_type": "execute_result"
    }
   ],
   "source": [
    "# shorten column names\n",
    "df.rename(columns = {'totalvisits': 'total_visits', 'total_time_spent_on_website': 'time_on_website', \n",
    "                    'how_did_you_hear_about_x_education': 'source', 'what_is_your_current_occupation': 'occupation',\n",
    "                    'what_matters_most_to_you_in_choosing_a_course' : 'course_selection_reason', \n",
    "                    'receive_more_updates_about_our_courses': 'courses_updates', \n",
    "                     'update_me_on_supply_chain_content': 'supply_chain_content_updates',\n",
    "                    'get_updates_on_dm_content': 'dm_content_updates',\n",
    "                    'i_agree_to_pay_the_amount_through_cheque': 'cheque_payment',\n",
    "                    'a_free_copy_of_mastering_the_interview': 'mastering_interview'}, inplace = True)\n",
    "\n",
    "df.head()"
   ]
  },
  {
   "cell_type": "code",
   "execution_count": 15,
   "id": "5ccbdf95",
   "metadata": {},
   "outputs": [],
   "source": [
    "df.drop(['tags', 'last_activity', 'last_notable_activity'], \n",
    "        axis = 1, inplace = True)\n"
   ]
  },
  {
   "cell_type": "code",
   "execution_count": 16,
   "id": "ea533b66",
   "metadata": {},
   "outputs": [
    {
     "name": "stdout",
     "output_type": "stream",
     "text": [
      "(9240, 26)\n",
      "   lead_number              lead_origin     lead_source do_not_email  \\\n",
      "0       660737                      API      Olark Chat           No   \n",
      "1       660728                      API  Organic Search           No   \n",
      "2       660727  Landing Page Submission  Direct Traffic           No   \n",
      "3       660719  Landing Page Submission  Direct Traffic           No   \n",
      "4       660681  Landing Page Submission          Google           No   \n",
      "\n",
      "  do_not_call  converted  total_visits  time_on_website  page_views_per_visit  \\\n",
      "0          No          0          0.00                0                  0.00   \n",
      "1          No          0          5.00              674                  2.50   \n",
      "2          No          1          2.00             1532                  2.00   \n",
      "3          No          0          1.00              305                  1.00   \n",
      "4          No          1          2.00             1428                  1.00   \n",
      "\n",
      "  country           specialization  occupation  course_selection_reason  \\\n",
      "0     NaN                      NaN  Unemployed  Better Career Prospects   \n",
      "1   India                      NaN  Unemployed  Better Career Prospects   \n",
      "2   India  Business Administration     Student  Better Career Prospects   \n",
      "3   India    Media and Advertising  Unemployed  Better Career Prospects   \n",
      "4   India                      NaN  Unemployed  Better Career Prospects   \n",
      "\n",
      "  search magazine newspaper_article x_education_forums newspaper  \\\n",
      "0     No       No                No                 No        No   \n",
      "1     No       No                No                 No        No   \n",
      "2     No       No                No                 No        No   \n",
      "3     No       No                No                 No        No   \n",
      "4     No       No                No                 No        No   \n",
      "\n",
      "  digital_advertisement through_recommendations courses_updates  \\\n",
      "0                    No                      No              No   \n",
      "1                    No                      No              No   \n",
      "2                    No                      No              No   \n",
      "3                    No                      No              No   \n",
      "4                    No                      No              No   \n",
      "\n",
      "  supply_chain_content_updates dm_content_updates    city cheque_payment  \\\n",
      "0                           No                 No     NaN             No   \n",
      "1                           No                 No     NaN             No   \n",
      "2                           No                 No  Mumbai             No   \n",
      "3                           No                 No  Mumbai             No   \n",
      "4                           No                 No  Mumbai             No   \n",
      "\n",
      "  mastering_interview  \n",
      "0                  No  \n",
      "1                  No  \n",
      "2                 Yes  \n",
      "3                  No  \n",
      "4                  No  \n"
     ]
    }
   ],
   "source": [
    "print(df.shape)\n",
    "print(df.head())"
   ]
  },
  {
   "cell_type": "code",
   "execution_count": 17,
   "id": "589cf27e",
   "metadata": {},
   "outputs": [
    {
     "data": {
      "text/plain": [
       "city                           39.71\n",
       "specialization                 36.58\n",
       "course_selection_reason        29.32\n",
       "occupation                     29.11\n",
       "country                        26.63\n",
       "total_visits                    1.48\n",
       "page_views_per_visit            1.48\n",
       "lead_source                     0.39\n",
       "lead_number                     0.00\n",
       "newspaper                       0.00\n",
       "cheque_payment                  0.00\n",
       "dm_content_updates              0.00\n",
       "supply_chain_content_updates    0.00\n",
       "courses_updates                 0.00\n",
       "through_recommendations         0.00\n",
       "digital_advertisement           0.00\n",
       "search                          0.00\n",
       "x_education_forums              0.00\n",
       "newspaper_article               0.00\n",
       "magazine                        0.00\n",
       "lead_origin                     0.00\n",
       "time_on_website                 0.00\n",
       "converted                       0.00\n",
       "do_not_call                     0.00\n",
       "do_not_email                    0.00\n",
       "mastering_interview             0.00\n",
       "dtype: float64"
      ]
     },
     "execution_count": 17,
     "metadata": {},
     "output_type": "execute_result"
    }
   ],
   "source": [
    "null= df.isnull().sum()/len(df)*100\n",
    "null.sort_values(ascending=False)"
   ]
  },
  {
   "cell_type": "markdown",
   "id": "6101e09e",
   "metadata": {},
   "source": [
    "**Scrutiny**\n",
    "<br>There are five columns that still have high null values: `country`, `specialization`, `occupation`, `course_selection_reason`, and `city`. We will look at them individually and determine whether any kind of imputation can be done accordingly."
   ]
  },
  {
   "cell_type": "markdown",
   "id": "47d66961",
   "metadata": {},
   "source": [
    "## We will proceed with the most null value containing column i.e. CITY"
   ]
  },
  {
   "cell_type": "code",
   "execution_count": 18,
   "id": "24cb2879",
   "metadata": {},
   "outputs": [
    {
     "data": {
      "text/plain": [
       "NaN                           39.71\n",
       "Mumbai                        34.87\n",
       "Thane & Outskirts              8.14\n",
       "Other Cities                   7.42\n",
       "Other Cities of Maharashtra    4.95\n",
       "Other Metro Cities             4.11\n",
       "Tier II Cities                 0.80\n",
       "Name: city, dtype: float64"
      ]
     },
     "execution_count": 18,
     "metadata": {},
     "output_type": "execute_result"
    }
   ],
   "source": [
    "df.city.value_counts(normalize = True, dropna = False) * 100"
   ]
  },
  {
   "cell_type": "code",
   "execution_count": 19,
   "id": "c8a1cd38",
   "metadata": {},
   "outputs": [],
   "source": [
    "df.loc[(df.city == 'Thane & Outskirts') | (df.city == 'Other Cities of Maharashtra'), \n",
    "       'city'] = 'MH Cities'\n",
    "\n",
    "df.loc[(df.city == 'Other Cities') | (df.city == 'Other Metro Cities') | (df.city == 'Tier II Cities') , \n",
    "       'city'] = 'Non-MH Cities'"
   ]
  },
  {
   "cell_type": "code",
   "execution_count": 20,
   "id": "044c2f4c",
   "metadata": {},
   "outputs": [
    {
     "data": {
      "text/plain": [
       "Mumbai          57.84\n",
       "MH Cities       21.70\n",
       "Non-MH Cities   20.46\n",
       "Name: city, dtype: float64"
      ]
     },
     "execution_count": 20,
     "metadata": {},
     "output_type": "execute_result"
    }
   ],
   "source": [
    "df.city.value_counts(normalize = True) * 100\n"
   ]
  },
  {
   "cell_type": "code",
   "execution_count": 21,
   "id": "b593bb27",
   "metadata": {},
   "outputs": [],
   "source": [
    "# impute proportionately\n",
    "df['city'] = df.city.fillna(pd.Series(np.random.choice(['Mumbai', 'MH Cities', \n",
    "                                                                    'Non-MH Cities'], \n",
    "                                                                   p = [0.5784, 0.2170, 0.2046 ], size = len(df))))"
   ]
  },
  {
   "cell_type": "markdown",
   "id": "0ed0e664",
   "metadata": {},
   "source": [
    "## Specialization"
   ]
  },
  {
   "cell_type": "code",
   "execution_count": 22,
   "id": "e9b6e030",
   "metadata": {},
   "outputs": [
    {
     "data": {
      "text/plain": [
       "NaN                                 36.58\n",
       "Finance Management                  10.56\n",
       "Human Resource Management            9.18\n",
       "Marketing Management                 9.07\n",
       "Operations Management                5.44\n",
       "Business Administration              4.36\n",
       "IT Projects Management               3.96\n",
       "Supply Chain Management              3.78\n",
       "Banking, Investment And Insurance    3.66\n",
       "Travel and Tourism                   2.20\n",
       "Media and Advertising                2.20\n",
       "International Business               1.93\n",
       "Healthcare Management                1.72\n",
       "Hospitality Management               1.23\n",
       "E-COMMERCE                           1.21\n",
       "Retail Management                    1.08\n",
       "Rural and Agribusiness               0.79\n",
       "E-Business                           0.62\n",
       "Services Excellence                  0.43\n",
       "Name: specialization, dtype: float64"
      ]
     },
     "execution_count": 22,
     "metadata": {},
     "output_type": "execute_result"
    }
   ],
   "source": [
    "df.specialization.value_counts(normalize = True, dropna = False) * 100"
   ]
  },
  {
   "cell_type": "code",
   "execution_count": 23,
   "id": "7d7db55f",
   "metadata": {},
   "outputs": [],
   "source": [
    "# categorize all management courses\n",
    "df.loc[(df.specialization == 'Finance Management') | (df.specialization == 'Human Resource Management') | \n",
    "       (df.specialization == 'Marketing Management') |  (df.specialization == 'Operations Management') |\n",
    "       (df.specialization == 'IT Projects Management') | (df.specialization == 'Supply Chain Management') |\n",
    "       (df.specialization == 'Healthcare Management') | (df.specialization == 'Hospitality Management') |\n",
    "       (df.specialization == 'Retail Management') , 'specialization'] = 'Management Specializations'\n",
    "\n",
    "# categorize all business courses\n",
    "df.loc[(df.specialization == 'Business Administration') | (df.specialization == 'International Business') | \n",
    "       (df.specialization == 'Rural and Agribusiness') | (df.specialization == 'E-Business') \n",
    "        , 'specialization'] = 'Business Specializations'\n",
    "\n",
    "# categorize all industrial courses\n",
    "df.loc[(df.specialization == 'Banking, Investment And Insurance') | (df.specialization == 'Media and Advertising') |\n",
    "       (df.specialization == 'Travel and Tourism') | (df.specialization == 'Services Excellence') |\n",
    "       (df.specialization == 'E-COMMERCE'), 'specialization'] = 'Industry Specializations'"
   ]
  },
  {
   "cell_type": "code",
   "execution_count": 24,
   "id": "f52b3840",
   "metadata": {},
   "outputs": [
    {
     "data": {
      "text/plain": [
       "Management Specializations   72.58\n",
       "Industry Specializations     15.29\n",
       "Business Specializations     12.13\n",
       "Name: specialization, dtype: float64"
      ]
     },
     "execution_count": 24,
     "metadata": {},
     "output_type": "execute_result"
    }
   ],
   "source": [
    "df.specialization.value_counts(normalize = True) * 100"
   ]
  },
  {
   "cell_type": "code",
   "execution_count": 25,
   "id": "3a530341",
   "metadata": {},
   "outputs": [],
   "source": [
    "# impute proportionately\n",
    "df['specialization'] = df.specialization.fillna(pd.Series(np.random.choice(['Management Specializations',  \n",
    "                                                    'Business Specializations', 'Industry Specializations'], \n",
    "                                                                   p = [0.7258, 0.1213, 0.1529 ], size = len(df))))"
   ]
  },
  {
   "cell_type": "markdown",
   "id": "7e64388b",
   "metadata": {},
   "source": [
    "## Course Selection Reason"
   ]
  },
  {
   "cell_type": "code",
   "execution_count": 26,
   "id": "0222d54c",
   "metadata": {},
   "outputs": [
    {
     "data": {
      "text/plain": [
       "Better Career Prospects     70.65\n",
       "NaN                         29.32\n",
       "Flexibility & Convenience    0.02\n",
       "Other                        0.01\n",
       "Name: course_selection_reason, dtype: float64"
      ]
     },
     "execution_count": 26,
     "metadata": {},
     "output_type": "execute_result"
    }
   ],
   "source": [
    "df.course_selection_reason.value_counts(normalize = True, dropna = False) * 100"
   ]
  },
  {
   "cell_type": "markdown",
   "id": "3b6b7d4c",
   "metadata": {},
   "source": [
    "**Scrutiny**\n",
    "<br> The distribution of the data is very heavily skewed, The column mainly only consists of just one category i.e.\n",
    "Better Career Prospects which i think would be hardly be of any use in our model. we will drop this column."
   ]
  },
  {
   "cell_type": "code",
   "execution_count": 27,
   "id": "95eb5f93",
   "metadata": {},
   "outputs": [],
   "source": [
    "df.drop('course_selection_reason', axis = 1, inplace = True)"
   ]
  },
  {
   "cell_type": "markdown",
   "id": "1f55a151",
   "metadata": {},
   "source": [
    "## Occupation Column"
   ]
  },
  {
   "cell_type": "code",
   "execution_count": 28,
   "id": "ec51bea5",
   "metadata": {},
   "outputs": [
    {
     "data": {
      "text/plain": [
       "Unemployed             60.61\n",
       "NaN                    29.11\n",
       "Working Professional    7.64\n",
       "Student                 2.27\n",
       "Other                   0.17\n",
       "Housewife               0.11\n",
       "Businessman             0.09\n",
       "Name: occupation, dtype: float64"
      ]
     },
     "execution_count": 28,
     "metadata": {},
     "output_type": "execute_result"
    }
   ],
   "source": [
    "df.occupation.value_counts(normalize = True, dropna = False) * 100"
   ]
  },
  {
   "cell_type": "markdown",
   "id": "e97cafc6",
   "metadata": {},
   "source": [
    "We will maintain the proportions while imputing the values"
   ]
  },
  {
   "cell_type": "code",
   "execution_count": 29,
   "id": "ab2ea40a",
   "metadata": {},
   "outputs": [
    {
     "data": {
      "text/plain": [
       "Unemployed             60.61\n",
       "NaN                    29.11\n",
       "Working Professional    7.64\n",
       "Student and Others      2.64\n",
       "Name: occupation, dtype: float64"
      ]
     },
     "execution_count": 29,
     "metadata": {},
     "output_type": "execute_result"
    }
   ],
   "source": [
    "# combine low representing categories\n",
    "df.loc[(df.occupation == 'Student') | (df.occupation == 'Other') | (df.occupation == 'Housewife') | \n",
    "       (df.occupation == 'Businessman') , 'occupation'] = 'Student and Others'\n",
    "df.occupation.value_counts(normalize = True, dropna = False) * 100"
   ]
  },
  {
   "cell_type": "code",
   "execution_count": 30,
   "id": "ac030b7a",
   "metadata": {},
   "outputs": [],
   "source": [
    "# impute proportionately\n",
    "df['occupation'] = df.occupation.fillna(pd.Series(np.random.choice(['Unemployed', 'Working Professional', \n",
    "                                                                    'Student and Others'], \n",
    "                                                                   p = [0.8550, 0.1078, 0.0372], size = len(df))))"
   ]
  },
  {
   "cell_type": "markdown",
   "id": "358ed1ec",
   "metadata": {},
   "source": [
    "## Country Column"
   ]
  },
  {
   "cell_type": "code",
   "execution_count": 31,
   "id": "0b05700d",
   "metadata": {},
   "outputs": [
    {
     "data": {
      "text/plain": [
       "India                  70.26\n",
       "NaN                    26.63\n",
       "United States           0.75\n",
       "United Arab Emirates    0.57\n",
       "Singapore               0.26\n",
       "Saudi Arabia            0.23\n",
       "United Kingdom          0.16\n",
       "Australia               0.14\n",
       "Qatar                   0.11\n",
       "Bahrain                 0.08\n",
       "Hong Kong               0.08\n",
       "Oman                    0.06\n",
       "France                  0.06\n",
       "unknown                 0.05\n",
       "Kuwait                  0.04\n",
       "South Africa            0.04\n",
       "Canada                  0.04\n",
       "Nigeria                 0.04\n",
       "Germany                 0.04\n",
       "Sweden                  0.03\n",
       "Philippines             0.02\n",
       "Uganda                  0.02\n",
       "Italy                   0.02\n",
       "Bangladesh              0.02\n",
       "Netherlands             0.02\n",
       "Asia/Pacific Region     0.02\n",
       "China                   0.02\n",
       "Belgium                 0.02\n",
       "Ghana                   0.02\n",
       "Kenya                   0.01\n",
       "Sri Lanka               0.01\n",
       "Tanzania                0.01\n",
       "Malaysia                0.01\n",
       "Liberia                 0.01\n",
       "Switzerland             0.01\n",
       "Denmark                 0.01\n",
       "Russia                  0.01\n",
       "Vietnam                 0.01\n",
       "Indonesia               0.01\n",
       "Name: country, dtype: float64"
      ]
     },
     "execution_count": 31,
     "metadata": {},
     "output_type": "execute_result"
    }
   ],
   "source": [
    "df.country.value_counts(normalize = True, dropna = False) * 100"
   ]
  },
  {
   "cell_type": "markdown",
   "id": "fd075622",
   "metadata": {},
   "source": [
    "Safe to drop the column as only INDIA mainly constitutes the whole column and the majority of the business is run here."
   ]
  },
  {
   "cell_type": "code",
   "execution_count": 32,
   "id": "6d83db95",
   "metadata": {},
   "outputs": [],
   "source": [
    "df.drop('country', axis = 1, inplace = True)"
   ]
  },
  {
   "cell_type": "code",
   "execution_count": 33,
   "id": "3c81a7f9",
   "metadata": {},
   "outputs": [
    {
     "data": {
      "text/plain": [
       "(9240, 24)"
      ]
     },
     "execution_count": 33,
     "metadata": {},
     "output_type": "execute_result"
    }
   ],
   "source": [
    "df.shape"
   ]
  },
  {
   "cell_type": "markdown",
   "id": "93eed205",
   "metadata": {},
   "source": [
    "## Handling Categorical Columns\n",
    "Here we can either impute missing values or merge categories with low representation as one, for if we continue with such columns they would hamper in the formation of model as too many wanted variable will try to find representation in the analysis."
   ]
  },
  {
   "cell_type": "code",
   "execution_count": 34,
   "id": "52f20f88",
   "metadata": {},
   "outputs": [
    {
     "data": {
      "text/plain": [
       "total_visits                   1.48\n",
       "page_views_per_visit           1.48\n",
       "lead_source                    0.39\n",
       "lead_number                    0.00\n",
       "x_education_forums             0.00\n",
       "cheque_payment                 0.00\n",
       "city                           0.00\n",
       "dm_content_updates             0.00\n",
       "supply_chain_content_updates   0.00\n",
       "courses_updates                0.00\n",
       "through_recommendations        0.00\n",
       "digital_advertisement          0.00\n",
       "newspaper                      0.00\n",
       "magazine                       0.00\n",
       "newspaper_article              0.00\n",
       "lead_origin                    0.00\n",
       "search                         0.00\n",
       "occupation                     0.00\n",
       "specialization                 0.00\n",
       "time_on_website                0.00\n",
       "converted                      0.00\n",
       "do_not_call                    0.00\n",
       "do_not_email                   0.00\n",
       "mastering_interview            0.00\n",
       "dtype: float64"
      ]
     },
     "execution_count": 34,
     "metadata": {},
     "output_type": "execute_result"
    }
   ],
   "source": [
    "null= df.isnull().sum()/len(df)*100\n",
    "null.sort_values(ascending=False)"
   ]
  },
  {
   "cell_type": "code",
   "execution_count": 35,
   "id": "262b227c",
   "metadata": {},
   "outputs": [],
   "source": [
    "# determine unique values for all object datatype columns\n",
    "unique = []\n",
    "for x, y in df.select_dtypes(include='object').nunique().to_dict().items():\n",
    "    unique.append('{} = {}'.format(x,y))\n",
    "    "
   ]
  },
  {
   "cell_type": "code",
   "execution_count": 36,
   "id": "db7a04e0",
   "metadata": {},
   "outputs": [
    {
     "name": "stdout",
     "output_type": "stream",
     "text": [
      "['lead_origin = 5', 'lead_source = 21', 'do_not_email = 2', 'do_not_call = 2', 'specialization = 3', 'occupation = 3', 'search = 2', 'magazine = 1', 'newspaper_article = 2', 'x_education_forums = 2', 'newspaper = 2', 'digital_advertisement = 2', 'through_recommendations = 2', 'courses_updates = 1', 'supply_chain_content_updates = 1', 'dm_content_updates = 1', 'city = 3', 'cheque_payment = 1', 'mastering_interview = 2']\n"
     ]
    }
   ],
   "source": [
    "print(unique)"
   ]
  },
  {
   "cell_type": "markdown",
   "id": "537fbc7a",
   "metadata": {},
   "source": [
    "Lead origin and lead source have multiple unique values"
   ]
  },
  {
   "cell_type": "code",
   "execution_count": 37,
   "id": "b978d137",
   "metadata": {},
   "outputs": [
    {
     "data": {
      "text/plain": [
       "Landing Page Submission   52.88\n",
       "API                       38.74\n",
       "Lead Add Form              7.77\n",
       "Lead Import                0.60\n",
       "Quick Add Form             0.01\n",
       "Name: lead_origin, dtype: float64"
      ]
     },
     "execution_count": 37,
     "metadata": {},
     "output_type": "execute_result"
    }
   ],
   "source": [
    "df.lead_origin.value_counts(normalize = True, dropna = False) * 100"
   ]
  },
  {
   "cell_type": "code",
   "execution_count": 38,
   "id": "583716ea",
   "metadata": {},
   "outputs": [],
   "source": [
    "#There are a lot of smaller values which will not be used as definitive factors, lets group them together\n",
    "df.loc[(df.lead_origin == 'Lead Add Form') | (df.lead_origin == 'Lead Import') | (df.lead_origin == 'Quick Add Form')\n",
    "       , 'lead_origin'] = 'Lead Add Form and Others'"
   ]
  },
  {
   "cell_type": "code",
   "execution_count": 39,
   "id": "78e7a0c7",
   "metadata": {},
   "outputs": [
    {
     "data": {
      "text/plain": [
       "Google              31.04\n",
       "Direct Traffic      27.52\n",
       "Olark Chat          18.99\n",
       "Organic Search      12.49\n",
       "Reference            5.78\n",
       "Welingak Website     1.54\n",
       "Referral Sites       1.35\n",
       "Facebook             0.60\n",
       "NaN                  0.39\n",
       "bing                 0.06\n",
       "google               0.05\n",
       "Click2call           0.04\n",
       "Press_Release        0.02\n",
       "Social Media         0.02\n",
       "Live Chat            0.02\n",
       "youtubechannel       0.01\n",
       "testone              0.01\n",
       "Pay per Click Ads    0.01\n",
       "welearnblog_Home     0.01\n",
       "WeLearn              0.01\n",
       "blog                 0.01\n",
       "NC_EDM               0.01\n",
       "Name: lead_source, dtype: float64"
      ]
     },
     "execution_count": 39,
     "metadata": {},
     "output_type": "execute_result"
    }
   ],
   "source": [
    "df.lead_source.value_counts(normalize = True, dropna = False) * 100"
   ]
  },
  {
   "cell_type": "code",
   "execution_count": 40,
   "id": "094f61be",
   "metadata": {},
   "outputs": [],
   "source": [
    "df.lead_source.fillna(df.lead_source.mode()[0], inplace=True)"
   ]
  },
  {
   "cell_type": "code",
   "execution_count": 41,
   "id": "423c46b3",
   "metadata": {},
   "outputs": [],
   "source": [
    "#There are a lot of smaller values which will not be used as definitive factors, lets group them together\n",
    "df['lead_source'] = df['lead_source'].apply(lambda x: x if \n",
    "                                            ((x== 'Google') | (x=='Direct Traffic') | (x=='Olark Chat') | \n",
    "                                             (x=='Organic Search') | (x=='Reference')) \n",
    "                                            else 'Other Social Sites')"
   ]
  },
  {
   "cell_type": "code",
   "execution_count": 42,
   "id": "01de7ab9",
   "metadata": {},
   "outputs": [
    {
     "data": {
      "text/plain": [
       "Google               31.43\n",
       "Direct Traffic       27.52\n",
       "Olark Chat           18.99\n",
       "Organic Search       12.49\n",
       "Reference             5.78\n",
       "Other Social Sites    3.79\n",
       "Name: lead_source, dtype: float64"
      ]
     },
     "execution_count": 42,
     "metadata": {},
     "output_type": "execute_result"
    }
   ],
   "source": [
    "df.lead_source.value_counts(normalize = True, dropna = False) * 100"
   ]
  },
  {
   "cell_type": "markdown",
   "id": "03bfe627",
   "metadata": {},
   "source": [
    "### Handle Binary columns\n",
    "Now in other binary columns:\n",
    "* Drop those columns that have significant data imbalance\n",
    "* Drop all those columns that have only 1 unique entry\n",
    "\n",
    "as they will not be used as definitive factors."
   ]
  },
  {
   "cell_type": "code",
   "execution_count": 43,
   "id": "a280f6bb",
   "metadata": {},
   "outputs": [],
   "source": [
    "# determine unique values\n",
    "binary=[]\n",
    "for x, y in df.select_dtypes(include='object').nunique().to_dict().items():\n",
    "    binary.append('{} = {}'.format(x,y))"
   ]
  },
  {
   "cell_type": "code",
   "execution_count": 44,
   "id": "a2ce0de8",
   "metadata": {},
   "outputs": [
    {
     "name": "stdout",
     "output_type": "stream",
     "text": [
      "['lead_origin = 3', 'lead_source = 6', 'do_not_email = 2', 'do_not_call = 2', 'specialization = 3', 'occupation = 3', 'search = 2', 'magazine = 1', 'newspaper_article = 2', 'x_education_forums = 2', 'newspaper = 2', 'digital_advertisement = 2', 'through_recommendations = 2', 'courses_updates = 1', 'supply_chain_content_updates = 1', 'dm_content_updates = 1', 'city = 3', 'cheque_payment = 1', 'mastering_interview = 2']\n"
     ]
    }
   ],
   "source": [
    "print(binary)"
   ]
  },
  {
   "cell_type": "markdown",
   "id": "3280be61",
   "metadata": {},
   "source": [
    "**Scrutiny**\n",
    "* The following columns can be dropped as they have just 1 unique values\n",
    "    * `magazine`\n",
    "    * `course_updates`\n",
    "    * `supply_chain_content_updates`\n",
    "    * `dm_content_updates`\n",
    "    * `cheque_payment`\n",
    "    \n",
    " Let's now check the data imbalance for the all of the columns"
   ]
  },
  {
   "cell_type": "code",
   "execution_count": 45,
   "id": "71c57f2a",
   "metadata": {},
   "outputs": [
    {
     "name": "stdout",
     "output_type": "stream",
     "text": [
      "No    92.06\n",
      "Yes    7.94\n",
      "Name: do_not_email, dtype: float64\n",
      "\n",
      "No    99.98\n",
      "Yes    0.02\n",
      "Name: do_not_call, dtype: float64\n",
      "\n",
      "No    99.85\n",
      "Yes    0.15\n",
      "Name: search, dtype: float64\n",
      "\n",
      "No    99.98\n",
      "Yes    0.02\n",
      "Name: newspaper_article, dtype: float64\n",
      "\n",
      "No    99.99\n",
      "Yes    0.01\n",
      "Name: x_education_forums, dtype: float64\n",
      "\n",
      "No    99.99\n",
      "Yes    0.01\n",
      "Name: newspaper, dtype: float64\n",
      "\n",
      "No    99.96\n",
      "Yes    0.04\n",
      "Name: digital_advertisement, dtype: float64\n",
      "\n",
      "No    99.92\n",
      "Yes    0.08\n",
      "Name: through_recommendations, dtype: float64\n",
      "\n",
      "No    68.74\n",
      "Yes   31.26\n",
      "Name: mastering_interview, dtype: float64\n",
      "\n"
     ]
    }
   ],
   "source": [
    "df_bin = df[['do_not_email', 'do_not_call', 'search', 'newspaper_article', 'x_education_forums', \n",
    "           'newspaper', 'digital_advertisement', 'through_recommendations', 'mastering_interview']]\n",
    "\n",
    "# see value counts for each of the columns\n",
    "for i in df_bin.columns:\n",
    "    x = (df_bin[i].value_counts(normalize = True)) * 100\n",
    "    print(x)\n",
    "    print()"
   ]
  },
  {
   "cell_type": "code",
   "execution_count": 46,
   "id": "60eb0478",
   "metadata": {},
   "outputs": [],
   "source": [
    "#dropping insignificant columns\n",
    "drop_bin = ['do_not_call', 'search', 'newspaper_article', 'x_education_forums', \n",
    "           'newspaper', 'digital_advertisement', 'through_recommendations', 'magazine', 'courses_updates', \n",
    "           'supply_chain_content_updates', 'dm_content_updates', 'cheque_payment']\n",
    "\n",
    "df.drop(drop_bin, axis = 1, inplace = True)"
   ]
  },
  {
   "cell_type": "code",
   "execution_count": 47,
   "id": "cd7d6e01",
   "metadata": {},
   "outputs": [
    {
     "data": {
      "text/plain": [
       "(9240, 12)"
      ]
     },
     "execution_count": 47,
     "metadata": {},
     "output_type": "execute_result"
    }
   ],
   "source": [
    "df.shape"
   ]
  },
  {
   "cell_type": "code",
   "execution_count": 48,
   "id": "a1bdbcf5",
   "metadata": {},
   "outputs": [
    {
     "name": "stdout",
     "output_type": "stream",
     "text": [
      "<class 'pandas.core.frame.DataFrame'>\n",
      "Int64Index: 9240 entries, 0 to 9239\n",
      "Data columns (total 12 columns):\n",
      " #   Column                Non-Null Count  Dtype  \n",
      "---  ------                --------------  -----  \n",
      " 0   lead_number           9240 non-null   int64  \n",
      " 1   lead_origin           9240 non-null   object \n",
      " 2   lead_source           9240 non-null   object \n",
      " 3   do_not_email          9240 non-null   object \n",
      " 4   converted             9240 non-null   int64  \n",
      " 5   total_visits          9103 non-null   float64\n",
      " 6   time_on_website       9240 non-null   int64  \n",
      " 7   page_views_per_visit  9103 non-null   float64\n",
      " 8   specialization        9240 non-null   object \n",
      " 9   occupation            9240 non-null   object \n",
      " 10  city                  9240 non-null   object \n",
      " 11  mastering_interview   9240 non-null   object \n",
      "dtypes: float64(2), int64(3), object(7)\n",
      "memory usage: 938.4+ KB\n"
     ]
    }
   ],
   "source": [
    "df.info()"
   ]
  },
  {
   "cell_type": "markdown",
   "id": "c9f10f6a",
   "metadata": {},
   "source": [
    "### Handle Numerical columns"
   ]
  },
  {
   "cell_type": "code",
   "execution_count": 49,
   "id": "fddcfff6",
   "metadata": {},
   "outputs": [
    {
     "name": "stdout",
     "output_type": "stream",
     "text": [
      "<class 'pandas.core.frame.DataFrame'>\n",
      "Int64Index: 9240 entries, 0 to 9239\n",
      "Data columns (total 12 columns):\n",
      " #   Column                Non-Null Count  Dtype  \n",
      "---  ------                --------------  -----  \n",
      " 0   lead_number           9240 non-null   object \n",
      " 1   lead_origin           9240 non-null   object \n",
      " 2   lead_source           9240 non-null   object \n",
      " 3   do_not_email          9240 non-null   object \n",
      " 4   converted             9240 non-null   int64  \n",
      " 5   total_visits          9240 non-null   int64  \n",
      " 6   time_on_website       9240 non-null   int64  \n",
      " 7   page_views_per_visit  9240 non-null   float64\n",
      " 8   specialization        9240 non-null   object \n",
      " 9   occupation            9240 non-null   object \n",
      " 10  city                  9240 non-null   object \n",
      " 11  mastering_interview   9240 non-null   object \n",
      "dtypes: float64(1), int64(3), object(8)\n",
      "memory usage: 938.4+ KB\n"
     ]
    }
   ],
   "source": [
    "df.lead_number = df.lead_number.astype('object')\n",
    "df.total_visits.fillna(df.total_visits.median(), inplace=True)\n",
    "df.total_visits = df.total_visits.astype('int')\n",
    "df.page_views_per_visit.fillna(df.page_views_per_visit.median(), inplace=True)\n",
    "df.info()"
   ]
  },
  {
   "cell_type": "markdown",
   "id": "576487fa",
   "metadata": {},
   "source": [
    "## **SCRUTINY**\n",
    "`lead_number` column is a unique identifier for each leads and the numbers in the column can hamper with our model hence, We should change it to object.\n",
    "For `total_visits` column we need to handle the missing values, and can convert the datatype to integer since visits can't be decimal.\n",
    "Same for `page_views_per_visit` column we need to handle the missing values."
   ]
  },
  {
   "cell_type": "markdown",
   "id": "9f0ee74d",
   "metadata": {},
   "source": [
    "# Exploratory Data Analysis"
   ]
  },
  {
   "cell_type": "code",
   "execution_count": 50,
   "id": "6a85f39a",
   "metadata": {},
   "outputs": [
    {
     "data": {
      "text/plain": [
       "Index(['lead_number', 'lead_origin', 'lead_source', 'do_not_email',\n",
       "       'converted', 'total_visits', 'time_on_website', 'page_views_per_visit',\n",
       "       'specialization', 'occupation', 'city', 'mastering_interview'],\n",
       "      dtype='object')"
      ]
     },
     "execution_count": 50,
     "metadata": {},
     "output_type": "execute_result"
    }
   ],
   "source": [
    "df.columns"
   ]
  },
  {
   "cell_type": "code",
   "execution_count": 51,
   "id": "cce7f86b",
   "metadata": {},
   "outputs": [
    {
     "data": {
      "text/plain": [
       "Text(0.5, 1.0, 'Time spent on website')"
      ]
     },
     "execution_count": 51,
     "metadata": {},
     "output_type": "execute_result"
    },
    {
     "data": {
      "image/png": "[encoded data removed]",
      "text/plain": [
       "<Figure size 432x288 with 1 Axes>"
      ]
     },
     "metadata": {
      "needs_background": "light"
     },
     "output_type": "display_data"
    }
   ],
   "source": [
    "plt.hist(df.time_on_website, bins = 20)\n",
    "plt.title('Time spent on website')"
   ]
  },
  {
   "cell_type": "markdown",
   "id": "69c1edc6",
   "metadata": {},
   "source": [
    "The peak seems unusually high, we will check for outliers in similar columns."
   ]
  },
  {
   "cell_type": "code",
   "execution_count": 52,
   "id": "93913069",
   "metadata": {},
   "outputs": [
    {
     "data": {
      "image/png": "[encoded data removed]",
      "text/plain": [
       "<Figure size 720x1440 with 3 Axes>"
      ]
     },
     "metadata": {
      "needs_background": "light"
     },
     "output_type": "display_data"
    }
   ],
   "source": [
    "plt.figure(figsize = (10, 20))\n",
    "\n",
    "plt.subplot(3,1,1)\n",
    "sns.boxplot(df.time_on_website)\n",
    "\n",
    "plt.subplot(3,1,2)\n",
    "sns.boxplot(df.total_visits)\n",
    "\n",
    "plt.subplot(3,1,3)\n",
    "sns.boxplot(df.page_views_per_visit)\n",
    "plt.show()"
   ]
  },
  {
   "cell_type": "markdown",
   "id": "ef3b90af",
   "metadata": {},
   "source": [
    "**Scrutiny**\n",
    "\n",
    "* Looking at both the box plots, there are upper bound outliers in both `total_visits` and `page_views_per_visit` columns."
   ]
  },
  {
   "cell_type": "markdown",
   "id": "e6851ceb",
   "metadata": {},
   "source": [
    "### Categorical columns"
   ]
  },
  {
   "cell_type": "code",
   "execution_count": 53,
   "id": "ead753c4",
   "metadata": {},
   "outputs": [
    {
     "data": {
      "text/plain": [
       "Index(['lead_number', 'lead_origin', 'lead_source', 'do_not_email',\n",
       "       'converted', 'total_visits', 'time_on_website', 'page_views_per_visit',\n",
       "       'specialization', 'occupation', 'city', 'mastering_interview'],\n",
       "      dtype='object')"
      ]
     },
     "execution_count": 53,
     "metadata": {},
     "output_type": "execute_result"
    }
   ],
   "source": [
    "df.columns"
   ]
  },
  {
   "cell_type": "code",
   "execution_count": 54,
   "id": "060279d1",
   "metadata": {},
   "outputs": [
    {
     "data": {
      "image/png": "[encoded data removed]",
      "text/plain": [
       "<Figure size 1008x720 with 1 Axes>"
      ]
     },
     "metadata": {
      "needs_background": "light"
     },
     "output_type": "display_data"
    }
   ],
   "source": [
    "plt.figure(figsize = (14, 10))\n",
    "\n",
    "df.groupby('lead_origin')['lead_number'].count().sort_values(ascending = False).plot( kind='barh', width = 0.8)\n",
    "plt.show()"
   ]
  },
  {
   "cell_type": "markdown",
   "id": "0ff8a3d6",
   "metadata": {},
   "source": [
    "# Lead Source"
   ]
  },
  {
   "cell_type": "code",
   "execution_count": 55,
   "id": "a5ed2154",
   "metadata": {},
   "outputs": [
    {
     "data": {
      "image/png": "[encoded data removed]",
      "text/plain": [
       "<Figure size 1008x720 with 1 Axes>"
      ]
     },
     "metadata": {
      "needs_background": "light"
     },
     "output_type": "display_data"
    }
   ],
   "source": [
    "plt.figure(figsize = (14, 10))\n",
    "\n",
    "df.groupby('lead_source')['lead_number'].count().sort_values(ascending = False).plot(kind= 'barh', width = 0.8)\n",
    "plt.show()"
   ]
  },
  {
   "cell_type": "markdown",
   "id": "8f2ae1df",
   "metadata": {},
   "source": [
    "# Specialisation"
   ]
  },
  {
   "cell_type": "code",
   "execution_count": 56,
   "id": "5cc60e08",
   "metadata": {},
   "outputs": [
    {
     "data": {
      "image/png": "[encoded data removed]",
      "text/plain": [
       "<Figure size 720x576 with 1 Axes>"
      ]
     },
     "metadata": {
      "needs_background": "light"
     },
     "output_type": "display_data"
    }
   ],
   "source": [
    "plt.figure(figsize = (10, 8))\n",
    "\n",
    "df.groupby('specialization')['lead_number'].count().sort_values(ascending = False).plot(kind= 'barh', width = 0.8) \n",
    "plt.show()"
   ]
  },
  {
   "cell_type": "markdown",
   "id": "e8782fb3",
   "metadata": {},
   "source": [
    "# Occupation"
   ]
  },
  {
   "cell_type": "code",
   "execution_count": 57,
   "id": "4cff506d",
   "metadata": {},
   "outputs": [
    {
     "data": {
      "image/png": "[encoded data removed]",
      "text/plain": [
       "<Figure size 720x576 with 1 Axes>"
      ]
     },
     "metadata": {
      "needs_background": "light"
     },
     "output_type": "display_data"
    }
   ],
   "source": [
    "plt.figure(figsize = (10, 8))\n",
    "\n",
    "df.groupby('occupation')['lead_number'].count().sort_values(ascending = False).plot(kind= 'barh', width = 0.8) \n",
    "plt.show()"
   ]
  },
  {
   "cell_type": "markdown",
   "id": "2e5037d4",
   "metadata": {},
   "source": [
    "# CITY"
   ]
  },
  {
   "cell_type": "code",
   "execution_count": 58,
   "id": "7449eeb0",
   "metadata": {},
   "outputs": [
    {
     "data": {
      "image/png": "[encoded data removed]",
      "text/plain": [
       "<Figure size 720x576 with 1 Axes>"
      ]
     },
     "metadata": {
      "needs_background": "light"
     },
     "output_type": "display_data"
    }
   ],
   "source": [
    "plt.figure(figsize = (10, 8))\n",
    "\n",
    "df.groupby('city')['lead_number'].count().sort_values(ascending = False).plot(kind= 'barh', width = 0.8) \n",
    "plt.show()"
   ]
  },
  {
   "cell_type": "markdown",
   "id": "f2dbf023",
   "metadata": {},
   "source": [
    "# DO NOT EMAIL"
   ]
  },
  {
   "cell_type": "code",
   "execution_count": 59,
   "id": "da930478",
   "metadata": {},
   "outputs": [
    {
     "data": {
      "image/png": "[encoded data removed]",
      "text/plain": [
       "<Figure size 720x576 with 1 Axes>"
      ]
     },
     "metadata": {
      "needs_background": "light"
     },
     "output_type": "display_data"
    }
   ],
   "source": [
    "plt.figure(figsize = (10, 8))\n",
    "\n",
    "df.groupby('do_not_email')['lead_number'].count().sort_values(ascending = False).plot(kind= 'barh', width = 0.8) \n",
    "plt.show()"
   ]
  },
  {
   "cell_type": "markdown",
   "id": "dbfc5eec",
   "metadata": {},
   "source": [
    "## Data Preparation"
   ]
  },
  {
   "cell_type": "markdown",
   "id": "98de6613",
   "metadata": {},
   "source": [
    "We have only 2 binary columns: `do_not_email` & `mastering_interview`"
   ]
  },
  {
   "cell_type": "code",
   "execution_count": 60,
   "id": "19ac24c2",
   "metadata": {},
   "outputs": [
    {
     "data": {
      "text/html": [
       "<div>\n",
       "<style scoped>\n",
       "    .dataframe tbody tr th:only-of-type {\n",
       "        vertical-align: middle;\n",
       "    }\n",
       "\n",
       "    .dataframe tbody tr th {\n",
       "        vertical-align: top;\n",
       "    }\n",
       "\n",
       "    .dataframe thead th {\n",
       "        text-align: right;\n",
       "    }\n",
       "</style>\n",
       "<table border=\"1\" class=\"dataframe\">\n",
       "  <thead>\n",
       "    <tr style=\"text-align: right;\">\n",
       "      <th></th>\n",
       "      <th>lead_number</th>\n",
       "      <th>lead_origin</th>\n",
       "      <th>lead_source</th>\n",
       "      <th>do_not_email</th>\n",
       "      <th>converted</th>\n",
       "      <th>total_visits</th>\n",
       "      <th>time_on_website</th>\n",
       "      <th>page_views_per_visit</th>\n",
       "      <th>specialization</th>\n",
       "      <th>occupation</th>\n",
       "      <th>city</th>\n",
       "      <th>mastering_interview</th>\n",
       "    </tr>\n",
       "  </thead>\n",
       "  <tbody>\n",
       "    <tr>\n",
       "      <th>0</th>\n",
       "      <td>660737</td>\n",
       "      <td>API</td>\n",
       "      <td>Olark Chat</td>\n",
       "      <td>0</td>\n",
       "      <td>0</td>\n",
       "      <td>0</td>\n",
       "      <td>0</td>\n",
       "      <td>0.00</td>\n",
       "      <td>Industry Specializations</td>\n",
       "      <td>Unemployed</td>\n",
       "      <td>Mumbai</td>\n",
       "      <td>0</td>\n",
       "    </tr>\n",
       "    <tr>\n",
       "      <th>1</th>\n",
       "      <td>660728</td>\n",
       "      <td>API</td>\n",
       "      <td>Organic Search</td>\n",
       "      <td>0</td>\n",
       "      <td>0</td>\n",
       "      <td>5</td>\n",
       "      <td>674</td>\n",
       "      <td>2.50</td>\n",
       "      <td>Management Specializations</td>\n",
       "      <td>Unemployed</td>\n",
       "      <td>Non-MH Cities</td>\n",
       "      <td>0</td>\n",
       "    </tr>\n",
       "    <tr>\n",
       "      <th>2</th>\n",
       "      <td>660727</td>\n",
       "      <td>Landing Page Submission</td>\n",
       "      <td>Direct Traffic</td>\n",
       "      <td>0</td>\n",
       "      <td>1</td>\n",
       "      <td>2</td>\n",
       "      <td>1532</td>\n",
       "      <td>2.00</td>\n",
       "      <td>Business Specializations</td>\n",
       "      <td>Student and Others</td>\n",
       "      <td>Mumbai</td>\n",
       "      <td>1</td>\n",
       "    </tr>\n",
       "    <tr>\n",
       "      <th>3</th>\n",
       "      <td>660719</td>\n",
       "      <td>Landing Page Submission</td>\n",
       "      <td>Direct Traffic</td>\n",
       "      <td>0</td>\n",
       "      <td>0</td>\n",
       "      <td>1</td>\n",
       "      <td>305</td>\n",
       "      <td>1.00</td>\n",
       "      <td>Industry Specializations</td>\n",
       "      <td>Unemployed</td>\n",
       "      <td>Mumbai</td>\n",
       "      <td>0</td>\n",
       "    </tr>\n",
       "    <tr>\n",
       "      <th>4</th>\n",
       "      <td>660681</td>\n",
       "      <td>Landing Page Submission</td>\n",
       "      <td>Google</td>\n",
       "      <td>0</td>\n",
       "      <td>1</td>\n",
       "      <td>2</td>\n",
       "      <td>1428</td>\n",
       "      <td>1.00</td>\n",
       "      <td>Industry Specializations</td>\n",
       "      <td>Unemployed</td>\n",
       "      <td>Mumbai</td>\n",
       "      <td>0</td>\n",
       "    </tr>\n",
       "  </tbody>\n",
       "</table>\n",
       "</div>"
      ],
      "text/plain": [
       "  lead_number              lead_origin     lead_source  do_not_email  \\\n",
       "0      660737                      API      Olark Chat             0   \n",
       "1      660728                      API  Organic Search             0   \n",
       "2      660727  Landing Page Submission  Direct Traffic             0   \n",
       "3      660719  Landing Page Submission  Direct Traffic             0   \n",
       "4      660681  Landing Page Submission          Google             0   \n",
       "\n",
       "   converted  total_visits  time_on_website  page_views_per_visit  \\\n",
       "0          0             0                0                  0.00   \n",
       "1          0             5              674                  2.50   \n",
       "2          1             2             1532                  2.00   \n",
       "3          0             1              305                  1.00   \n",
       "4          1             2             1428                  1.00   \n",
       "\n",
       "               specialization          occupation           city  \\\n",
       "0    Industry Specializations          Unemployed         Mumbai   \n",
       "1  Management Specializations          Unemployed  Non-MH Cities   \n",
       "2    Business Specializations  Student and Others         Mumbai   \n",
       "3    Industry Specializations          Unemployed         Mumbai   \n",
       "4    Industry Specializations          Unemployed         Mumbai   \n",
       "\n",
       "   mastering_interview  \n",
       "0                    0  \n",
       "1                    0  \n",
       "2                    1  \n",
       "3                    0  \n",
       "4                    0  "
      ]
     },
     "execution_count": 60,
     "metadata": {},
     "output_type": "execute_result"
    }
   ],
   "source": [
    "binlist = ['do_not_email', 'mastering_interview']\n",
    "\n",
    "def binary_map(x):\n",
    "    return x.map({'Yes': 1, \"No\": 0})\n",
    "\n",
    "df[binlist] = df[binlist].apply(binary_map)\n",
    "df.head()"
   ]
  },
  {
   "cell_type": "markdown",
   "id": "1ea17357",
   "metadata": {},
   "source": [
    "### Creating dummy variable for categorical columns\n",
    "\n",
    "Categorical columns are: `lead_origin`, `lead_source`, `specialization`, `occupation`, `city`"
   ]
  },
  {
   "cell_type": "code",
   "execution_count": 61,
   "id": "1d6f906d",
   "metadata": {},
   "outputs": [
    {
     "data": {
      "text/html": [
       "<div>\n",
       "<style scoped>\n",
       "    .dataframe tbody tr th:only-of-type {\n",
       "        vertical-align: middle;\n",
       "    }\n",
       "\n",
       "    .dataframe tbody tr th {\n",
       "        vertical-align: top;\n",
       "    }\n",
       "\n",
       "    .dataframe thead th {\n",
       "        text-align: right;\n",
       "    }\n",
       "</style>\n",
       "<table border=\"1\" class=\"dataframe\">\n",
       "  <thead>\n",
       "    <tr style=\"text-align: right;\">\n",
       "      <th></th>\n",
       "      <th>lead_number</th>\n",
       "      <th>do_not_email</th>\n",
       "      <th>converted</th>\n",
       "      <th>total_visits</th>\n",
       "      <th>time_on_website</th>\n",
       "      <th>page_views_per_visit</th>\n",
       "      <th>mastering_interview</th>\n",
       "      <th>lead_origin_Landing Page Submission</th>\n",
       "      <th>lead_origin_Lead Add Form and Others</th>\n",
       "      <th>lead_source_Google</th>\n",
       "      <th>lead_source_Olark Chat</th>\n",
       "      <th>lead_source_Organic Search</th>\n",
       "      <th>lead_source_Other Social Sites</th>\n",
       "      <th>lead_source_Reference</th>\n",
       "      <th>specialization_Industry Specializations</th>\n",
       "      <th>specialization_Management Specializations</th>\n",
       "      <th>occupation_Unemployed</th>\n",
       "      <th>occupation_Working Professional</th>\n",
       "      <th>city_Mumbai</th>\n",
       "      <th>city_Non-MH Cities</th>\n",
       "    </tr>\n",
       "  </thead>\n",
       "  <tbody>\n",
       "    <tr>\n",
       "      <th>0</th>\n",
       "      <td>660737</td>\n",
       "      <td>0</td>\n",
       "      <td>0</td>\n",
       "      <td>0</td>\n",
       "      <td>0</td>\n",
       "      <td>0.00</td>\n",
       "      <td>0</td>\n",
       "      <td>0</td>\n",
       "      <td>0</td>\n",
       "      <td>0</td>\n",
       "      <td>1</td>\n",
       "      <td>0</td>\n",
       "      <td>0</td>\n",
       "      <td>0</td>\n",
       "      <td>1</td>\n",
       "      <td>0</td>\n",
       "      <td>1</td>\n",
       "      <td>0</td>\n",
       "      <td>1</td>\n",
       "      <td>0</td>\n",
       "    </tr>\n",
       "    <tr>\n",
       "      <th>1</th>\n",
       "      <td>660728</td>\n",
       "      <td>0</td>\n",
       "      <td>0</td>\n",
       "      <td>5</td>\n",
       "      <td>674</td>\n",
       "      <td>2.50</td>\n",
       "      <td>0</td>\n",
       "      <td>0</td>\n",
       "      <td>0</td>\n",
       "      <td>0</td>\n",
       "      <td>0</td>\n",
       "      <td>1</td>\n",
       "      <td>0</td>\n",
       "      <td>0</td>\n",
       "      <td>0</td>\n",
       "      <td>1</td>\n",
       "      <td>1</td>\n",
       "      <td>0</td>\n",
       "      <td>0</td>\n",
       "      <td>1</td>\n",
       "    </tr>\n",
       "    <tr>\n",
       "      <th>2</th>\n",
       "      <td>660727</td>\n",
       "      <td>0</td>\n",
       "      <td>1</td>\n",
       "      <td>2</td>\n",
       "      <td>1532</td>\n",
       "      <td>2.00</td>\n",
       "      <td>1</td>\n",
       "      <td>1</td>\n",
       "      <td>0</td>\n",
       "      <td>0</td>\n",
       "      <td>0</td>\n",
       "      <td>0</td>\n",
       "      <td>0</td>\n",
       "      <td>0</td>\n",
       "      <td>0</td>\n",
       "      <td>0</td>\n",
       "      <td>0</td>\n",
       "      <td>0</td>\n",
       "      <td>1</td>\n",
       "      <td>0</td>\n",
       "    </tr>\n",
       "    <tr>\n",
       "      <th>3</th>\n",
       "      <td>660719</td>\n",
       "      <td>0</td>\n",
       "      <td>0</td>\n",
       "      <td>1</td>\n",
       "      <td>305</td>\n",
       "      <td>1.00</td>\n",
       "      <td>0</td>\n",
       "      <td>1</td>\n",
       "      <td>0</td>\n",
       "      <td>0</td>\n",
       "      <td>0</td>\n",
       "      <td>0</td>\n",
       "      <td>0</td>\n",
       "      <td>0</td>\n",
       "      <td>1</td>\n",
       "      <td>0</td>\n",
       "      <td>1</td>\n",
       "      <td>0</td>\n",
       "      <td>1</td>\n",
       "      <td>0</td>\n",
       "    </tr>\n",
       "    <tr>\n",
       "      <th>4</th>\n",
       "      <td>660681</td>\n",
       "      <td>0</td>\n",
       "      <td>1</td>\n",
       "      <td>2</td>\n",
       "      <td>1428</td>\n",
       "      <td>1.00</td>\n",
       "      <td>0</td>\n",
       "      <td>1</td>\n",
       "      <td>0</td>\n",
       "      <td>1</td>\n",
       "      <td>0</td>\n",
       "      <td>0</td>\n",
       "      <td>0</td>\n",
       "      <td>0</td>\n",
       "      <td>1</td>\n",
       "      <td>0</td>\n",
       "      <td>1</td>\n",
       "      <td>0</td>\n",
       "      <td>1</td>\n",
       "      <td>0</td>\n",
       "    </tr>\n",
       "  </tbody>\n",
       "</table>\n",
       "</div>"
      ],
      "text/plain": [
       "  lead_number  do_not_email  converted  total_visits  time_on_website  \\\n",
       "0      660737             0          0             0                0   \n",
       "1      660728             0          0             5              674   \n",
       "2      660727             0          1             2             1532   \n",
       "3      660719             0          0             1              305   \n",
       "4      660681             0          1             2             1428   \n",
       "\n",
       "   page_views_per_visit  mastering_interview  \\\n",
       "0                  0.00                    0   \n",
       "1                  2.50                    0   \n",
       "2                  2.00                    1   \n",
       "3                  1.00                    0   \n",
       "4                  1.00                    0   \n",
       "\n",
       "   lead_origin_Landing Page Submission  lead_origin_Lead Add Form and Others  \\\n",
       "0                                    0                                     0   \n",
       "1                                    0                                     0   \n",
       "2                                    1                                     0   \n",
       "3                                    1                                     0   \n",
       "4                                    1                                     0   \n",
       "\n",
       "   lead_source_Google  lead_source_Olark Chat  lead_source_Organic Search  \\\n",
       "0                   0                       1                           0   \n",
       "1                   0                       0                           1   \n",
       "2                   0                       0                           0   \n",
       "3                   0                       0                           0   \n",
       "4                   1                       0                           0   \n",
       "\n",
       "   lead_source_Other Social Sites  lead_source_Reference  \\\n",
       "0                               0                      0   \n",
       "1                               0                      0   \n",
       "2                               0                      0   \n",
       "3                               0                      0   \n",
       "4                               0                      0   \n",
       "\n",
       "   specialization_Industry Specializations  \\\n",
       "0                                        1   \n",
       "1                                        0   \n",
       "2                                        0   \n",
       "3                                        1   \n",
       "4                                        1   \n",
       "\n",
       "   specialization_Management Specializations  occupation_Unemployed  \\\n",
       "0                                          0                      1   \n",
       "1                                          1                      1   \n",
       "2                                          0                      0   \n",
       "3                                          0                      1   \n",
       "4                                          0                      1   \n",
       "\n",
       "   occupation_Working Professional  city_Mumbai  city_Non-MH Cities  \n",
       "0                                0            1                   0  \n",
       "1                                0            0                   1  \n",
       "2                                0            1                   0  \n",
       "3                                0            1                   0  \n",
       "4                                0            1                   0  "
      ]
     },
     "execution_count": 61,
     "metadata": {},
     "output_type": "execute_result"
    }
   ],
   "source": [
    "dummy1 = pd.get_dummies(df[['lead_origin', 'lead_source', 'specialization', 'occupation', 'city']], drop_first = True)\n",
    "df = pd.concat([df, dummy1], axis=1)\n",
    "df.drop(['lead_origin', 'lead_source', 'specialization', 'occupation', 'city'], axis = 1, inplace = True)\n",
    "df.head()"
   ]
  },
  {
   "cell_type": "markdown",
   "id": "2c1527e1",
   "metadata": {},
   "source": [
    "Here what we did was turn the binary or 2 category containing column to 1 or 0 according to their respective data entry.\n",
    "Also we got dummy variables for our other categorical columns including `do_not_email` & `mastering_interview`"
   ]
  },
  {
   "cell_type": "markdown",
   "id": "11b6d1c7",
   "metadata": {},
   "source": [
    "### Test-Train Split"
   ]
  },
  {
   "cell_type": "code",
   "execution_count": 62,
   "id": "68d18a58",
   "metadata": {},
   "outputs": [
    {
     "data": {
      "text/html": [
       "<div>\n",
       "<style scoped>\n",
       "    .dataframe tbody tr th:only-of-type {\n",
       "        vertical-align: middle;\n",
       "    }\n",
       "\n",
       "    .dataframe tbody tr th {\n",
       "        vertical-align: top;\n",
       "    }\n",
       "\n",
       "    .dataframe thead th {\n",
       "        text-align: right;\n",
       "    }\n",
       "</style>\n",
       "<table border=\"1\" class=\"dataframe\">\n",
       "  <thead>\n",
       "    <tr style=\"text-align: right;\">\n",
       "      <th></th>\n",
       "      <th>do_not_email</th>\n",
       "      <th>total_visits</th>\n",
       "      <th>time_on_website</th>\n",
       "      <th>page_views_per_visit</th>\n",
       "      <th>mastering_interview</th>\n",
       "      <th>lead_origin_Landing Page Submission</th>\n",
       "      <th>lead_origin_Lead Add Form and Others</th>\n",
       "      <th>lead_source_Google</th>\n",
       "      <th>lead_source_Olark Chat</th>\n",
       "      <th>lead_source_Organic Search</th>\n",
       "      <th>lead_source_Other Social Sites</th>\n",
       "      <th>lead_source_Reference</th>\n",
       "      <th>specialization_Industry Specializations</th>\n",
       "      <th>specialization_Management Specializations</th>\n",
       "      <th>occupation_Unemployed</th>\n",
       "      <th>occupation_Working Professional</th>\n",
       "      <th>city_Mumbai</th>\n",
       "      <th>city_Non-MH Cities</th>\n",
       "    </tr>\n",
       "  </thead>\n",
       "  <tbody>\n",
       "    <tr>\n",
       "      <th>0</th>\n",
       "      <td>0</td>\n",
       "      <td>0</td>\n",
       "      <td>0</td>\n",
       "      <td>0.00</td>\n",
       "      <td>0</td>\n",
       "      <td>0</td>\n",
       "      <td>0</td>\n",
       "      <td>0</td>\n",
       "      <td>1</td>\n",
       "      <td>0</td>\n",
       "      <td>0</td>\n",
       "      <td>0</td>\n",
       "      <td>1</td>\n",
       "      <td>0</td>\n",
       "      <td>1</td>\n",
       "      <td>0</td>\n",
       "      <td>1</td>\n",
       "      <td>0</td>\n",
       "    </tr>\n",
       "    <tr>\n",
       "      <th>1</th>\n",
       "      <td>0</td>\n",
       "      <td>5</td>\n",
       "      <td>674</td>\n",
       "      <td>2.50</td>\n",
       "      <td>0</td>\n",
       "      <td>0</td>\n",
       "      <td>0</td>\n",
       "      <td>0</td>\n",
       "      <td>0</td>\n",
       "      <td>1</td>\n",
       "      <td>0</td>\n",
       "      <td>0</td>\n",
       "      <td>0</td>\n",
       "      <td>1</td>\n",
       "      <td>1</td>\n",
       "      <td>0</td>\n",
       "      <td>0</td>\n",
       "      <td>1</td>\n",
       "    </tr>\n",
       "    <tr>\n",
       "      <th>2</th>\n",
       "      <td>0</td>\n",
       "      <td>2</td>\n",
       "      <td>1532</td>\n",
       "      <td>2.00</td>\n",
       "      <td>1</td>\n",
       "      <td>1</td>\n",
       "      <td>0</td>\n",
       "      <td>0</td>\n",
       "      <td>0</td>\n",
       "      <td>0</td>\n",
       "      <td>0</td>\n",
       "      <td>0</td>\n",
       "      <td>0</td>\n",
       "      <td>0</td>\n",
       "      <td>0</td>\n",
       "      <td>0</td>\n",
       "      <td>1</td>\n",
       "      <td>0</td>\n",
       "    </tr>\n",
       "    <tr>\n",
       "      <th>3</th>\n",
       "      <td>0</td>\n",
       "      <td>1</td>\n",
       "      <td>305</td>\n",
       "      <td>1.00</td>\n",
       "      <td>0</td>\n",
       "      <td>1</td>\n",
       "      <td>0</td>\n",
       "      <td>0</td>\n",
       "      <td>0</td>\n",
       "      <td>0</td>\n",
       "      <td>0</td>\n",
       "      <td>0</td>\n",
       "      <td>1</td>\n",
       "      <td>0</td>\n",
       "      <td>1</td>\n",
       "      <td>0</td>\n",
       "      <td>1</td>\n",
       "      <td>0</td>\n",
       "    </tr>\n",
       "    <tr>\n",
       "      <th>4</th>\n",
       "      <td>0</td>\n",
       "      <td>2</td>\n",
       "      <td>1428</td>\n",
       "      <td>1.00</td>\n",
       "      <td>0</td>\n",
       "      <td>1</td>\n",
       "      <td>0</td>\n",
       "      <td>1</td>\n",
       "      <td>0</td>\n",
       "      <td>0</td>\n",
       "      <td>0</td>\n",
       "      <td>0</td>\n",
       "      <td>1</td>\n",
       "      <td>0</td>\n",
       "      <td>1</td>\n",
       "      <td>0</td>\n",
       "      <td>1</td>\n",
       "      <td>0</td>\n",
       "    </tr>\n",
       "  </tbody>\n",
       "</table>\n",
       "</div>"
      ],
      "text/plain": [
       "   do_not_email  total_visits  time_on_website  page_views_per_visit  \\\n",
       "0             0             0                0                  0.00   \n",
       "1             0             5              674                  2.50   \n",
       "2             0             2             1532                  2.00   \n",
       "3             0             1              305                  1.00   \n",
       "4             0             2             1428                  1.00   \n",
       "\n",
       "   mastering_interview  lead_origin_Landing Page Submission  \\\n",
       "0                    0                                    0   \n",
       "1                    0                                    0   \n",
       "2                    1                                    1   \n",
       "3                    0                                    1   \n",
       "4                    0                                    1   \n",
       "\n",
       "   lead_origin_Lead Add Form and Others  lead_source_Google  \\\n",
       "0                                     0                   0   \n",
       "1                                     0                   0   \n",
       "2                                     0                   0   \n",
       "3                                     0                   0   \n",
       "4                                     0                   1   \n",
       "\n",
       "   lead_source_Olark Chat  lead_source_Organic Search  \\\n",
       "0                       1                           0   \n",
       "1                       0                           1   \n",
       "2                       0                           0   \n",
       "3                       0                           0   \n",
       "4                       0                           0   \n",
       "\n",
       "   lead_source_Other Social Sites  lead_source_Reference  \\\n",
       "0                               0                      0   \n",
       "1                               0                      0   \n",
       "2                               0                      0   \n",
       "3                               0                      0   \n",
       "4                               0                      0   \n",
       "\n",
       "   specialization_Industry Specializations  \\\n",
       "0                                        1   \n",
       "1                                        0   \n",
       "2                                        0   \n",
       "3                                        1   \n",
       "4                                        1   \n",
       "\n",
       "   specialization_Management Specializations  occupation_Unemployed  \\\n",
       "0                                          0                      1   \n",
       "1                                          1                      1   \n",
       "2                                          0                      0   \n",
       "3                                          0                      1   \n",
       "4                                          0                      1   \n",
       "\n",
       "   occupation_Working Professional  city_Mumbai  city_Non-MH Cities  \n",
       "0                                0            1                   0  \n",
       "1                                0            0                   1  \n",
       "2                                0            1                   0  \n",
       "3                                0            1                   0  \n",
       "4                                0            1                   0  "
      ]
     },
     "execution_count": 62,
     "metadata": {},
     "output_type": "execute_result"
    }
   ],
   "source": [
    "# Putting feature variable to X\n",
    "X = df.drop(['lead_number', 'converted'], axis=1)\n",
    "\n",
    "X.head()"
   ]
  },
  {
   "cell_type": "code",
   "execution_count": 63,
   "id": "9b07e3ea",
   "metadata": {},
   "outputs": [
    {
     "data": {
      "text/plain": [
       "0    0\n",
       "1    0\n",
       "2    1\n",
       "3    0\n",
       "4    1\n",
       "Name: converted, dtype: int64"
      ]
     },
     "execution_count": 63,
     "metadata": {},
     "output_type": "execute_result"
    }
   ],
   "source": [
    "# Putting response variable to y\n",
    "y = df['converted']\n",
    "\n",
    "y.head()"
   ]
  },
  {
   "cell_type": "code",
   "execution_count": 64,
   "id": "d49addcb",
   "metadata": {},
   "outputs": [],
   "source": [
    "# Splitting the data into train and test\n",
    "X_train, X_test, y_train, y_test = train_test_split(X, y, train_size=0.7, random_state=100)"
   ]
  },
  {
   "cell_type": "markdown",
   "id": "2241a1d2",
   "metadata": {},
   "source": [
    "### Feature Scaling"
   ]
  },
  {
   "cell_type": "code",
   "execution_count": 65,
   "id": "a00b6176",
   "metadata": {},
   "outputs": [
    {
     "data": {
      "text/html": [
       "<div>\n",
       "<style scoped>\n",
       "    .dataframe tbody tr th:only-of-type {\n",
       "        vertical-align: middle;\n",
       "    }\n",
       "\n",
       "    .dataframe tbody tr th {\n",
       "        vertical-align: top;\n",
       "    }\n",
       "\n",
       "    .dataframe thead th {\n",
       "        text-align: right;\n",
       "    }\n",
       "</style>\n",
       "<table border=\"1\" class=\"dataframe\">\n",
       "  <thead>\n",
       "    <tr style=\"text-align: right;\">\n",
       "      <th></th>\n",
       "      <th>do_not_email</th>\n",
       "      <th>total_visits</th>\n",
       "      <th>time_on_website</th>\n",
       "      <th>page_views_per_visit</th>\n",
       "      <th>mastering_interview</th>\n",
       "      <th>lead_origin_Landing Page Submission</th>\n",
       "      <th>lead_origin_Lead Add Form and Others</th>\n",
       "      <th>lead_source_Google</th>\n",
       "      <th>lead_source_Olark Chat</th>\n",
       "      <th>lead_source_Organic Search</th>\n",
       "      <th>lead_source_Other Social Sites</th>\n",
       "      <th>lead_source_Reference</th>\n",
       "      <th>specialization_Industry Specializations</th>\n",
       "      <th>specialization_Management Specializations</th>\n",
       "      <th>occupation_Unemployed</th>\n",
       "      <th>occupation_Working Professional</th>\n",
       "      <th>city_Mumbai</th>\n",
       "      <th>city_Non-MH Cities</th>\n",
       "    </tr>\n",
       "  </thead>\n",
       "  <tbody>\n",
       "    <tr>\n",
       "      <th>1871</th>\n",
       "      <td>0</td>\n",
       "      <td>-0.66</td>\n",
       "      <td>-0.89</td>\n",
       "      <td>-1.09</td>\n",
       "      <td>0</td>\n",
       "      <td>0</td>\n",
       "      <td>0</td>\n",
       "      <td>0</td>\n",
       "      <td>1</td>\n",
       "      <td>0</td>\n",
       "      <td>0</td>\n",
       "      <td>0</td>\n",
       "      <td>0</td>\n",
       "      <td>1</td>\n",
       "      <td>1</td>\n",
       "      <td>0</td>\n",
       "      <td>0</td>\n",
       "      <td>1</td>\n",
       "    </tr>\n",
       "    <tr>\n",
       "      <th>6795</th>\n",
       "      <td>0</td>\n",
       "      <td>0.10</td>\n",
       "      <td>0.01</td>\n",
       "      <td>-0.47</td>\n",
       "      <td>1</td>\n",
       "      <td>1</td>\n",
       "      <td>0</td>\n",
       "      <td>0</td>\n",
       "      <td>0</td>\n",
       "      <td>0</td>\n",
       "      <td>0</td>\n",
       "      <td>0</td>\n",
       "      <td>0</td>\n",
       "      <td>1</td>\n",
       "      <td>1</td>\n",
       "      <td>0</td>\n",
       "      <td>0</td>\n",
       "      <td>1</td>\n",
       "    </tr>\n",
       "    <tr>\n",
       "      <th>3516</th>\n",
       "      <td>0</td>\n",
       "      <td>0.29</td>\n",
       "      <td>-0.69</td>\n",
       "      <td>0.07</td>\n",
       "      <td>0</td>\n",
       "      <td>0</td>\n",
       "      <td>0</td>\n",
       "      <td>0</td>\n",
       "      <td>1</td>\n",
       "      <td>0</td>\n",
       "      <td>0</td>\n",
       "      <td>0</td>\n",
       "      <td>1</td>\n",
       "      <td>0</td>\n",
       "      <td>1</td>\n",
       "      <td>0</td>\n",
       "      <td>1</td>\n",
       "      <td>0</td>\n",
       "    </tr>\n",
       "    <tr>\n",
       "      <th>8105</th>\n",
       "      <td>0</td>\n",
       "      <td>0.29</td>\n",
       "      <td>1.37</td>\n",
       "      <td>1.23</td>\n",
       "      <td>0</td>\n",
       "      <td>1</td>\n",
       "      <td>0</td>\n",
       "      <td>1</td>\n",
       "      <td>0</td>\n",
       "      <td>0</td>\n",
       "      <td>0</td>\n",
       "      <td>0</td>\n",
       "      <td>1</td>\n",
       "      <td>0</td>\n",
       "      <td>1</td>\n",
       "      <td>0</td>\n",
       "      <td>1</td>\n",
       "      <td>0</td>\n",
       "    </tr>\n",
       "    <tr>\n",
       "      <th>3934</th>\n",
       "      <td>0</td>\n",
       "      <td>-0.66</td>\n",
       "      <td>-0.89</td>\n",
       "      <td>-1.09</td>\n",
       "      <td>0</td>\n",
       "      <td>0</td>\n",
       "      <td>0</td>\n",
       "      <td>0</td>\n",
       "      <td>1</td>\n",
       "      <td>0</td>\n",
       "      <td>0</td>\n",
       "      <td>0</td>\n",
       "      <td>0</td>\n",
       "      <td>1</td>\n",
       "      <td>1</td>\n",
       "      <td>0</td>\n",
       "      <td>0</td>\n",
       "      <td>0</td>\n",
       "    </tr>\n",
       "  </tbody>\n",
       "</table>\n",
       "</div>"
      ],
      "text/plain": [
       "      do_not_email  total_visits  time_on_website  page_views_per_visit  \\\n",
       "1871             0         -0.66            -0.89                 -1.09   \n",
       "6795             0          0.10             0.01                 -0.47   \n",
       "3516             0          0.29            -0.69                  0.07   \n",
       "8105             0          0.29             1.37                  1.23   \n",
       "3934             0         -0.66            -0.89                 -1.09   \n",
       "\n",
       "      mastering_interview  lead_origin_Landing Page Submission  \\\n",
       "1871                    0                                    0   \n",
       "6795                    1                                    1   \n",
       "3516                    0                                    0   \n",
       "8105                    0                                    1   \n",
       "3934                    0                                    0   \n",
       "\n",
       "      lead_origin_Lead Add Form and Others  lead_source_Google  \\\n",
       "1871                                     0                   0   \n",
       "6795                                     0                   0   \n",
       "3516                                     0                   0   \n",
       "8105                                     0                   1   \n",
       "3934                                     0                   0   \n",
       "\n",
       "      lead_source_Olark Chat  lead_source_Organic Search  \\\n",
       "1871                       1                           0   \n",
       "6795                       0                           0   \n",
       "3516                       1                           0   \n",
       "8105                       0                           0   \n",
       "3934                       1                           0   \n",
       "\n",
       "      lead_source_Other Social Sites  lead_source_Reference  \\\n",
       "1871                               0                      0   \n",
       "6795                               0                      0   \n",
       "3516                               0                      0   \n",
       "8105                               0                      0   \n",
       "3934                               0                      0   \n",
       "\n",
       "      specialization_Industry Specializations  \\\n",
       "1871                                        0   \n",
       "6795                                        0   \n",
       "3516                                        1   \n",
       "8105                                        1   \n",
       "3934                                        0   \n",
       "\n",
       "      specialization_Management Specializations  occupation_Unemployed  \\\n",
       "1871                                          1                      1   \n",
       "6795                                          1                      1   \n",
       "3516                                          0                      1   \n",
       "8105                                          0                      1   \n",
       "3934                                          1                      1   \n",
       "\n",
       "      occupation_Working Professional  city_Mumbai  city_Non-MH Cities  \n",
       "1871                                0            0                   1  \n",
       "6795                                0            0                   1  \n",
       "3516                                0            1                   0  \n",
       "8105                                0            1                   0  \n",
       "3934                                0            0                   0  "
      ]
     },
     "execution_count": 65,
     "metadata": {},
     "output_type": "execute_result"
    }
   ],
   "source": [
    "scaler = StandardScaler()\n",
    "\n",
    "X_train[['total_visits','time_on_website','page_views_per_visit']] = scaler.fit_transform(\n",
    "    X_train[['total_visits','time_on_website','page_views_per_visit']])\n",
    "\n",
    "X_train.head()"
   ]
  },
  {
   "cell_type": "code",
   "execution_count": 66,
   "id": "48357c15",
   "metadata": {},
   "outputs": [
    {
     "data": {
      "text/plain": [
       "38.53896103896104"
      ]
     },
     "execution_count": 66,
     "metadata": {},
     "output_type": "execute_result"
    }
   ],
   "source": [
    "# checking the conversion rate\n",
    "conversion = (sum(df['converted'])/len(df['converted'].index))*100\n",
    "conversion"
   ]
  },
  {
   "cell_type": "markdown",
   "id": "70a45378",
   "metadata": {},
   "source": [
    "The conversion rate is still very low. Maybe we can find some correlations."
   ]
  },
  {
   "cell_type": "code",
   "execution_count": 67,
   "id": "ac83bd76",
   "metadata": {},
   "outputs": [
    {
     "data": {
      "image/png": "[encoded data removed]",
      "text/plain": [
       "<Figure size 1008x720 with 2 Axes>"
      ]
     },
     "metadata": {
      "needs_background": "light"
     },
     "output_type": "display_data"
    }
   ],
   "source": [
    "# Let's see the correlation matrix \n",
    "plt.figure(figsize = (14,10))       \n",
    "sns.heatmap(df.corr(),annot = True, cmap=\"PuBuGn\")\n",
    "plt.show()"
   ]
  },
  {
   "cell_type": "code",
   "execution_count": 68,
   "id": "e541c37b",
   "metadata": {},
   "outputs": [],
   "source": [
    "# Drop highly correlated dummy variables\n",
    "X_test.drop(['lead_origin_Lead Add Form and Others', 'specialization_Industry Specializations', \n",
    "                     'occupation_Working Professional'], axis = 1, inplace = True)\n",
    "\n",
    "X_train.drop(['lead_origin_Lead Add Form and Others', 'specialization_Industry Specializations', \n",
    "                     'occupation_Working Professional'], axis = 1, inplace = True)"
   ]
  },
  {
   "cell_type": "code",
   "execution_count": 69,
   "id": "70ec6939",
   "metadata": {},
   "outputs": [
    {
     "data": {
      "image/png": "[encoded data removed]",
      "text/plain": [
       "<Figure size 1008x720 with 2 Axes>"
      ]
     },
     "metadata": {
      "needs_background": "light"
     },
     "output_type": "display_data"
    }
   ],
   "source": [
    "## lets check the correlation matrix again\n",
    "plt.figure(figsize = (14,10))       \n",
    "sns.heatmap(X_train.corr(),annot = True, cmap=\"PuBuGn\")\n",
    "plt.show()"
   ]
  },
  {
   "cell_type": "markdown",
   "id": "d3b2ad0e",
   "metadata": {},
   "source": [
    "## Model Building"
   ]
  },
  {
   "cell_type": "code",
   "execution_count": 70,
   "id": "6ced3cb1",
   "metadata": {},
   "outputs": [
    {
     "data": {
      "text/html": [
       "<table class=\"simpletable\">\n",
       "<caption>Generalized Linear Model Regression Results</caption>\n",
       "<tr>\n",
       "  <th>Dep. Variable:</th>       <td>converted</td>    <th>  No. Observations:  </th>  <td>  6468</td> \n",
       "</tr>\n",
       "<tr>\n",
       "  <th>Model:</th>                  <td>GLM</td>       <th>  Df Residuals:      </th>  <td>  6452</td> \n",
       "</tr>\n",
       "<tr>\n",
       "  <th>Model Family:</th>        <td>Binomial</td>     <th>  Df Model:          </th>  <td>    15</td> \n",
       "</tr>\n",
       "<tr>\n",
       "  <th>Link Function:</th>         <td>logit</td>      <th>  Scale:             </th> <td>  1.0000</td>\n",
       "</tr>\n",
       "<tr>\n",
       "  <th>Method:</th>                <td>IRLS</td>       <th>  Log-Likelihood:    </th> <td> -3296.6</td>\n",
       "</tr>\n",
       "<tr>\n",
       "  <th>Date:</th>            <td>Mon, 12 Sep 2022</td> <th>  Deviance:          </th> <td>  6593.3</td>\n",
       "</tr>\n",
       "<tr>\n",
       "  <th>Time:</th>                <td>23:17:31</td>     <th>  Pearson chi2:      </th> <td>6.63e+03</td>\n",
       "</tr>\n",
       "<tr>\n",
       "  <th>No. Iterations:</th>          <td>6</td>        <th>                     </th>     <td> </td>   \n",
       "</tr>\n",
       "<tr>\n",
       "  <th>Covariance Type:</th>     <td>nonrobust</td>    <th>                     </th>     <td> </td>   \n",
       "</tr>\n",
       "</table>\n",
       "<table class=\"simpletable\">\n",
       "<tr>\n",
       "                      <td></td>                         <th>coef</th>     <th>std err</th>      <th>z</th>      <th>P>|z|</th>  <th>[0.025</th>    <th>0.975]</th>  \n",
       "</tr>\n",
       "<tr>\n",
       "  <th>const</th>                                     <td>   -0.1865</td> <td>    0.154</td> <td>   -1.212</td> <td> 0.225</td> <td>   -0.488</td> <td>    0.115</td>\n",
       "</tr>\n",
       "<tr>\n",
       "  <th>do_not_email</th>                              <td>   -1.2446</td> <td>    0.145</td> <td>   -8.610</td> <td> 0.000</td> <td>   -1.528</td> <td>   -0.961</td>\n",
       "</tr>\n",
       "<tr>\n",
       "  <th>total_visits</th>                              <td>    0.0905</td> <td>    0.037</td> <td>    2.472</td> <td> 0.013</td> <td>    0.019</td> <td>    0.162</td>\n",
       "</tr>\n",
       "<tr>\n",
       "  <th>time_on_website</th>                           <td>    1.0444</td> <td>    0.036</td> <td>   29.350</td> <td> 0.000</td> <td>    0.975</td> <td>    1.114</td>\n",
       "</tr>\n",
       "<tr>\n",
       "  <th>page_views_per_visit</th>                      <td>   -0.1314</td> <td>    0.045</td> <td>   -2.920</td> <td> 0.004</td> <td>   -0.220</td> <td>   -0.043</td>\n",
       "</tr>\n",
       "<tr>\n",
       "  <th>mastering_interview</th>                       <td>    0.0227</td> <td>    0.094</td> <td>    0.242</td> <td> 0.808</td> <td>   -0.161</td> <td>    0.207</td>\n",
       "</tr>\n",
       "<tr>\n",
       "  <th>lead_origin_Landing Page Submission</th>       <td>   -0.0220</td> <td>    0.092</td> <td>   -0.239</td> <td> 0.811</td> <td>   -0.202</td> <td>    0.158</td>\n",
       "</tr>\n",
       "<tr>\n",
       "  <th>lead_source_Google</th>                        <td>    0.3929</td> <td>    0.100</td> <td>    3.910</td> <td> 0.000</td> <td>    0.196</td> <td>    0.590</td>\n",
       "</tr>\n",
       "<tr>\n",
       "  <th>lead_source_Olark Chat</th>                    <td>    0.6572</td> <td>    0.136</td> <td>    4.826</td> <td> 0.000</td> <td>    0.390</td> <td>    0.924</td>\n",
       "</tr>\n",
       "<tr>\n",
       "  <th>lead_source_Organic Search</th>                <td>    0.2585</td> <td>    0.115</td> <td>    2.243</td> <td> 0.025</td> <td>    0.033</td> <td>    0.484</td>\n",
       "</tr>\n",
       "<tr>\n",
       "  <th>lead_source_Other Social Sites</th>            <td>    1.6423</td> <td>    0.175</td> <td>    9.379</td> <td> 0.000</td> <td>    1.299</td> <td>    1.985</td>\n",
       "</tr>\n",
       "<tr>\n",
       "  <th>lead_source_Reference</th>                     <td>    3.9512</td> <td>    0.221</td> <td>   17.888</td> <td> 0.000</td> <td>    3.518</td> <td>    4.384</td>\n",
       "</tr>\n",
       "<tr>\n",
       "  <th>specialization_Management Specializations</th> <td>    0.0115</td> <td>    0.068</td> <td>    0.168</td> <td> 0.866</td> <td>   -0.123</td> <td>    0.146</td>\n",
       "</tr>\n",
       "<tr>\n",
       "  <th>occupation_Unemployed</th>                     <td>   -0.9568</td> <td>    0.086</td> <td>  -11.148</td> <td> 0.000</td> <td>   -1.125</td> <td>   -0.789</td>\n",
       "</tr>\n",
       "<tr>\n",
       "  <th>city_Mumbai</th>                               <td>   -0.0687</td> <td>    0.077</td> <td>   -0.897</td> <td> 0.370</td> <td>   -0.219</td> <td>    0.081</td>\n",
       "</tr>\n",
       "<tr>\n",
       "  <th>city_Non-MH Cities</th>                        <td>    0.0368</td> <td>    0.094</td> <td>    0.392</td> <td> 0.695</td> <td>   -0.147</td> <td>    0.221</td>\n",
       "</tr>\n",
       "</table>"
      ],
      "text/plain": [
       "<class 'statsmodels.iolib.summary.Summary'>\n",
       "\"\"\"\n",
       "                 Generalized Linear Model Regression Results                  \n",
       "==============================================================================\n",
       "Dep. Variable:              converted   No. Observations:                 6468\n",
       "Model:                            GLM   Df Residuals:                     6452\n",
       "Model Family:                Binomial   Df Model:                           15\n",
       "Link Function:                  logit   Scale:                          1.0000\n",
       "Method:                          IRLS   Log-Likelihood:                -3296.6\n",
       "Date:                Mon, 12 Sep 2022   Deviance:                       6593.3\n",
       "Time:                        23:17:31   Pearson chi2:                 6.63e+03\n",
       "No. Iterations:                     6                                         \n",
       "Covariance Type:            nonrobust                                         \n",
       "=============================================================================================================\n",
       "                                                coef    std err          z      P>|z|      [0.025      0.975]\n",
       "-------------------------------------------------------------------------------------------------------------\n",
       "const                                        -0.1865      0.154     -1.212      0.225      -0.488       0.115\n",
       "do_not_email                                 -1.2446      0.145     -8.610      0.000      -1.528      -0.961\n",
       "total_visits                                  0.0905      0.037      2.472      0.013       0.019       0.162\n",
       "time_on_website                               1.0444      0.036     29.350      0.000       0.975       1.114\n",
       "page_views_per_visit                         -0.1314      0.045     -2.920      0.004      -0.220      -0.043\n",
       "mastering_interview                           0.0227      0.094      0.242      0.808      -0.161       0.207\n",
       "lead_origin_Landing Page Submission          -0.0220      0.092     -0.239      0.811      -0.202       0.158\n",
       "lead_source_Google                            0.3929      0.100      3.910      0.000       0.196       0.590\n",
       "lead_source_Olark Chat                        0.6572      0.136      4.826      0.000       0.390       0.924\n",
       "lead_source_Organic Search                    0.2585      0.115      2.243      0.025       0.033       0.484\n",
       "lead_source_Other Social Sites                1.6423      0.175      9.379      0.000       1.299       1.985\n",
       "lead_source_Reference                         3.9512      0.221     17.888      0.000       3.518       4.384\n",
       "specialization_Management Specializations     0.0115      0.068      0.168      0.866      -0.123       0.146\n",
       "occupation_Unemployed                        -0.9568      0.086    -11.148      0.000      -1.125      -0.789\n",
       "city_Mumbai                                  -0.0687      0.077     -0.897      0.370      -0.219       0.081\n",
       "city_Non-MH Cities                            0.0368      0.094      0.392      0.695      -0.147       0.221\n",
       "=============================================================================================================\n",
       "\"\"\""
      ]
     },
     "execution_count": 70,
     "metadata": {},
     "output_type": "execute_result"
    }
   ],
   "source": [
    "# Logistic regression model\n",
    "logreg1 = sm.GLM(y_train,(sm.add_constant(X_train)), family = sm.families.Binomial())\n",
    "logreg1.fit().summary()"
   ]
  },
  {
   "cell_type": "markdown",
   "id": "27158e0d",
   "metadata": {},
   "source": [
    "### Feature selection using RFE"
   ]
  },
  {
   "cell_type": "code",
   "execution_count": 71,
   "id": "19db5296",
   "metadata": {},
   "outputs": [],
   "source": [
    "logreg = LogisticRegression()\n",
    "\n",
    "rfe = RFE(logreg, 10)             # running RFE with 10 variables as output\n",
    "rfe = rfe.fit(X_train, y_train)"
   ]
  },
  {
   "cell_type": "code",
   "execution_count": 72,
   "id": "442009e7",
   "metadata": {},
   "outputs": [
    {
     "data": {
      "text/plain": [
       "array([ True,  True,  True,  True, False, False,  True,  True,  True,\n",
       "        True,  True, False,  True, False, False])"
      ]
     },
     "execution_count": 72,
     "metadata": {},
     "output_type": "execute_result"
    }
   ],
   "source": [
    "rfe.support_"
   ]
  },
  {
   "cell_type": "code",
   "execution_count": 73,
   "id": "b69a27d3",
   "metadata": {},
   "outputs": [
    {
     "data": {
      "text/plain": [
       "[('do_not_email', True, 1),\n",
       " ('total_visits', True, 1),\n",
       " ('time_on_website', True, 1),\n",
       " ('page_views_per_visit', True, 1),\n",
       " ('mastering_interview', False, 6),\n",
       " ('lead_origin_Landing Page Submission', False, 3),\n",
       " ('lead_source_Google', True, 1),\n",
       " ('lead_source_Olark Chat', True, 1),\n",
       " ('lead_source_Organic Search', True, 1),\n",
       " ('lead_source_Other Social Sites', True, 1),\n",
       " ('lead_source_Reference', True, 1),\n",
       " ('specialization_Management Specializations', False, 5),\n",
       " ('occupation_Unemployed', True, 1),\n",
       " ('city_Mumbai', False, 2),\n",
       " ('city_Non-MH Cities', False, 4)]"
      ]
     },
     "execution_count": 73,
     "metadata": {},
     "output_type": "execute_result"
    }
   ],
   "source": [
    "list(zip(X_train.columns, rfe.support_, rfe.ranking_))"
   ]
  },
  {
   "cell_type": "code",
   "execution_count": 74,
   "id": "56199640",
   "metadata": {},
   "outputs": [],
   "source": [
    "col = X_train.columns[rfe.support_]"
   ]
  },
  {
   "cell_type": "code",
   "execution_count": 75,
   "id": "4aac6b05",
   "metadata": {},
   "outputs": [
    {
     "data": {
      "text/plain": [
       "Index(['mastering_interview', 'lead_origin_Landing Page Submission',\n",
       "       'specialization_Management Specializations', 'city_Mumbai',\n",
       "       'city_Non-MH Cities'],\n",
       "      dtype='object')"
      ]
     },
     "execution_count": 75,
     "metadata": {},
     "output_type": "execute_result"
    }
   ],
   "source": [
    "X_train.columns[~rfe.support_]"
   ]
  },
  {
   "cell_type": "markdown",
   "id": "0f7a3a6b",
   "metadata": {},
   "source": [
    "# Model 2"
   ]
  },
  {
   "cell_type": "code",
   "execution_count": 76,
   "id": "5e63ef7c",
   "metadata": {},
   "outputs": [
    {
     "data": {
      "text/html": [
       "<table class=\"simpletable\">\n",
       "<caption>Generalized Linear Model Regression Results</caption>\n",
       "<tr>\n",
       "  <th>Dep. Variable:</th>       <td>converted</td>    <th>  No. Observations:  </th>  <td>  6468</td> \n",
       "</tr>\n",
       "<tr>\n",
       "  <th>Model:</th>                  <td>GLM</td>       <th>  Df Residuals:      </th>  <td>  6457</td> \n",
       "</tr>\n",
       "<tr>\n",
       "  <th>Model Family:</th>        <td>Binomial</td>     <th>  Df Model:          </th>  <td>    10</td> \n",
       "</tr>\n",
       "<tr>\n",
       "  <th>Link Function:</th>         <td>logit</td>      <th>  Scale:             </th> <td>  1.0000</td>\n",
       "</tr>\n",
       "<tr>\n",
       "  <th>Method:</th>                <td>IRLS</td>       <th>  Log-Likelihood:    </th> <td> -3297.7</td>\n",
       "</tr>\n",
       "<tr>\n",
       "  <th>Date:</th>            <td>Mon, 12 Sep 2022</td> <th>  Deviance:          </th> <td>  6595.5</td>\n",
       "</tr>\n",
       "<tr>\n",
       "  <th>Time:</th>                <td>23:17:31</td>     <th>  Pearson chi2:      </th> <td>6.63e+03</td>\n",
       "</tr>\n",
       "<tr>\n",
       "  <th>No. Iterations:</th>          <td>6</td>        <th>                     </th>     <td> </td>   \n",
       "</tr>\n",
       "<tr>\n",
       "  <th>Covariance Type:</th>     <td>nonrobust</td>    <th>                     </th>     <td> </td>   \n",
       "</tr>\n",
       "</table>\n",
       "<table class=\"simpletable\">\n",
       "<tr>\n",
       "                 <td></td>                   <th>coef</th>     <th>std err</th>      <th>z</th>      <th>P>|z|</th>  <th>[0.025</th>    <th>0.975]</th>  \n",
       "</tr>\n",
       "<tr>\n",
       "  <th>const</th>                          <td>   -0.2104</td> <td>    0.095</td> <td>   -2.218</td> <td> 0.027</td> <td>   -0.396</td> <td>   -0.024</td>\n",
       "</tr>\n",
       "<tr>\n",
       "  <th>do_not_email</th>                   <td>   -1.2454</td> <td>    0.144</td> <td>   -8.624</td> <td> 0.000</td> <td>   -1.528</td> <td>   -0.962</td>\n",
       "</tr>\n",
       "<tr>\n",
       "  <th>total_visits</th>                   <td>    0.0891</td> <td>    0.036</td> <td>    2.446</td> <td> 0.014</td> <td>    0.018</td> <td>    0.160</td>\n",
       "</tr>\n",
       "<tr>\n",
       "  <th>time_on_website</th>                <td>    1.0456</td> <td>    0.036</td> <td>   29.408</td> <td> 0.000</td> <td>    0.976</td> <td>    1.115</td>\n",
       "</tr>\n",
       "<tr>\n",
       "  <th>page_views_per_visit</th>           <td>   -0.1341</td> <td>    0.044</td> <td>   -3.076</td> <td> 0.002</td> <td>   -0.220</td> <td>   -0.049</td>\n",
       "</tr>\n",
       "<tr>\n",
       "  <th>lead_source_Google</th>             <td>    0.3758</td> <td>    0.079</td> <td>    4.756</td> <td> 0.000</td> <td>    0.221</td> <td>    0.531</td>\n",
       "</tr>\n",
       "<tr>\n",
       "  <th>lead_source_Olark Chat</th>         <td>    0.6561</td> <td>    0.111</td> <td>    5.931</td> <td> 0.000</td> <td>    0.439</td> <td>    0.873</td>\n",
       "</tr>\n",
       "<tr>\n",
       "  <th>lead_source_Organic Search</th>     <td>    0.2680</td> <td>    0.107</td> <td>    2.494</td> <td> 0.013</td> <td>    0.057</td> <td>    0.479</td>\n",
       "</tr>\n",
       "<tr>\n",
       "  <th>lead_source_Other Social Sites</th> <td>    1.6446</td> <td>    0.157</td> <td>   10.493</td> <td> 0.000</td> <td>    1.337</td> <td>    1.952</td>\n",
       "</tr>\n",
       "<tr>\n",
       "  <th>lead_source_Reference</th>          <td>    3.9460</td> <td>    0.206</td> <td>   19.199</td> <td> 0.000</td> <td>    3.543</td> <td>    4.349</td>\n",
       "</tr>\n",
       "<tr>\n",
       "  <th>occupation_Unemployed</th>          <td>   -0.9561</td> <td>    0.086</td> <td>  -11.147</td> <td> 0.000</td> <td>   -1.124</td> <td>   -0.788</td>\n",
       "</tr>\n",
       "</table>"
      ],
      "text/plain": [
       "<class 'statsmodels.iolib.summary.Summary'>\n",
       "\"\"\"\n",
       "                 Generalized Linear Model Regression Results                  \n",
       "==============================================================================\n",
       "Dep. Variable:              converted   No. Observations:                 6468\n",
       "Model:                            GLM   Df Residuals:                     6457\n",
       "Model Family:                Binomial   Df Model:                           10\n",
       "Link Function:                  logit   Scale:                          1.0000\n",
       "Method:                          IRLS   Log-Likelihood:                -3297.7\n",
       "Date:                Mon, 12 Sep 2022   Deviance:                       6595.5\n",
       "Time:                        23:17:31   Pearson chi2:                 6.63e+03\n",
       "No. Iterations:                     6                                         \n",
       "Covariance Type:            nonrobust                                         \n",
       "==================================================================================================\n",
       "                                     coef    std err          z      P>|z|      [0.025      0.975]\n",
       "--------------------------------------------------------------------------------------------------\n",
       "const                             -0.2104      0.095     -2.218      0.027      -0.396      -0.024\n",
       "do_not_email                      -1.2454      0.144     -8.624      0.000      -1.528      -0.962\n",
       "total_visits                       0.0891      0.036      2.446      0.014       0.018       0.160\n",
       "time_on_website                    1.0456      0.036     29.408      0.000       0.976       1.115\n",
       "page_views_per_visit              -0.1341      0.044     -3.076      0.002      -0.220      -0.049\n",
       "lead_source_Google                 0.3758      0.079      4.756      0.000       0.221       0.531\n",
       "lead_source_Olark Chat             0.6561      0.111      5.931      0.000       0.439       0.873\n",
       "lead_source_Organic Search         0.2680      0.107      2.494      0.013       0.057       0.479\n",
       "lead_source_Other Social Sites     1.6446      0.157     10.493      0.000       1.337       1.952\n",
       "lead_source_Reference              3.9460      0.206     19.199      0.000       3.543       4.349\n",
       "occupation_Unemployed             -0.9561      0.086    -11.147      0.000      -1.124      -0.788\n",
       "==================================================================================================\n",
       "\"\"\""
      ]
     },
     "execution_count": 76,
     "metadata": {},
     "output_type": "execute_result"
    }
   ],
   "source": [
    "X_train_sm = sm.add_constant(X_train[col])\n",
    "logreg2 = sm.GLM(y_train,X_train_sm, family = sm.families.Binomial())\n",
    "res = logreg2.fit()\n",
    "res.summary()"
   ]
  },
  {
   "cell_type": "code",
   "execution_count": 77,
   "id": "1e3aa2ff",
   "metadata": {},
   "outputs": [
    {
     "data": {
      "text/plain": [
       "1871   0.21\n",
       "6795   0.25\n",
       "3516   0.23\n",
       "8105   0.62\n",
       "3934   0.21\n",
       "4844   0.85\n",
       "3297   0.16\n",
       "8071   0.97\n",
       "987    0.76\n",
       "7423   0.79\n",
       "dtype: float64"
      ]
     },
     "execution_count": 77,
     "metadata": {},
     "output_type": "execute_result"
    }
   ],
   "source": [
    "# Getting the predicted values on the train set\n",
    "y_train_pred = res.predict(X_train_sm)\n",
    "y_train_pred[:10]"
   ]
  },
  {
   "cell_type": "code",
   "execution_count": 78,
   "id": "e5f473cb",
   "metadata": {},
   "outputs": [
    {
     "data": {
      "text/plain": [
       "array([0.20602716, 0.25191257, 0.22846796, 0.62201767, 0.20602716,\n",
       "       0.85419909, 0.15795073, 0.96999279, 0.76016361, 0.78893869])"
      ]
     },
     "execution_count": 78,
     "metadata": {},
     "output_type": "execute_result"
    }
   ],
   "source": [
    "y_train_pred = y_train_pred.values.reshape(-1)\n",
    "y_train_pred[:10]"
   ]
  },
  {
   "cell_type": "markdown",
   "id": "172af99b",
   "metadata": {},
   "source": [
    "##### Creating a dataframe with the actual conversion flag and the predicted probabilities"
   ]
  },
  {
   "cell_type": "code",
   "execution_count": 79,
   "id": "b2dd74ba",
   "metadata": {},
   "outputs": [
    {
     "data": {
      "text/html": [
       "<div>\n",
       "<style scoped>\n",
       "    .dataframe tbody tr th:only-of-type {\n",
       "        vertical-align: middle;\n",
       "    }\n",
       "\n",
       "    .dataframe tbody tr th {\n",
       "        vertical-align: top;\n",
       "    }\n",
       "\n",
       "    .dataframe thead th {\n",
       "        text-align: right;\n",
       "    }\n",
       "</style>\n",
       "<table border=\"1\" class=\"dataframe\">\n",
       "  <thead>\n",
       "    <tr style=\"text-align: right;\">\n",
       "      <th></th>\n",
       "      <th>converted</th>\n",
       "      <th>Convert_Prob</th>\n",
       "      <th>lead_number</th>\n",
       "    </tr>\n",
       "  </thead>\n",
       "  <tbody>\n",
       "    <tr>\n",
       "      <th>0</th>\n",
       "      <td>0</td>\n",
       "      <td>0.21</td>\n",
       "      <td>1871</td>\n",
       "    </tr>\n",
       "    <tr>\n",
       "      <th>1</th>\n",
       "      <td>0</td>\n",
       "      <td>0.25</td>\n",
       "      <td>6795</td>\n",
       "    </tr>\n",
       "    <tr>\n",
       "      <th>2</th>\n",
       "      <td>0</td>\n",
       "      <td>0.23</td>\n",
       "      <td>3516</td>\n",
       "    </tr>\n",
       "    <tr>\n",
       "      <th>3</th>\n",
       "      <td>0</td>\n",
       "      <td>0.62</td>\n",
       "      <td>8105</td>\n",
       "    </tr>\n",
       "    <tr>\n",
       "      <th>4</th>\n",
       "      <td>0</td>\n",
       "      <td>0.21</td>\n",
       "      <td>3934</td>\n",
       "    </tr>\n",
       "  </tbody>\n",
       "</table>\n",
       "</div>"
      ],
      "text/plain": [
       "   converted  Convert_Prob  lead_number\n",
       "0          0          0.21         1871\n",
       "1          0          0.25         6795\n",
       "2          0          0.23         3516\n",
       "3          0          0.62         8105\n",
       "4          0          0.21         3934"
      ]
     },
     "execution_count": 79,
     "metadata": {},
     "output_type": "execute_result"
    }
   ],
   "source": [
    "y_train_pred_final = pd.DataFrame({'converted':y_train.values, 'Convert_Prob':y_train_pred})\n",
    "y_train_pred_final['lead_number'] = y_train.index\n",
    "y_train_pred_final.head()"
   ]
  },
  {
   "cell_type": "markdown",
   "id": "f531f2c6",
   "metadata": {},
   "source": [
    "##### Creating new column 'predicted' with 1 if Convert_Prob > 0.5 else 0"
   ]
  },
  {
   "cell_type": "code",
   "execution_count": 80,
   "id": "81514643",
   "metadata": {},
   "outputs": [
    {
     "data": {
      "text/html": [
       "<div>\n",
       "<style scoped>\n",
       "    .dataframe tbody tr th:only-of-type {\n",
       "        vertical-align: middle;\n",
       "    }\n",
       "\n",
       "    .dataframe tbody tr th {\n",
       "        vertical-align: top;\n",
       "    }\n",
       "\n",
       "    .dataframe thead th {\n",
       "        text-align: right;\n",
       "    }\n",
       "</style>\n",
       "<table border=\"1\" class=\"dataframe\">\n",
       "  <thead>\n",
       "    <tr style=\"text-align: right;\">\n",
       "      <th></th>\n",
       "      <th>converted</th>\n",
       "      <th>Convert_Prob</th>\n",
       "      <th>lead_number</th>\n",
       "      <th>predicted</th>\n",
       "    </tr>\n",
       "  </thead>\n",
       "  <tbody>\n",
       "    <tr>\n",
       "      <th>0</th>\n",
       "      <td>0</td>\n",
       "      <td>0.21</td>\n",
       "      <td>1871</td>\n",
       "      <td>0</td>\n",
       "    </tr>\n",
       "    <tr>\n",
       "      <th>1</th>\n",
       "      <td>0</td>\n",
       "      <td>0.25</td>\n",
       "      <td>6795</td>\n",
       "      <td>0</td>\n",
       "    </tr>\n",
       "    <tr>\n",
       "      <th>2</th>\n",
       "      <td>0</td>\n",
       "      <td>0.23</td>\n",
       "      <td>3516</td>\n",
       "      <td>0</td>\n",
       "    </tr>\n",
       "    <tr>\n",
       "      <th>3</th>\n",
       "      <td>0</td>\n",
       "      <td>0.62</td>\n",
       "      <td>8105</td>\n",
       "      <td>1</td>\n",
       "    </tr>\n",
       "    <tr>\n",
       "      <th>4</th>\n",
       "      <td>0</td>\n",
       "      <td>0.21</td>\n",
       "      <td>3934</td>\n",
       "      <td>0</td>\n",
       "    </tr>\n",
       "  </tbody>\n",
       "</table>\n",
       "</div>"
      ],
      "text/plain": [
       "   converted  Convert_Prob  lead_number  predicted\n",
       "0          0          0.21         1871          0\n",
       "1          0          0.25         6795          0\n",
       "2          0          0.23         3516          0\n",
       "3          0          0.62         8105          1\n",
       "4          0          0.21         3934          0"
      ]
     },
     "execution_count": 80,
     "metadata": {},
     "output_type": "execute_result"
    }
   ],
   "source": [
    "y_train_pred_final['predicted'] = y_train_pred_final.Convert_Prob.map(lambda x: 1 if x > 0.5 else 0)\n",
    "\n",
    "y_train_pred_final.head()"
   ]
  },
  {
   "cell_type": "code",
   "execution_count": 81,
   "id": "e0e79355",
   "metadata": {},
   "outputs": [],
   "source": [
    "from sklearn import metrics"
   ]
  },
  {
   "cell_type": "code",
   "execution_count": 82,
   "id": "481cb5e5",
   "metadata": {},
   "outputs": [
    {
     "name": "stdout",
     "output_type": "stream",
     "text": [
      "[[3490  512]\n",
      " [1026 1440]]\n"
     ]
    }
   ],
   "source": [
    "confusion = metrics.confusion_matrix(y_train_pred_final.converted, y_train_pred_final.predicted )\n",
    "print(confusion)"
   ]
  },
  {
   "cell_type": "markdown",
   "id": "f40b6762",
   "metadata": {},
   "source": [
    "    # Predicted     not_churn    churn\n",
    "    # Actual\n",
    "    # not_churn        3491      511\n",
    "    # churn            1035      1431 "
   ]
  },
  {
   "cell_type": "code",
   "execution_count": 83,
   "id": "5bdaa50c",
   "metadata": {},
   "outputs": [
    {
     "name": "stdout",
     "output_type": "stream",
     "text": [
      "76.22139764996908\n"
     ]
    }
   ],
   "source": [
    "# overall accuracy\n",
    "print(metrics.accuracy_score(y_train_pred_final.converted, y_train_pred_final.predicted)*100)"
   ]
  },
  {
   "cell_type": "markdown",
   "id": "623a54ef",
   "metadata": {},
   "source": [
    "### We need this to be 80% or somewhere near 80%"
   ]
  },
  {
   "cell_type": "markdown",
   "id": "584785a6",
   "metadata": {},
   "source": [
    "Let's check the vif's"
   ]
  },
  {
   "cell_type": "code",
   "execution_count": 84,
   "id": "79a38d8b",
   "metadata": {},
   "outputs": [
    {
     "data": {
      "text/html": [
       "<div>\n",
       "<style scoped>\n",
       "    .dataframe tbody tr th:only-of-type {\n",
       "        vertical-align: middle;\n",
       "    }\n",
       "\n",
       "    .dataframe tbody tr th {\n",
       "        vertical-align: top;\n",
       "    }\n",
       "\n",
       "    .dataframe thead th {\n",
       "        text-align: right;\n",
       "    }\n",
       "</style>\n",
       "<table border=\"1\" class=\"dataframe\">\n",
       "  <thead>\n",
       "    <tr style=\"text-align: right;\">\n",
       "      <th></th>\n",
       "      <th>Features</th>\n",
       "      <th>VIF</th>\n",
       "    </tr>\n",
       "  </thead>\n",
       "  <tbody>\n",
       "    <tr>\n",
       "      <th>9</th>\n",
       "      <td>occupation_Unemployed</td>\n",
       "      <td>2.84</td>\n",
       "    </tr>\n",
       "    <tr>\n",
       "      <th>5</th>\n",
       "      <td>lead_source_Olark Chat</td>\n",
       "      <td>1.95</td>\n",
       "    </tr>\n",
       "    <tr>\n",
       "      <th>4</th>\n",
       "      <td>lead_source_Google</td>\n",
       "      <td>1.80</td>\n",
       "    </tr>\n",
       "    <tr>\n",
       "      <th>3</th>\n",
       "      <td>page_views_per_visit</td>\n",
       "      <td>1.79</td>\n",
       "    </tr>\n",
       "    <tr>\n",
       "      <th>6</th>\n",
       "      <td>lead_source_Organic Search</td>\n",
       "      <td>1.38</td>\n",
       "    </tr>\n",
       "    <tr>\n",
       "      <th>1</th>\n",
       "      <td>total_visits</td>\n",
       "      <td>1.30</td>\n",
       "    </tr>\n",
       "    <tr>\n",
       "      <th>2</th>\n",
       "      <td>time_on_website</td>\n",
       "      <td>1.21</td>\n",
       "    </tr>\n",
       "    <tr>\n",
       "      <th>8</th>\n",
       "      <td>lead_source_Reference</td>\n",
       "      <td>1.17</td>\n",
       "    </tr>\n",
       "    <tr>\n",
       "      <th>7</th>\n",
       "      <td>lead_source_Other Social Sites</td>\n",
       "      <td>1.11</td>\n",
       "    </tr>\n",
       "    <tr>\n",
       "      <th>0</th>\n",
       "      <td>do_not_email</td>\n",
       "      <td>1.09</td>\n",
       "    </tr>\n",
       "  </tbody>\n",
       "</table>\n",
       "</div>"
      ],
      "text/plain": [
       "                         Features  VIF\n",
       "9           occupation_Unemployed 2.84\n",
       "5          lead_source_Olark Chat 1.95\n",
       "4              lead_source_Google 1.80\n",
       "3            page_views_per_visit 1.79\n",
       "6      lead_source_Organic Search 1.38\n",
       "1                    total_visits 1.30\n",
       "2                 time_on_website 1.21\n",
       "8           lead_source_Reference 1.17\n",
       "7  lead_source_Other Social Sites 1.11\n",
       "0                    do_not_email 1.09"
      ]
     },
     "execution_count": 84,
     "metadata": {},
     "output_type": "execute_result"
    }
   ],
   "source": [
    "# Create a dataframe that will contain the names of all the feature variables and their respective VIFs\n",
    "vif = pd.DataFrame()\n",
    "vif['Features'] = X_train[col].columns\n",
    "vif['VIF'] = [variance_inflation_factor(X_train[col].values, i) for i in range(X_train[col].shape[1])]\n",
    "vif['VIF'] = round(vif['VIF'], 2)\n",
    "vif = vif.sort_values(by = \"VIF\", ascending = False)\n",
    "vif"
   ]
  },
  {
   "cell_type": "markdown",
   "id": "f29a9542",
   "metadata": {},
   "source": [
    "Although all the VIF's seem to be in acceptible ranges,but for a check we will run a model by removing the column with the highest VIF i.e. `occupation_Unemployed`. So lets see what cause and efect this has on our model.\t"
   ]
  },
  {
   "cell_type": "code",
   "execution_count": 85,
   "id": "5ec20884",
   "metadata": {},
   "outputs": [
    {
     "data": {
      "text/plain": [
       "Index(['do_not_email', 'total_visits', 'time_on_website',\n",
       "       'page_views_per_visit', 'lead_source_Google', 'lead_source_Olark Chat',\n",
       "       'lead_source_Organic Search', 'lead_source_Other Social Sites',\n",
       "       'lead_source_Reference'],\n",
       "      dtype='object')"
      ]
     },
     "execution_count": 85,
     "metadata": {},
     "output_type": "execute_result"
    }
   ],
   "source": [
    "col = col.drop('occupation_Unemployed', 1)\n",
    "col"
   ]
  },
  {
   "cell_type": "markdown",
   "id": "cf4ea6f9",
   "metadata": {},
   "source": [
    "# MODEL 3"
   ]
  },
  {
   "cell_type": "code",
   "execution_count": 86,
   "id": "9b29b125",
   "metadata": {},
   "outputs": [
    {
     "data": {
      "text/html": [
       "<table class=\"simpletable\">\n",
       "<caption>Generalized Linear Model Regression Results</caption>\n",
       "<tr>\n",
       "  <th>Dep. Variable:</th>       <td>converted</td>    <th>  No. Observations:  </th>  <td>  6468</td> \n",
       "</tr>\n",
       "<tr>\n",
       "  <th>Model:</th>                  <td>GLM</td>       <th>  Df Residuals:      </th>  <td>  6458</td> \n",
       "</tr>\n",
       "<tr>\n",
       "  <th>Model Family:</th>        <td>Binomial</td>     <th>  Df Model:          </th>  <td>     9</td> \n",
       "</tr>\n",
       "<tr>\n",
       "  <th>Link Function:</th>         <td>logit</td>      <th>  Scale:             </th> <td>  1.0000</td>\n",
       "</tr>\n",
       "<tr>\n",
       "  <th>Method:</th>                <td>IRLS</td>       <th>  Log-Likelihood:    </th> <td> -3360.3</td>\n",
       "</tr>\n",
       "<tr>\n",
       "  <th>Date:</th>            <td>Mon, 12 Sep 2022</td> <th>  Deviance:          </th> <td>  6720.5</td>\n",
       "</tr>\n",
       "<tr>\n",
       "  <th>Time:</th>                <td>23:17:31</td>     <th>  Pearson chi2:      </th> <td>6.61e+03</td>\n",
       "</tr>\n",
       "<tr>\n",
       "  <th>No. Iterations:</th>          <td>5</td>        <th>                     </th>     <td> </td>   \n",
       "</tr>\n",
       "<tr>\n",
       "  <th>Covariance Type:</th>     <td>nonrobust</td>    <th>                     </th>     <td> </td>   \n",
       "</tr>\n",
       "</table>\n",
       "<table class=\"simpletable\">\n",
       "<tr>\n",
       "                 <td></td>                   <th>coef</th>     <th>std err</th>      <th>z</th>      <th>P>|z|</th>  <th>[0.025</th>    <th>0.975]</th>  \n",
       "</tr>\n",
       "<tr>\n",
       "  <th>const</th>                          <td>   -1.0152</td> <td>    0.062</td> <td>  -16.371</td> <td> 0.000</td> <td>   -1.137</td> <td>   -0.894</td>\n",
       "</tr>\n",
       "<tr>\n",
       "  <th>do_not_email</th>                   <td>   -1.2374</td> <td>    0.144</td> <td>   -8.618</td> <td> 0.000</td> <td>   -1.519</td> <td>   -0.956</td>\n",
       "</tr>\n",
       "<tr>\n",
       "  <th>total_visits</th>                   <td>    0.0868</td> <td>    0.036</td> <td>    2.388</td> <td> 0.017</td> <td>    0.016</td> <td>    0.158</td>\n",
       "</tr>\n",
       "<tr>\n",
       "  <th>time_on_website</th>                <td>    1.0586</td> <td>    0.035</td> <td>   29.925</td> <td> 0.000</td> <td>    0.989</td> <td>    1.128</td>\n",
       "</tr>\n",
       "<tr>\n",
       "  <th>page_views_per_visit</th>           <td>   -0.1295</td> <td>    0.043</td> <td>   -3.009</td> <td> 0.003</td> <td>   -0.214</td> <td>   -0.045</td>\n",
       "</tr>\n",
       "<tr>\n",
       "  <th>lead_source_Google</th>             <td>    0.3425</td> <td>    0.078</td> <td>    4.389</td> <td> 0.000</td> <td>    0.190</td> <td>    0.495</td>\n",
       "</tr>\n",
       "<tr>\n",
       "  <th>lead_source_Olark Chat</th>         <td>    0.6766</td> <td>    0.109</td> <td>    6.187</td> <td> 0.000</td> <td>    0.462</td> <td>    0.891</td>\n",
       "</tr>\n",
       "<tr>\n",
       "  <th>lead_source_Organic Search</th>     <td>    0.2295</td> <td>    0.106</td> <td>    2.168</td> <td> 0.030</td> <td>    0.022</td> <td>    0.437</td>\n",
       "</tr>\n",
       "<tr>\n",
       "  <th>lead_source_Other Social Sites</th> <td>    1.5553</td> <td>    0.155</td> <td>   10.026</td> <td> 0.000</td> <td>    1.251</td> <td>    1.859</td>\n",
       "</tr>\n",
       "<tr>\n",
       "  <th>lead_source_Reference</th>          <td>    4.0968</td> <td>    0.204</td> <td>   20.127</td> <td> 0.000</td> <td>    3.698</td> <td>    4.496</td>\n",
       "</tr>\n",
       "</table>"
      ],
      "text/plain": [
       "<class 'statsmodels.iolib.summary.Summary'>\n",
       "\"\"\"\n",
       "                 Generalized Linear Model Regression Results                  \n",
       "==============================================================================\n",
       "Dep. Variable:              converted   No. Observations:                 6468\n",
       "Model:                            GLM   Df Residuals:                     6458\n",
       "Model Family:                Binomial   Df Model:                            9\n",
       "Link Function:                  logit   Scale:                          1.0000\n",
       "Method:                          IRLS   Log-Likelihood:                -3360.3\n",
       "Date:                Mon, 12 Sep 2022   Deviance:                       6720.5\n",
       "Time:                        23:17:31   Pearson chi2:                 6.61e+03\n",
       "No. Iterations:                     5                                         \n",
       "Covariance Type:            nonrobust                                         \n",
       "==================================================================================================\n",
       "                                     coef    std err          z      P>|z|      [0.025      0.975]\n",
       "--------------------------------------------------------------------------------------------------\n",
       "const                             -1.0152      0.062    -16.371      0.000      -1.137      -0.894\n",
       "do_not_email                      -1.2374      0.144     -8.618      0.000      -1.519      -0.956\n",
       "total_visits                       0.0868      0.036      2.388      0.017       0.016       0.158\n",
       "time_on_website                    1.0586      0.035     29.925      0.000       0.989       1.128\n",
       "page_views_per_visit              -0.1295      0.043     -3.009      0.003      -0.214      -0.045\n",
       "lead_source_Google                 0.3425      0.078      4.389      0.000       0.190       0.495\n",
       "lead_source_Olark Chat             0.6766      0.109      6.187      0.000       0.462       0.891\n",
       "lead_source_Organic Search         0.2295      0.106      2.168      0.030       0.022       0.437\n",
       "lead_source_Other Social Sites     1.5553      0.155     10.026      0.000       1.251       1.859\n",
       "lead_source_Reference              4.0968      0.204     20.127      0.000       3.698       4.496\n",
       "==================================================================================================\n",
       "\"\"\""
      ]
     },
     "execution_count": 86,
     "metadata": {},
     "output_type": "execute_result"
    }
   ],
   "source": [
    "X_train_sm = sm.add_constant(X_train[col])\n",
    "logreg3 = sm.GLM(y_train,X_train_sm, family = sm.families.Binomial())\n",
    "res = logreg3.fit()\n",
    "res.summary()"
   ]
  },
  {
   "cell_type": "code",
   "execution_count": 87,
   "id": "b8067eca",
   "metadata": {},
   "outputs": [
    {
     "data": {
      "text/plain": [
       "array([0.23284848, 0.28100956, 0.25837106, 0.65452223, 0.23284848,\n",
       "       0.72838992, 0.17232305, 0.94363906, 0.77235734, 0.81162705])"
      ]
     },
     "execution_count": 87,
     "metadata": {},
     "output_type": "execute_result"
    }
   ],
   "source": [
    "y_train_pred = res.predict(X_train_sm).values.reshape(-1)\n",
    "y_train_pred[:10]"
   ]
  },
  {
   "cell_type": "code",
   "execution_count": 88,
   "id": "27f5f4f8",
   "metadata": {},
   "outputs": [],
   "source": [
    "y_train_pred_final['Convert_Prob'] = y_train_pred"
   ]
  },
  {
   "cell_type": "code",
   "execution_count": 89,
   "id": "c2c24a33",
   "metadata": {},
   "outputs": [
    {
     "data": {
      "text/html": [
       "<div>\n",
       "<style scoped>\n",
       "    .dataframe tbody tr th:only-of-type {\n",
       "        vertical-align: middle;\n",
       "    }\n",
       "\n",
       "    .dataframe tbody tr th {\n",
       "        vertical-align: top;\n",
       "    }\n",
       "\n",
       "    .dataframe thead th {\n",
       "        text-align: right;\n",
       "    }\n",
       "</style>\n",
       "<table border=\"1\" class=\"dataframe\">\n",
       "  <thead>\n",
       "    <tr style=\"text-align: right;\">\n",
       "      <th></th>\n",
       "      <th>converted</th>\n",
       "      <th>Convert_Prob</th>\n",
       "      <th>lead_number</th>\n",
       "      <th>predicted</th>\n",
       "    </tr>\n",
       "  </thead>\n",
       "  <tbody>\n",
       "    <tr>\n",
       "      <th>0</th>\n",
       "      <td>0</td>\n",
       "      <td>0.23</td>\n",
       "      <td>1871</td>\n",
       "      <td>0</td>\n",
       "    </tr>\n",
       "    <tr>\n",
       "      <th>1</th>\n",
       "      <td>0</td>\n",
       "      <td>0.28</td>\n",
       "      <td>6795</td>\n",
       "      <td>0</td>\n",
       "    </tr>\n",
       "    <tr>\n",
       "      <th>2</th>\n",
       "      <td>0</td>\n",
       "      <td>0.26</td>\n",
       "      <td>3516</td>\n",
       "      <td>0</td>\n",
       "    </tr>\n",
       "    <tr>\n",
       "      <th>3</th>\n",
       "      <td>0</td>\n",
       "      <td>0.65</td>\n",
       "      <td>8105</td>\n",
       "      <td>1</td>\n",
       "    </tr>\n",
       "    <tr>\n",
       "      <th>4</th>\n",
       "      <td>0</td>\n",
       "      <td>0.23</td>\n",
       "      <td>3934</td>\n",
       "      <td>0</td>\n",
       "    </tr>\n",
       "  </tbody>\n",
       "</table>\n",
       "</div>"
      ],
      "text/plain": [
       "   converted  Convert_Prob  lead_number  predicted\n",
       "0          0          0.23         1871          0\n",
       "1          0          0.28         6795          0\n",
       "2          0          0.26         3516          0\n",
       "3          0          0.65         8105          1\n",
       "4          0          0.23         3934          0"
      ]
     },
     "execution_count": 89,
     "metadata": {},
     "output_type": "execute_result"
    }
   ],
   "source": [
    "y_train_pred_final['predicted'] = y_train_pred_final.Convert_Prob.map(lambda x: 1 if x > 0.4 else 0)\n",
    "y_train_pred_final.head()"
   ]
  },
  {
   "cell_type": "code",
   "execution_count": 90,
   "id": "8c170aa8",
   "metadata": {},
   "outputs": [
    {
     "name": "stdout",
     "output_type": "stream",
     "text": [
      "0.7753555967841682\n"
     ]
    }
   ],
   "source": [
    "print(metrics.accuracy_score(y_train_pred_final.converted, y_train_pred_final.predicted))"
   ]
  },
  {
   "cell_type": "code",
   "execution_count": 91,
   "id": "e64bc24f",
   "metadata": {},
   "outputs": [
    {
     "data": {
      "text/html": [
       "<div>\n",
       "<style scoped>\n",
       "    .dataframe tbody tr th:only-of-type {\n",
       "        vertical-align: middle;\n",
       "    }\n",
       "\n",
       "    .dataframe tbody tr th {\n",
       "        vertical-align: top;\n",
       "    }\n",
       "\n",
       "    .dataframe thead th {\n",
       "        text-align: right;\n",
       "    }\n",
       "</style>\n",
       "<table border=\"1\" class=\"dataframe\">\n",
       "  <thead>\n",
       "    <tr style=\"text-align: right;\">\n",
       "      <th></th>\n",
       "      <th>Features</th>\n",
       "      <th>VIF</th>\n",
       "    </tr>\n",
       "  </thead>\n",
       "  <tbody>\n",
       "    <tr>\n",
       "      <th>3</th>\n",
       "      <td>page_views_per_visit</td>\n",
       "      <td>1.77</td>\n",
       "    </tr>\n",
       "    <tr>\n",
       "      <th>5</th>\n",
       "      <td>lead_source_Olark Chat</td>\n",
       "      <td>1.40</td>\n",
       "    </tr>\n",
       "    <tr>\n",
       "      <th>1</th>\n",
       "      <td>total_visits</td>\n",
       "      <td>1.30</td>\n",
       "    </tr>\n",
       "    <tr>\n",
       "      <th>2</th>\n",
       "      <td>time_on_website</td>\n",
       "      <td>1.21</td>\n",
       "    </tr>\n",
       "    <tr>\n",
       "      <th>6</th>\n",
       "      <td>lead_source_Organic Search</td>\n",
       "      <td>1.14</td>\n",
       "    </tr>\n",
       "    <tr>\n",
       "      <th>4</th>\n",
       "      <td>lead_source_Google</td>\n",
       "      <td>1.08</td>\n",
       "    </tr>\n",
       "    <tr>\n",
       "      <th>8</th>\n",
       "      <td>lead_source_Reference</td>\n",
       "      <td>1.08</td>\n",
       "    </tr>\n",
       "    <tr>\n",
       "      <th>0</th>\n",
       "      <td>do_not_email</td>\n",
       "      <td>1.04</td>\n",
       "    </tr>\n",
       "    <tr>\n",
       "      <th>7</th>\n",
       "      <td>lead_source_Other Social Sites</td>\n",
       "      <td>1.01</td>\n",
       "    </tr>\n",
       "  </tbody>\n",
       "</table>\n",
       "</div>"
      ],
      "text/plain": [
       "                         Features  VIF\n",
       "3            page_views_per_visit 1.77\n",
       "5          lead_source_Olark Chat 1.40\n",
       "1                    total_visits 1.30\n",
       "2                 time_on_website 1.21\n",
       "6      lead_source_Organic Search 1.14\n",
       "4              lead_source_Google 1.08\n",
       "8           lead_source_Reference 1.08\n",
       "0                    do_not_email 1.04\n",
       "7  lead_source_Other Social Sites 1.01"
      ]
     },
     "execution_count": 91,
     "metadata": {},
     "output_type": "execute_result"
    }
   ],
   "source": [
    "vif = pd.DataFrame()\n",
    "vif['Features'] = X_train[col].columns\n",
    "vif['VIF'] = [variance_inflation_factor(X_train[col].values, i) for i in range(X_train[col].shape[1])]\n",
    "vif['VIF'] = round(vif['VIF'], 2)\n",
    "vif = vif.sort_values(by = \"VIF\", ascending = False)\n",
    "vif"
   ]
  },
  {
   "cell_type": "markdown",
   "id": "0b29dba8",
   "metadata": {},
   "source": [
    "All variables have a good value of VIF. So we need not drop any more variables and we can proceed with making predictions using this model only."
   ]
  },
  {
   "cell_type": "markdown",
   "id": "317bbe88",
   "metadata": {},
   "source": [
    "## Metrics beyond simply accuracy"
   ]
  },
  {
   "cell_type": "code",
   "execution_count": 92,
   "id": "28c4e168",
   "metadata": {},
   "outputs": [],
   "source": [
    "TP = confusion[1,1] # true positive \n",
    "TN = confusion[0,0] # true negatives\n",
    "FP = confusion[0,1] # false positives\n",
    "FN = confusion[1,0] # false negatives"
   ]
  },
  {
   "cell_type": "code",
   "execution_count": 93,
   "id": "9490897e",
   "metadata": {},
   "outputs": [
    {
     "data": {
      "text/plain": [
       "0.583941605839416"
      ]
     },
     "execution_count": 93,
     "metadata": {},
     "output_type": "execute_result"
    }
   ],
   "source": [
    "# Let's see the sensitivity of our logistic regression model\n",
    "TP / float(TP+FN)"
   ]
  },
  {
   "cell_type": "code",
   "execution_count": 94,
   "id": "541a3675",
   "metadata": {},
   "outputs": [
    {
     "data": {
      "text/plain": [
       "0.872063968015992"
      ]
     },
     "execution_count": 94,
     "metadata": {},
     "output_type": "execute_result"
    }
   ],
   "source": [
    "# Let us calculate specificity\n",
    "TN / float(TN+FP)"
   ]
  },
  {
   "cell_type": "code",
   "execution_count": 95,
   "id": "fcf94501",
   "metadata": {},
   "outputs": [
    {
     "name": "stdout",
     "output_type": "stream",
     "text": [
      "0.127936031984008\n"
     ]
    }
   ],
   "source": [
    "# Calculate false postive rate - predicting converted when customer does not have converted\n",
    "print(FP/ float(TN+FP))"
   ]
  },
  {
   "cell_type": "code",
   "execution_count": 96,
   "id": "dc370041",
   "metadata": {},
   "outputs": [
    {
     "name": "stdout",
     "output_type": "stream",
     "text": [
      "0.7377049180327869\n"
     ]
    }
   ],
   "source": [
    "# positive predictive value \n",
    "print (TP / float(TP+FP))"
   ]
  },
  {
   "cell_type": "code",
   "execution_count": 97,
   "id": "3e904368",
   "metadata": {},
   "outputs": [
    {
     "name": "stdout",
     "output_type": "stream",
     "text": [
      "0.7728077945084145\n"
     ]
    }
   ],
   "source": [
    "# Negative predictive value\n",
    "print (TN / float(TN+ FN))"
   ]
  },
  {
   "cell_type": "markdown",
   "id": "8897c737",
   "metadata": {},
   "source": [
    "## Plotting the ROC Curve\n"
   ]
  },
  {
   "cell_type": "markdown",
   "id": "fb142639",
   "metadata": {},
   "source": [
    "An ROC curve demonstrates several things:\n",
    "\n",
    "- It shows the tradeoff between sensitivity and specificity (any increase in sensitivity will be accompanied by a decrease in specificity).\n",
    "- The closer the curve follows the left-hand border and then the top border of the ROC space, the more accurate the test.\n",
    "- The closer the curve comes to the 45-degree diagonal of the ROC space, the less accurate the test."
   ]
  },
  {
   "cell_type": "code",
   "execution_count": 98,
   "id": "27c315b7",
   "metadata": {},
   "outputs": [],
   "source": [
    "def draw_roc( actual, probs ):\n",
    "    fpr, tpr, thresholds = metrics.roc_curve( actual, probs,\n",
    "                                              drop_intermediate = False )\n",
    "    auc_score = metrics.roc_auc_score( actual, probs )\n",
    "    plt.figure(figsize=(5, 5))\n",
    "    plt.plot( fpr, tpr, label='ROC curve (area = %0.2f)' % auc_score )\n",
    "    plt.plot([0, 1], [0, 1], 'k--')\n",
    "    plt.xlim([0.0, 1.0])\n",
    "    plt.ylim([0.0, 1.05])\n",
    "    plt.xlabel('False Positive Rate or [1 - True Negative Rate]')\n",
    "    plt.ylabel('True Positive Rate')\n",
    "    plt.title('Receiver operating characteristic example')\n",
    "    plt.legend(loc=\"lower right\")\n",
    "    plt.show()\n",
    "\n",
    "    return None"
   ]
  },
  {
   "cell_type": "code",
   "execution_count": 99,
   "id": "aa821d7b",
   "metadata": {},
   "outputs": [],
   "source": [
    "fpr, tpr, thresholds = metrics.roc_curve( y_train_pred_final.converted, y_train_pred_final.Convert_Prob, drop_intermediate = False )"
   ]
  },
  {
   "cell_type": "code",
   "execution_count": 100,
   "id": "8eb27368",
   "metadata": {},
   "outputs": [
    {
     "data": {
      "image/png": "[encoded data removed]",
      "text/plain": [
       "<Figure size 360x360 with 1 Axes>"
      ]
     },
     "metadata": {
      "needs_background": "light"
     },
     "output_type": "display_data"
    }
   ],
   "source": [
    "draw_roc(y_train_pred_final.converted, y_train_pred_final.Convert_Prob)"
   ]
  },
  {
   "cell_type": "markdown",
   "id": "822b831d",
   "metadata": {},
   "source": [
    "# Finding Optimal Cutoff Point"
   ]
  },
  {
   "cell_type": "markdown",
   "id": "a5de91c1",
   "metadata": {},
   "source": [
    "Optimal cutoff probability is that prob where we get balanced sensitivity and specificity"
   ]
  },
  {
   "cell_type": "code",
   "execution_count": 101,
   "id": "bb0fbda8",
   "metadata": {},
   "outputs": [
    {
     "data": {
      "text/html": [
       "<div>\n",
       "<style scoped>\n",
       "    .dataframe tbody tr th:only-of-type {\n",
       "        vertical-align: middle;\n",
       "    }\n",
       "\n",
       "    .dataframe tbody tr th {\n",
       "        vertical-align: top;\n",
       "    }\n",
       "\n",
       "    .dataframe thead th {\n",
       "        text-align: right;\n",
       "    }\n",
       "</style>\n",
       "<table border=\"1\" class=\"dataframe\">\n",
       "  <thead>\n",
       "    <tr style=\"text-align: right;\">\n",
       "      <th></th>\n",
       "      <th>converted</th>\n",
       "      <th>Convert_Prob</th>\n",
       "      <th>lead_number</th>\n",
       "      <th>predicted</th>\n",
       "      <th>0.0</th>\n",
       "      <th>0.1</th>\n",
       "      <th>0.2</th>\n",
       "      <th>0.3</th>\n",
       "      <th>0.4</th>\n",
       "      <th>0.5</th>\n",
       "      <th>0.6</th>\n",
       "      <th>0.7</th>\n",
       "      <th>0.8</th>\n",
       "      <th>0.9</th>\n",
       "    </tr>\n",
       "  </thead>\n",
       "  <tbody>\n",
       "    <tr>\n",
       "      <th>0</th>\n",
       "      <td>0</td>\n",
       "      <td>0.23</td>\n",
       "      <td>1871</td>\n",
       "      <td>0</td>\n",
       "      <td>1</td>\n",
       "      <td>1</td>\n",
       "      <td>1</td>\n",
       "      <td>0</td>\n",
       "      <td>0</td>\n",
       "      <td>0</td>\n",
       "      <td>0</td>\n",
       "      <td>0</td>\n",
       "      <td>0</td>\n",
       "      <td>0</td>\n",
       "    </tr>\n",
       "    <tr>\n",
       "      <th>1</th>\n",
       "      <td>0</td>\n",
       "      <td>0.28</td>\n",
       "      <td>6795</td>\n",
       "      <td>0</td>\n",
       "      <td>1</td>\n",
       "      <td>1</td>\n",
       "      <td>1</td>\n",
       "      <td>0</td>\n",
       "      <td>0</td>\n",
       "      <td>0</td>\n",
       "      <td>0</td>\n",
       "      <td>0</td>\n",
       "      <td>0</td>\n",
       "      <td>0</td>\n",
       "    </tr>\n",
       "    <tr>\n",
       "      <th>2</th>\n",
       "      <td>0</td>\n",
       "      <td>0.26</td>\n",
       "      <td>3516</td>\n",
       "      <td>0</td>\n",
       "      <td>1</td>\n",
       "      <td>1</td>\n",
       "      <td>1</td>\n",
       "      <td>0</td>\n",
       "      <td>0</td>\n",
       "      <td>0</td>\n",
       "      <td>0</td>\n",
       "      <td>0</td>\n",
       "      <td>0</td>\n",
       "      <td>0</td>\n",
       "    </tr>\n",
       "    <tr>\n",
       "      <th>3</th>\n",
       "      <td>0</td>\n",
       "      <td>0.65</td>\n",
       "      <td>8105</td>\n",
       "      <td>1</td>\n",
       "      <td>1</td>\n",
       "      <td>1</td>\n",
       "      <td>1</td>\n",
       "      <td>1</td>\n",
       "      <td>1</td>\n",
       "      <td>1</td>\n",
       "      <td>1</td>\n",
       "      <td>0</td>\n",
       "      <td>0</td>\n",
       "      <td>0</td>\n",
       "    </tr>\n",
       "    <tr>\n",
       "      <th>4</th>\n",
       "      <td>0</td>\n",
       "      <td>0.23</td>\n",
       "      <td>3934</td>\n",
       "      <td>0</td>\n",
       "      <td>1</td>\n",
       "      <td>1</td>\n",
       "      <td>1</td>\n",
       "      <td>0</td>\n",
       "      <td>0</td>\n",
       "      <td>0</td>\n",
       "      <td>0</td>\n",
       "      <td>0</td>\n",
       "      <td>0</td>\n",
       "      <td>0</td>\n",
       "    </tr>\n",
       "  </tbody>\n",
       "</table>\n",
       "</div>"
      ],
      "text/plain": [
       "   converted  Convert_Prob  lead_number  predicted  0.0  0.1  0.2  0.3  0.4  \\\n",
       "0          0          0.23         1871          0    1    1    1    0    0   \n",
       "1          0          0.28         6795          0    1    1    1    0    0   \n",
       "2          0          0.26         3516          0    1    1    1    0    0   \n",
       "3          0          0.65         8105          1    1    1    1    1    1   \n",
       "4          0          0.23         3934          0    1    1    1    0    0   \n",
       "\n",
       "   0.5  0.6  0.7  0.8  0.9  \n",
       "0    0    0    0    0    0  \n",
       "1    0    0    0    0    0  \n",
       "2    0    0    0    0    0  \n",
       "3    1    1    0    0    0  \n",
       "4    0    0    0    0    0  "
      ]
     },
     "execution_count": 101,
     "metadata": {},
     "output_type": "execute_result"
    }
   ],
   "source": [
    "numbers = [float(x)/10 for x in range(10)]\n",
    "for i in numbers:\n",
    "    y_train_pred_final[i]= y_train_pred_final.Convert_Prob.map(lambda x: 1 if x > i else 0)\n",
    "y_train_pred_final.head()"
   ]
  },
  {
   "cell_type": "code",
   "execution_count": 102,
   "id": "f4324149",
   "metadata": {},
   "outputs": [
    {
     "name": "stdout",
     "output_type": "stream",
     "text": [
      "      prob  accuracy  sensi  speci\n",
      "0.00  0.00      0.38   1.00   0.00\n",
      "0.10  0.10      0.43   0.99   0.08\n",
      "0.20  0.20      0.56   0.91   0.35\n",
      "0.30  0.30      0.76   0.73   0.78\n",
      "0.40  0.40      0.78   0.68   0.83\n",
      "0.50  0.50      0.76   0.58   0.87\n",
      "0.60  0.60      0.74   0.48   0.91\n",
      "0.70  0.70      0.72   0.35   0.94\n",
      "0.80  0.80      0.68   0.21   0.97\n",
      "0.90  0.90      0.67   0.15   0.99\n"
     ]
    }
   ],
   "source": [
    "# Now let's calculate accuracy sensitivity and specificity for various probability cutoffs.\n",
    "cutoff_df = pd.DataFrame( columns = ['prob','accuracy','sensi','speci'])\n",
    "from sklearn.metrics import confusion_matrix\n",
    "\n",
    "# TP = confusion[1,1] # true positive \n",
    "# TN = confusion[0,0] # true negatives\n",
    "# FP = confusion[0,1] # false positives\n",
    "# FN = confusion[1,0] # false negatives\n",
    "\n",
    "num = [0.0,0.1,0.2,0.3,0.4,0.5,0.6,0.7,0.8,0.9]\n",
    "for i in num:\n",
    "    cm1 = metrics.confusion_matrix(y_train_pred_final.converted, y_train_pred_final[i] )\n",
    "    total1=sum(sum(cm1))\n",
    "    accuracy = (cm1[0,0]+cm1[1,1])/total1\n",
    "    \n",
    "    speci = cm1[0,0]/(cm1[0,0]+cm1[0,1])\n",
    "    sensi = cm1[1,1]/(cm1[1,0]+cm1[1,1])\n",
    "    cutoff_df.loc[i] =[ i ,accuracy,sensi,speci]\n",
    "print(cutoff_df)"
   ]
  },
  {
   "cell_type": "code",
   "execution_count": 103,
   "id": "ec0cfbe8",
   "metadata": {},
   "outputs": [
    {
     "data": {
      "image/png": "[encoded data removed]",
      "text/plain": [
       "<Figure size 432x288 with 1 Axes>"
      ]
     },
     "metadata": {
      "needs_background": "light"
     },
     "output_type": "display_data"
    }
   ],
   "source": [
    "# Let's plot accuracy sensitivity and specificity for various probabilities.\n",
    "cutoff_df.plot.line(x='prob', y=['accuracy','sensi','speci'])\n",
    "plt.show()"
   ]
  },
  {
   "cell_type": "code",
   "execution_count": 104,
   "id": "2215154b",
   "metadata": {},
   "outputs": [
    {
     "data": {
      "text/html": [
       "<div>\n",
       "<style scoped>\n",
       "    .dataframe tbody tr th:only-of-type {\n",
       "        vertical-align: middle;\n",
       "    }\n",
       "\n",
       "    .dataframe tbody tr th {\n",
       "        vertical-align: top;\n",
       "    }\n",
       "\n",
       "    .dataframe thead th {\n",
       "        text-align: right;\n",
       "    }\n",
       "</style>\n",
       "<table border=\"1\" class=\"dataframe\">\n",
       "  <thead>\n",
       "    <tr style=\"text-align: right;\">\n",
       "      <th></th>\n",
       "      <th>converted</th>\n",
       "      <th>Convert_Prob</th>\n",
       "      <th>lead_number</th>\n",
       "      <th>predicted</th>\n",
       "      <th>0.0</th>\n",
       "      <th>0.1</th>\n",
       "      <th>0.2</th>\n",
       "      <th>0.3</th>\n",
       "      <th>0.4</th>\n",
       "      <th>0.5</th>\n",
       "      <th>0.6</th>\n",
       "      <th>0.7</th>\n",
       "      <th>0.8</th>\n",
       "      <th>0.9</th>\n",
       "      <th>final_predicted</th>\n",
       "    </tr>\n",
       "  </thead>\n",
       "  <tbody>\n",
       "    <tr>\n",
       "      <th>0</th>\n",
       "      <td>0</td>\n",
       "      <td>0.23</td>\n",
       "      <td>1871</td>\n",
       "      <td>0</td>\n",
       "      <td>1</td>\n",
       "      <td>1</td>\n",
       "      <td>1</td>\n",
       "      <td>0</td>\n",
       "      <td>0</td>\n",
       "      <td>0</td>\n",
       "      <td>0</td>\n",
       "      <td>0</td>\n",
       "      <td>0</td>\n",
       "      <td>0</td>\n",
       "      <td>0</td>\n",
       "    </tr>\n",
       "    <tr>\n",
       "      <th>1</th>\n",
       "      <td>0</td>\n",
       "      <td>0.28</td>\n",
       "      <td>6795</td>\n",
       "      <td>0</td>\n",
       "      <td>1</td>\n",
       "      <td>1</td>\n",
       "      <td>1</td>\n",
       "      <td>0</td>\n",
       "      <td>0</td>\n",
       "      <td>0</td>\n",
       "      <td>0</td>\n",
       "      <td>0</td>\n",
       "      <td>0</td>\n",
       "      <td>0</td>\n",
       "      <td>0</td>\n",
       "    </tr>\n",
       "    <tr>\n",
       "      <th>2</th>\n",
       "      <td>0</td>\n",
       "      <td>0.26</td>\n",
       "      <td>3516</td>\n",
       "      <td>0</td>\n",
       "      <td>1</td>\n",
       "      <td>1</td>\n",
       "      <td>1</td>\n",
       "      <td>0</td>\n",
       "      <td>0</td>\n",
       "      <td>0</td>\n",
       "      <td>0</td>\n",
       "      <td>0</td>\n",
       "      <td>0</td>\n",
       "      <td>0</td>\n",
       "      <td>0</td>\n",
       "    </tr>\n",
       "    <tr>\n",
       "      <th>3</th>\n",
       "      <td>0</td>\n",
       "      <td>0.65</td>\n",
       "      <td>8105</td>\n",
       "      <td>1</td>\n",
       "      <td>1</td>\n",
       "      <td>1</td>\n",
       "      <td>1</td>\n",
       "      <td>1</td>\n",
       "      <td>1</td>\n",
       "      <td>1</td>\n",
       "      <td>1</td>\n",
       "      <td>0</td>\n",
       "      <td>0</td>\n",
       "      <td>0</td>\n",
       "      <td>1</td>\n",
       "    </tr>\n",
       "    <tr>\n",
       "      <th>4</th>\n",
       "      <td>0</td>\n",
       "      <td>0.23</td>\n",
       "      <td>3934</td>\n",
       "      <td>0</td>\n",
       "      <td>1</td>\n",
       "      <td>1</td>\n",
       "      <td>1</td>\n",
       "      <td>0</td>\n",
       "      <td>0</td>\n",
       "      <td>0</td>\n",
       "      <td>0</td>\n",
       "      <td>0</td>\n",
       "      <td>0</td>\n",
       "      <td>0</td>\n",
       "      <td>0</td>\n",
       "    </tr>\n",
       "  </tbody>\n",
       "</table>\n",
       "</div>"
      ],
      "text/plain": [
       "   converted  Convert_Prob  lead_number  predicted  0.0  0.1  0.2  0.3  0.4  \\\n",
       "0          0          0.23         1871          0    1    1    1    0    0   \n",
       "1          0          0.28         6795          0    1    1    1    0    0   \n",
       "2          0          0.26         3516          0    1    1    1    0    0   \n",
       "3          0          0.65         8105          1    1    1    1    1    1   \n",
       "4          0          0.23         3934          0    1    1    1    0    0   \n",
       "\n",
       "   0.5  0.6  0.7  0.8  0.9  final_predicted  \n",
       "0    0    0    0    0    0                0  \n",
       "1    0    0    0    0    0                0  \n",
       "2    0    0    0    0    0                0  \n",
       "3    1    1    0    0    0                1  \n",
       "4    0    0    0    0    0                0  "
      ]
     },
     "execution_count": 104,
     "metadata": {},
     "output_type": "execute_result"
    }
   ],
   "source": [
    "y_train_pred_final['final_predicted'] = y_train_pred_final.Convert_Prob.map( lambda x: 1 if x > 0.4 else 0)\n",
    "\n",
    "y_train_pred_final.head()"
   ]
  },
  {
   "cell_type": "markdown",
   "id": "fe3f6667",
   "metadata": {},
   "source": [
    "# Assigning Lead Score"
   ]
  },
  {
   "cell_type": "code",
   "execution_count": 105,
   "id": "01e879b5",
   "metadata": {},
   "outputs": [
    {
     "data": {
      "text/html": [
       "<div>\n",
       "<style scoped>\n",
       "    .dataframe tbody tr th:only-of-type {\n",
       "        vertical-align: middle;\n",
       "    }\n",
       "\n",
       "    .dataframe tbody tr th {\n",
       "        vertical-align: top;\n",
       "    }\n",
       "\n",
       "    .dataframe thead th {\n",
       "        text-align: right;\n",
       "    }\n",
       "</style>\n",
       "<table border=\"1\" class=\"dataframe\">\n",
       "  <thead>\n",
       "    <tr style=\"text-align: right;\">\n",
       "      <th></th>\n",
       "      <th>converted</th>\n",
       "      <th>Convert_Prob</th>\n",
       "      <th>lead_number</th>\n",
       "      <th>predicted</th>\n",
       "      <th>0.0</th>\n",
       "      <th>0.1</th>\n",
       "      <th>0.2</th>\n",
       "      <th>0.3</th>\n",
       "      <th>0.4</th>\n",
       "      <th>0.5</th>\n",
       "      <th>0.6</th>\n",
       "      <th>0.7</th>\n",
       "      <th>0.8</th>\n",
       "      <th>0.9</th>\n",
       "      <th>final_predicted</th>\n",
       "      <th>Lead_Score</th>\n",
       "    </tr>\n",
       "  </thead>\n",
       "  <tbody>\n",
       "    <tr>\n",
       "      <th>0</th>\n",
       "      <td>0</td>\n",
       "      <td>0.23</td>\n",
       "      <td>1871</td>\n",
       "      <td>0</td>\n",
       "      <td>1</td>\n",
       "      <td>1</td>\n",
       "      <td>1</td>\n",
       "      <td>0</td>\n",
       "      <td>0</td>\n",
       "      <td>0</td>\n",
       "      <td>0</td>\n",
       "      <td>0</td>\n",
       "      <td>0</td>\n",
       "      <td>0</td>\n",
       "      <td>0</td>\n",
       "      <td>23</td>\n",
       "    </tr>\n",
       "    <tr>\n",
       "      <th>1</th>\n",
       "      <td>0</td>\n",
       "      <td>0.28</td>\n",
       "      <td>6795</td>\n",
       "      <td>0</td>\n",
       "      <td>1</td>\n",
       "      <td>1</td>\n",
       "      <td>1</td>\n",
       "      <td>0</td>\n",
       "      <td>0</td>\n",
       "      <td>0</td>\n",
       "      <td>0</td>\n",
       "      <td>0</td>\n",
       "      <td>0</td>\n",
       "      <td>0</td>\n",
       "      <td>0</td>\n",
       "      <td>28</td>\n",
       "    </tr>\n",
       "    <tr>\n",
       "      <th>2</th>\n",
       "      <td>0</td>\n",
       "      <td>0.26</td>\n",
       "      <td>3516</td>\n",
       "      <td>0</td>\n",
       "      <td>1</td>\n",
       "      <td>1</td>\n",
       "      <td>1</td>\n",
       "      <td>0</td>\n",
       "      <td>0</td>\n",
       "      <td>0</td>\n",
       "      <td>0</td>\n",
       "      <td>0</td>\n",
       "      <td>0</td>\n",
       "      <td>0</td>\n",
       "      <td>0</td>\n",
       "      <td>26</td>\n",
       "    </tr>\n",
       "    <tr>\n",
       "      <th>3</th>\n",
       "      <td>0</td>\n",
       "      <td>0.65</td>\n",
       "      <td>8105</td>\n",
       "      <td>1</td>\n",
       "      <td>1</td>\n",
       "      <td>1</td>\n",
       "      <td>1</td>\n",
       "      <td>1</td>\n",
       "      <td>1</td>\n",
       "      <td>1</td>\n",
       "      <td>1</td>\n",
       "      <td>0</td>\n",
       "      <td>0</td>\n",
       "      <td>0</td>\n",
       "      <td>1</td>\n",
       "      <td>65</td>\n",
       "    </tr>\n",
       "    <tr>\n",
       "      <th>4</th>\n",
       "      <td>0</td>\n",
       "      <td>0.23</td>\n",
       "      <td>3934</td>\n",
       "      <td>0</td>\n",
       "      <td>1</td>\n",
       "      <td>1</td>\n",
       "      <td>1</td>\n",
       "      <td>0</td>\n",
       "      <td>0</td>\n",
       "      <td>0</td>\n",
       "      <td>0</td>\n",
       "      <td>0</td>\n",
       "      <td>0</td>\n",
       "      <td>0</td>\n",
       "      <td>0</td>\n",
       "      <td>23</td>\n",
       "    </tr>\n",
       "  </tbody>\n",
       "</table>\n",
       "</div>"
      ],
      "text/plain": [
       "   converted  Convert_Prob  lead_number  predicted  0.0  0.1  0.2  0.3  0.4  \\\n",
       "0          0          0.23         1871          0    1    1    1    0    0   \n",
       "1          0          0.28         6795          0    1    1    1    0    0   \n",
       "2          0          0.26         3516          0    1    1    1    0    0   \n",
       "3          0          0.65         8105          1    1    1    1    1    1   \n",
       "4          0          0.23         3934          0    1    1    1    0    0   \n",
       "\n",
       "   0.5  0.6  0.7  0.8  0.9  final_predicted  Lead_Score  \n",
       "0    0    0    0    0    0                0          23  \n",
       "1    0    0    0    0    0                0          28  \n",
       "2    0    0    0    0    0                0          26  \n",
       "3    1    1    0    0    0                1          65  \n",
       "4    0    0    0    0    0                0          23  "
      ]
     },
     "execution_count": 105,
     "metadata": {},
     "output_type": "execute_result"
    }
   ],
   "source": [
    "y_train_pred_final['Lead_Score'] = y_train_pred_final.Convert_Prob.map( lambda x: round(x*100))\n",
    "\n",
    "y_train_pred_final.head()"
   ]
  },
  {
   "cell_type": "code",
   "execution_count": 106,
   "id": "798f2ee2",
   "metadata": {},
   "outputs": [
    {
     "data": {
      "text/plain": [
       "array([[3328,  674],\n",
       "       [ 779, 1687]])"
      ]
     },
     "execution_count": 106,
     "metadata": {},
     "output_type": "execute_result"
    }
   ],
   "source": [
    "confusion2 = metrics.confusion_matrix(y_train_pred_final.converted, y_train_pred_final.final_predicted )\n",
    "confusion2"
   ]
  },
  {
   "cell_type": "code",
   "execution_count": 107,
   "id": "726e7ffe",
   "metadata": {},
   "outputs": [],
   "source": [
    "TP = confusion2[1,1] # true positive \n",
    "TN = confusion2[0,0] # true negatives\n",
    "FP = confusion2[0,1] # false positives\n",
    "FN = confusion2[1,0] # false negatives"
   ]
  },
  {
   "cell_type": "code",
   "execution_count": 108,
   "id": "bf6f4fb9",
   "metadata": {},
   "outputs": [
    {
     "data": {
      "text/plain": [
       "0.6841038118410381"
      ]
     },
     "execution_count": 108,
     "metadata": {},
     "output_type": "execute_result"
    }
   ],
   "source": [
    "# Let's see the sensitivity of our logistic regression model\n",
    "TP / float(TP+FN)"
   ]
  },
  {
   "cell_type": "code",
   "execution_count": 109,
   "id": "1d605423",
   "metadata": {},
   "outputs": [
    {
     "data": {
      "text/plain": [
       "0.8315842078960519"
      ]
     },
     "execution_count": 109,
     "metadata": {},
     "output_type": "execute_result"
    }
   ],
   "source": [
    "# Let us calculate specificity\n",
    "TN / float(TN+FP)"
   ]
  },
  {
   "cell_type": "code",
   "execution_count": 110,
   "id": "e5347874",
   "metadata": {},
   "outputs": [
    {
     "name": "stdout",
     "output_type": "stream",
     "text": [
      "0.16841579210394803\n"
     ]
    }
   ],
   "source": [
    "# Calculate false postive rate - predicting churn when customer does not have churned\n",
    "print(FP/ float(TN+FP))"
   ]
  },
  {
   "cell_type": "code",
   "execution_count": 111,
   "id": "81ebfae0",
   "metadata": {},
   "outputs": [
    {
     "name": "stdout",
     "output_type": "stream",
     "text": [
      "0.7145277424819991\n"
     ]
    }
   ],
   "source": [
    "# Positive predictive value \n",
    "print (TP / float(TP+FP))"
   ]
  },
  {
   "cell_type": "code",
   "execution_count": 112,
   "id": "ab7782d2",
   "metadata": {},
   "outputs": [
    {
     "name": "stdout",
     "output_type": "stream",
     "text": [
      "0.8103238373508643\n"
     ]
    }
   ],
   "source": [
    "# Negative predictive value\n",
    "print (TN / float(TN+ FN))"
   ]
  },
  {
   "cell_type": "markdown",
   "id": "843e9f46",
   "metadata": {},
   "source": [
    "## Precision and Recall"
   ]
  },
  {
   "cell_type": "code",
   "execution_count": 113,
   "id": "ff8d03f9",
   "metadata": {},
   "outputs": [
    {
     "name": "stdout",
     "output_type": "stream",
     "text": [
      "[[3328  674]\n",
      " [ 779 1687]]\n"
     ]
    }
   ],
   "source": [
    "confusion = metrics.confusion_matrix(y_train_pred_final.converted, y_train_pred_final.predicted )\n",
    "print(confusion)"
   ]
  },
  {
   "cell_type": "markdown",
   "id": "ae119450",
   "metadata": {},
   "source": [
    "##### Precision\n",
    "TP / TP + FP"
   ]
  },
  {
   "cell_type": "code",
   "execution_count": 114,
   "id": "a48e2781",
   "metadata": {},
   "outputs": [
    {
     "data": {
      "text/plain": [
       "0.7145277424819991"
      ]
     },
     "execution_count": 114,
     "metadata": {},
     "output_type": "execute_result"
    }
   ],
   "source": [
    "confusion[1,1]/(confusion[0,1]+confusion[1,1])"
   ]
  },
  {
   "cell_type": "markdown",
   "id": "7e299a0a",
   "metadata": {},
   "source": [
    "##### Recall\n",
    "TP / TP + FN"
   ]
  },
  {
   "cell_type": "code",
   "execution_count": 115,
   "id": "eac770a5",
   "metadata": {},
   "outputs": [
    {
     "data": {
      "text/plain": [
       "0.6841038118410381"
      ]
     },
     "execution_count": 115,
     "metadata": {},
     "output_type": "execute_result"
    }
   ],
   "source": [
    "confusion[1,1]/(confusion[1,0]+confusion[1,1])"
   ]
  },
  {
   "cell_type": "markdown",
   "id": "f200bf7a",
   "metadata": {},
   "source": [
    "### Precision and recall tradeoff"
   ]
  },
  {
   "cell_type": "code",
   "execution_count": 116,
   "id": "7d1b5d48",
   "metadata": {},
   "outputs": [],
   "source": [
    "from sklearn.metrics import precision_recall_curve"
   ]
  },
  {
   "cell_type": "code",
   "execution_count": 117,
   "id": "a0a2fd20",
   "metadata": {},
   "outputs": [
    {
     "data": {
      "text/plain": [
       "(0       0\n",
       " 1       0\n",
       " 2       0\n",
       " 3       0\n",
       " 4       0\n",
       "        ..\n",
       " 6463    1\n",
       " 6464    1\n",
       " 6465    1\n",
       " 6466    0\n",
       " 6467    0\n",
       " Name: converted, Length: 6468, dtype: int64,\n",
       " 0       0\n",
       " 1       0\n",
       " 2       0\n",
       " 3       1\n",
       " 4       0\n",
       "        ..\n",
       " 6463    0\n",
       " 6464    1\n",
       " 6465    0\n",
       " 6466    0\n",
       " 6467    0\n",
       " Name: predicted, Length: 6468, dtype: int64)"
      ]
     },
     "execution_count": 117,
     "metadata": {},
     "output_type": "execute_result"
    }
   ],
   "source": [
    "y_train_pred_final.converted, y_train_pred_final.predicted"
   ]
  },
  {
   "cell_type": "code",
   "execution_count": 118,
   "id": "8fb5ba82",
   "metadata": {},
   "outputs": [],
   "source": [
    "p, r, thresholds = precision_recall_curve(y_train_pred_final.converted, y_train_pred_final.Convert_Prob)"
   ]
  },
  {
   "cell_type": "code",
   "execution_count": 119,
   "id": "418e938f",
   "metadata": {},
   "outputs": [
    {
     "data": {
      "image/png": "[encoded data removed]",
      "text/plain": [
       "<Figure size 432x288 with 1 Axes>"
      ]
     },
     "metadata": {
      "needs_background": "light"
     },
     "output_type": "display_data"
    }
   ],
   "source": [
    "plt.plot(thresholds, p[:-1], \"g-\")\n",
    "plt.plot(thresholds, r[:-1], \"r-\")\n",
    "plt.show()"
   ]
  },
  {
   "cell_type": "markdown",
   "id": "f9ac59b4",
   "metadata": {},
   "source": [
    "### Making predictions on the test set\n"
   ]
  },
  {
   "cell_type": "code",
   "execution_count": 120,
   "id": "d8dcbf7a",
   "metadata": {},
   "outputs": [],
   "source": [
    "X_test[['total_visits','time_on_website','page_views_per_visit']] = scaler.transform(X_test[['total_visits','time_on_website','page_views_per_visit']])"
   ]
  },
  {
   "cell_type": "code",
   "execution_count": 121,
   "id": "b2d037ea",
   "metadata": {},
   "outputs": [
    {
     "data": {
      "text/html": [
       "<div>\n",
       "<style scoped>\n",
       "    .dataframe tbody tr th:only-of-type {\n",
       "        vertical-align: middle;\n",
       "    }\n",
       "\n",
       "    .dataframe tbody tr th {\n",
       "        vertical-align: top;\n",
       "    }\n",
       "\n",
       "    .dataframe thead th {\n",
       "        text-align: right;\n",
       "    }\n",
       "</style>\n",
       "<table border=\"1\" class=\"dataframe\">\n",
       "  <thead>\n",
       "    <tr style=\"text-align: right;\">\n",
       "      <th></th>\n",
       "      <th>do_not_email</th>\n",
       "      <th>total_visits</th>\n",
       "      <th>time_on_website</th>\n",
       "      <th>page_views_per_visit</th>\n",
       "      <th>lead_source_Google</th>\n",
       "      <th>lead_source_Olark Chat</th>\n",
       "      <th>lead_source_Organic Search</th>\n",
       "      <th>lead_source_Other Social Sites</th>\n",
       "      <th>lead_source_Reference</th>\n",
       "    </tr>\n",
       "  </thead>\n",
       "  <tbody>\n",
       "    <tr>\n",
       "      <th>4269</th>\n",
       "      <td>0</td>\n",
       "      <td>0.86</td>\n",
       "      <td>0.96</td>\n",
       "      <td>2.61</td>\n",
       "      <td>0</td>\n",
       "      <td>0</td>\n",
       "      <td>0</td>\n",
       "      <td>0</td>\n",
       "      <td>0</td>\n",
       "    </tr>\n",
       "    <tr>\n",
       "      <th>2376</th>\n",
       "      <td>0</td>\n",
       "      <td>-0.66</td>\n",
       "      <td>-0.89</td>\n",
       "      <td>-1.09</td>\n",
       "      <td>0</td>\n",
       "      <td>0</td>\n",
       "      <td>0</td>\n",
       "      <td>0</td>\n",
       "      <td>1</td>\n",
       "    </tr>\n",
       "    <tr>\n",
       "      <th>7766</th>\n",
       "      <td>0</td>\n",
       "      <td>0.29</td>\n",
       "      <td>-0.78</td>\n",
       "      <td>1.23</td>\n",
       "      <td>1</td>\n",
       "      <td>0</td>\n",
       "      <td>0</td>\n",
       "      <td>0</td>\n",
       "      <td>0</td>\n",
       "    </tr>\n",
       "    <tr>\n",
       "      <th>9199</th>\n",
       "      <td>0</td>\n",
       "      <td>-0.66</td>\n",
       "      <td>-0.89</td>\n",
       "      <td>-1.09</td>\n",
       "      <td>0</td>\n",
       "      <td>1</td>\n",
       "      <td>0</td>\n",
       "      <td>0</td>\n",
       "      <td>0</td>\n",
       "    </tr>\n",
       "    <tr>\n",
       "      <th>4359</th>\n",
       "      <td>0</td>\n",
       "      <td>-0.66</td>\n",
       "      <td>-0.89</td>\n",
       "      <td>-1.09</td>\n",
       "      <td>0</td>\n",
       "      <td>0</td>\n",
       "      <td>0</td>\n",
       "      <td>0</td>\n",
       "      <td>1</td>\n",
       "    </tr>\n",
       "  </tbody>\n",
       "</table>\n",
       "</div>"
      ],
      "text/plain": [
       "      do_not_email  total_visits  time_on_website  page_views_per_visit  \\\n",
       "4269             0          0.86             0.96                  2.61   \n",
       "2376             0         -0.66            -0.89                 -1.09   \n",
       "7766             0          0.29            -0.78                  1.23   \n",
       "9199             0         -0.66            -0.89                 -1.09   \n",
       "4359             0         -0.66            -0.89                 -1.09   \n",
       "\n",
       "      lead_source_Google  lead_source_Olark Chat  lead_source_Organic Search  \\\n",
       "4269                   0                       0                           0   \n",
       "2376                   0                       0                           0   \n",
       "7766                   1                       0                           0   \n",
       "9199                   0                       1                           0   \n",
       "4359                   0                       0                           0   \n",
       "\n",
       "      lead_source_Other Social Sites  lead_source_Reference  \n",
       "4269                               0                      0  \n",
       "2376                               0                      1  \n",
       "7766                               0                      0  \n",
       "9199                               0                      0  \n",
       "4359                               0                      1  "
      ]
     },
     "execution_count": 121,
     "metadata": {},
     "output_type": "execute_result"
    }
   ],
   "source": [
    "X_test = X_test[col]\n",
    "X_test.head()"
   ]
  },
  {
   "cell_type": "code",
   "execution_count": 122,
   "id": "c0fc210a",
   "metadata": {},
   "outputs": [],
   "source": [
    "X_test_sm = sm.add_constant(X_test)"
   ]
  },
  {
   "cell_type": "code",
   "execution_count": 123,
   "id": "adce12d0",
   "metadata": {},
   "outputs": [],
   "source": [
    "y_test_pred = res.predict(X_test_sm)"
   ]
  },
  {
   "cell_type": "code",
   "execution_count": 124,
   "id": "3bd5e0c6",
   "metadata": {},
   "outputs": [
    {
     "data": {
      "text/plain": [
       "4269   0.44\n",
       "2376   0.90\n",
       "7766   0.16\n",
       "9199   0.23\n",
       "4359   0.90\n",
       "9186   0.35\n",
       "1631   0.55\n",
       "8963   0.26\n",
       "8007   0.27\n",
       "5324   0.21\n",
       "dtype: float64"
      ]
     },
     "execution_count": 124,
     "metadata": {},
     "output_type": "execute_result"
    }
   ],
   "source": [
    "y_test_pred[:10]"
   ]
  },
  {
   "cell_type": "code",
   "execution_count": 125,
   "id": "6948f2ae",
   "metadata": {},
   "outputs": [
    {
     "data": {
      "text/html": [
       "<div>\n",
       "<style scoped>\n",
       "    .dataframe tbody tr th:only-of-type {\n",
       "        vertical-align: middle;\n",
       "    }\n",
       "\n",
       "    .dataframe tbody tr th {\n",
       "        vertical-align: top;\n",
       "    }\n",
       "\n",
       "    .dataframe thead th {\n",
       "        text-align: right;\n",
       "    }\n",
       "</style>\n",
       "<table border=\"1\" class=\"dataframe\">\n",
       "  <thead>\n",
       "    <tr style=\"text-align: right;\">\n",
       "      <th></th>\n",
       "      <th>0</th>\n",
       "    </tr>\n",
       "  </thead>\n",
       "  <tbody>\n",
       "    <tr>\n",
       "      <th>4269</th>\n",
       "      <td>0.44</td>\n",
       "    </tr>\n",
       "    <tr>\n",
       "      <th>2376</th>\n",
       "      <td>0.90</td>\n",
       "    </tr>\n",
       "    <tr>\n",
       "      <th>7766</th>\n",
       "      <td>0.16</td>\n",
       "    </tr>\n",
       "    <tr>\n",
       "      <th>9199</th>\n",
       "      <td>0.23</td>\n",
       "    </tr>\n",
       "    <tr>\n",
       "      <th>4359</th>\n",
       "      <td>0.90</td>\n",
       "    </tr>\n",
       "  </tbody>\n",
       "</table>\n",
       "</div>"
      ],
      "text/plain": [
       "        0\n",
       "4269 0.44\n",
       "2376 0.90\n",
       "7766 0.16\n",
       "9199 0.23\n",
       "4359 0.90"
      ]
     },
     "execution_count": 125,
     "metadata": {},
     "output_type": "execute_result"
    }
   ],
   "source": [
    "# Converting y_pred to a dataframe which is an array\n",
    "y_pred_1 = pd.DataFrame(y_test_pred)\n",
    "y_pred_1.head()"
   ]
  },
  {
   "cell_type": "code",
   "execution_count": 126,
   "id": "7f91c4b8",
   "metadata": {},
   "outputs": [],
   "source": [
    "# Converting y_test to dataframe\n",
    "y_test_df = pd.DataFrame(y_test)"
   ]
  },
  {
   "cell_type": "code",
   "execution_count": 127,
   "id": "4cb4d0d8",
   "metadata": {},
   "outputs": [],
   "source": [
    "# Putting CustID to index\n",
    "y_test_df['lead_number'] = y_test_df.index"
   ]
  },
  {
   "cell_type": "code",
   "execution_count": 128,
   "id": "3d09628c",
   "metadata": {},
   "outputs": [],
   "source": [
    "# Removing index for both dataframes to append them side by side \n",
    "y_pred_1.reset_index(drop=True, inplace=True)\n",
    "y_test_df.reset_index(drop=True, inplace=True)\n",
    "# Appending y_test_df and y_pred_1\n",
    "y_pred_final = pd.concat([y_test_df, y_pred_1],axis=1)"
   ]
  },
  {
   "cell_type": "code",
   "execution_count": 129,
   "id": "fc336ded",
   "metadata": {},
   "outputs": [
    {
     "data": {
      "text/html": [
       "<div>\n",
       "<style scoped>\n",
       "    .dataframe tbody tr th:only-of-type {\n",
       "        vertical-align: middle;\n",
       "    }\n",
       "\n",
       "    .dataframe tbody tr th {\n",
       "        vertical-align: top;\n",
       "    }\n",
       "\n",
       "    .dataframe thead th {\n",
       "        text-align: right;\n",
       "    }\n",
       "</style>\n",
       "<table border=\"1\" class=\"dataframe\">\n",
       "  <thead>\n",
       "    <tr style=\"text-align: right;\">\n",
       "      <th></th>\n",
       "      <th>converted</th>\n",
       "      <th>lead_number</th>\n",
       "      <th>0</th>\n",
       "    </tr>\n",
       "  </thead>\n",
       "  <tbody>\n",
       "    <tr>\n",
       "      <th>0</th>\n",
       "      <td>1</td>\n",
       "      <td>4269</td>\n",
       "      <td>0.44</td>\n",
       "    </tr>\n",
       "    <tr>\n",
       "      <th>1</th>\n",
       "      <td>1</td>\n",
       "      <td>2376</td>\n",
       "      <td>0.90</td>\n",
       "    </tr>\n",
       "    <tr>\n",
       "      <th>2</th>\n",
       "      <td>1</td>\n",
       "      <td>7766</td>\n",
       "      <td>0.16</td>\n",
       "    </tr>\n",
       "    <tr>\n",
       "      <th>3</th>\n",
       "      <td>0</td>\n",
       "      <td>9199</td>\n",
       "      <td>0.23</td>\n",
       "    </tr>\n",
       "    <tr>\n",
       "      <th>4</th>\n",
       "      <td>1</td>\n",
       "      <td>4359</td>\n",
       "      <td>0.90</td>\n",
       "    </tr>\n",
       "  </tbody>\n",
       "</table>\n",
       "</div>"
      ],
      "text/plain": [
       "   converted  lead_number    0\n",
       "0          1         4269 0.44\n",
       "1          1         2376 0.90\n",
       "2          1         7766 0.16\n",
       "3          0         9199 0.23\n",
       "4          1         4359 0.90"
      ]
     },
     "execution_count": 129,
     "metadata": {},
     "output_type": "execute_result"
    }
   ],
   "source": [
    "y_pred_final.head()"
   ]
  },
  {
   "cell_type": "code",
   "execution_count": 130,
   "id": "56e39671",
   "metadata": {},
   "outputs": [
    {
     "data": {
      "text/html": [
       "<div>\n",
       "<style scoped>\n",
       "    .dataframe tbody tr th:only-of-type {\n",
       "        vertical-align: middle;\n",
       "    }\n",
       "\n",
       "    .dataframe tbody tr th {\n",
       "        vertical-align: top;\n",
       "    }\n",
       "\n",
       "    .dataframe thead th {\n",
       "        text-align: right;\n",
       "    }\n",
       "</style>\n",
       "<table border=\"1\" class=\"dataframe\">\n",
       "  <thead>\n",
       "    <tr style=\"text-align: right;\">\n",
       "      <th></th>\n",
       "      <th>lead_number</th>\n",
       "      <th>converted</th>\n",
       "      <th>Convert_Prob</th>\n",
       "    </tr>\n",
       "  </thead>\n",
       "  <tbody>\n",
       "    <tr>\n",
       "      <th>0</th>\n",
       "      <td>4269</td>\n",
       "      <td>1</td>\n",
       "      <td>0.44</td>\n",
       "    </tr>\n",
       "    <tr>\n",
       "      <th>1</th>\n",
       "      <td>2376</td>\n",
       "      <td>1</td>\n",
       "      <td>0.90</td>\n",
       "    </tr>\n",
       "    <tr>\n",
       "      <th>2</th>\n",
       "      <td>7766</td>\n",
       "      <td>1</td>\n",
       "      <td>0.16</td>\n",
       "    </tr>\n",
       "    <tr>\n",
       "      <th>3</th>\n",
       "      <td>9199</td>\n",
       "      <td>0</td>\n",
       "      <td>0.23</td>\n",
       "    </tr>\n",
       "    <tr>\n",
       "      <th>4</th>\n",
       "      <td>4359</td>\n",
       "      <td>1</td>\n",
       "      <td>0.90</td>\n",
       "    </tr>\n",
       "  </tbody>\n",
       "</table>\n",
       "</div>"
      ],
      "text/plain": [
       "   lead_number  converted  Convert_Prob\n",
       "0         4269          1          0.44\n",
       "1         2376          1          0.90\n",
       "2         7766          1          0.16\n",
       "3         9199          0          0.23\n",
       "4         4359          1          0.90"
      ]
     },
     "execution_count": 130,
     "metadata": {},
     "output_type": "execute_result"
    }
   ],
   "source": [
    "# Renaming the column \n",
    "y_pred_final= y_pred_final.rename(columns={ 0 : 'Convert_Prob'})\n",
    "# Rearranging the columns\n",
    "y_pred_final = y_pred_final.reindex(['lead_number','converted','Convert_Prob'], axis=1)\n",
    "y_pred_final.head()"
   ]
  },
  {
   "cell_type": "code",
   "execution_count": 131,
   "id": "64daa527",
   "metadata": {},
   "outputs": [],
   "source": [
    "y_pred_final['final_predicted'] = y_pred_final.Convert_Prob.map(lambda x: 1 if x > 0.4 else 0)"
   ]
  },
  {
   "cell_type": "code",
   "execution_count": 132,
   "id": "e38b6ca7",
   "metadata": {},
   "outputs": [
    {
     "data": {
      "text/html": [
       "<div>\n",
       "<style scoped>\n",
       "    .dataframe tbody tr th:only-of-type {\n",
       "        vertical-align: middle;\n",
       "    }\n",
       "\n",
       "    .dataframe tbody tr th {\n",
       "        vertical-align: top;\n",
       "    }\n",
       "\n",
       "    .dataframe thead th {\n",
       "        text-align: right;\n",
       "    }\n",
       "</style>\n",
       "<table border=\"1\" class=\"dataframe\">\n",
       "  <thead>\n",
       "    <tr style=\"text-align: right;\">\n",
       "      <th></th>\n",
       "      <th>lead_number</th>\n",
       "      <th>converted</th>\n",
       "      <th>Convert_Prob</th>\n",
       "      <th>final_predicted</th>\n",
       "    </tr>\n",
       "  </thead>\n",
       "  <tbody>\n",
       "    <tr>\n",
       "      <th>0</th>\n",
       "      <td>4269</td>\n",
       "      <td>1</td>\n",
       "      <td>0.44</td>\n",
       "      <td>1</td>\n",
       "    </tr>\n",
       "    <tr>\n",
       "      <th>1</th>\n",
       "      <td>2376</td>\n",
       "      <td>1</td>\n",
       "      <td>0.90</td>\n",
       "      <td>1</td>\n",
       "    </tr>\n",
       "    <tr>\n",
       "      <th>2</th>\n",
       "      <td>7766</td>\n",
       "      <td>1</td>\n",
       "      <td>0.16</td>\n",
       "      <td>0</td>\n",
       "    </tr>\n",
       "    <tr>\n",
       "      <th>3</th>\n",
       "      <td>9199</td>\n",
       "      <td>0</td>\n",
       "      <td>0.23</td>\n",
       "      <td>0</td>\n",
       "    </tr>\n",
       "    <tr>\n",
       "      <th>4</th>\n",
       "      <td>4359</td>\n",
       "      <td>1</td>\n",
       "      <td>0.90</td>\n",
       "      <td>1</td>\n",
       "    </tr>\n",
       "  </tbody>\n",
       "</table>\n",
       "</div>"
      ],
      "text/plain": [
       "   lead_number  converted  Convert_Prob  final_predicted\n",
       "0         4269          1          0.44                1\n",
       "1         2376          1          0.90                1\n",
       "2         7766          1          0.16                0\n",
       "3         9199          0          0.23                0\n",
       "4         4359          1          0.90                1"
      ]
     },
     "execution_count": 132,
     "metadata": {},
     "output_type": "execute_result"
    }
   ],
   "source": [
    "y_pred_final.head()"
   ]
  },
  {
   "cell_type": "markdown",
   "id": "67b1abbe",
   "metadata": {},
   "source": [
    "## Assign LEAD SCORE to test set"
   ]
  },
  {
   "cell_type": "code",
   "execution_count": 133,
   "id": "e7d204e4",
   "metadata": {},
   "outputs": [
    {
     "data": {
      "text/html": [
       "<div>\n",
       "<style scoped>\n",
       "    .dataframe tbody tr th:only-of-type {\n",
       "        vertical-align: middle;\n",
       "    }\n",
       "\n",
       "    .dataframe tbody tr th {\n",
       "        vertical-align: top;\n",
       "    }\n",
       "\n",
       "    .dataframe thead th {\n",
       "        text-align: right;\n",
       "    }\n",
       "</style>\n",
       "<table border=\"1\" class=\"dataframe\">\n",
       "  <thead>\n",
       "    <tr style=\"text-align: right;\">\n",
       "      <th></th>\n",
       "      <th>lead_number</th>\n",
       "      <th>converted</th>\n",
       "      <th>Convert_Prob</th>\n",
       "      <th>final_predicted</th>\n",
       "      <th>Lead_Score</th>\n",
       "    </tr>\n",
       "  </thead>\n",
       "  <tbody>\n",
       "    <tr>\n",
       "      <th>0</th>\n",
       "      <td>4269</td>\n",
       "      <td>1</td>\n",
       "      <td>0.44</td>\n",
       "      <td>1</td>\n",
       "      <td>44</td>\n",
       "    </tr>\n",
       "    <tr>\n",
       "      <th>1</th>\n",
       "      <td>2376</td>\n",
       "      <td>1</td>\n",
       "      <td>0.90</td>\n",
       "      <td>1</td>\n",
       "      <td>90</td>\n",
       "    </tr>\n",
       "    <tr>\n",
       "      <th>2</th>\n",
       "      <td>7766</td>\n",
       "      <td>1</td>\n",
       "      <td>0.16</td>\n",
       "      <td>0</td>\n",
       "      <td>16</td>\n",
       "    </tr>\n",
       "    <tr>\n",
       "      <th>3</th>\n",
       "      <td>9199</td>\n",
       "      <td>0</td>\n",
       "      <td>0.23</td>\n",
       "      <td>0</td>\n",
       "      <td>23</td>\n",
       "    </tr>\n",
       "    <tr>\n",
       "      <th>4</th>\n",
       "      <td>4359</td>\n",
       "      <td>1</td>\n",
       "      <td>0.90</td>\n",
       "      <td>1</td>\n",
       "      <td>90</td>\n",
       "    </tr>\n",
       "  </tbody>\n",
       "</table>\n",
       "</div>"
      ],
      "text/plain": [
       "   lead_number  converted  Convert_Prob  final_predicted  Lead_Score\n",
       "0         4269          1          0.44                1          44\n",
       "1         2376          1          0.90                1          90\n",
       "2         7766          1          0.16                0          16\n",
       "3         9199          0          0.23                0          23\n",
       "4         4359          1          0.90                1          90"
      ]
     },
     "execution_count": 133,
     "metadata": {},
     "output_type": "execute_result"
    }
   ],
   "source": [
    "y_pred_final['Lead_Score'] = y_pred_final.Convert_Prob.map( lambda x: round(x*100))\n",
    "\n",
    "y_pred_final.head()"
   ]
  },
  {
   "cell_type": "code",
   "execution_count": 134,
   "id": "2ebb0b6b",
   "metadata": {},
   "outputs": [
    {
     "data": {
      "text/plain": [
       "0.7709235209235209"
      ]
     },
     "execution_count": 134,
     "metadata": {},
     "output_type": "execute_result"
    }
   ],
   "source": [
    "# Let's check the overall accuracy.\n",
    "metrics.accuracy_score(y_pred_final.converted, y_pred_final.final_predicted)"
   ]
  },
  {
   "cell_type": "code",
   "execution_count": 135,
   "id": "8e8c23d3",
   "metadata": {},
   "outputs": [
    {
     "data": {
      "text/plain": [
       "array([[1392,  285],\n",
       "       [ 350,  745]])"
      ]
     },
     "execution_count": 135,
     "metadata": {},
     "output_type": "execute_result"
    }
   ],
   "source": [
    "confusion2 = metrics.confusion_matrix(y_pred_final.converted, y_pred_final.final_predicted )\n",
    "confusion2"
   ]
  },
  {
   "cell_type": "code",
   "execution_count": 136,
   "id": "693baf0c",
   "metadata": {},
   "outputs": [],
   "source": [
    "TP = confusion2[1,1] # true positive \n",
    "TN = confusion2[0,0] # true negatives\n",
    "FP = confusion2[0,1] # false positives\n",
    "FN = confusion2[1,0] # false negatives"
   ]
  },
  {
   "cell_type": "code",
   "execution_count": 137,
   "id": "667fdbe4",
   "metadata": {},
   "outputs": [
    {
     "data": {
      "text/plain": [
       "0.680365296803653"
      ]
     },
     "execution_count": 137,
     "metadata": {},
     "output_type": "execute_result"
    }
   ],
   "source": [
    "# Let's see the sensitivity of our logistic regression model\n",
    "TP / float(TP+FN)"
   ]
  },
  {
   "cell_type": "code",
   "execution_count": 138,
   "id": "6dc6de1d",
   "metadata": {},
   "outputs": [
    {
     "data": {
      "text/plain": [
       "0.8300536672629696"
      ]
     },
     "execution_count": 138,
     "metadata": {},
     "output_type": "execute_result"
    }
   ],
   "source": [
    "# Let us calculate specificity\n",
    "TN / float(TN+FP)"
   ]
  },
  {
   "cell_type": "markdown",
   "id": "28150cdd",
   "metadata": {},
   "source": [
    "# THANK YOU"
   ]
  },
  {
   "cell_type": "code",
   "execution_count": null,
   "id": "7ef17c2d",
   "metadata": {},
   "outputs": [],
   "source": []
  }
 ],
 "metadata": {
  "kernelspec": {
   "display_name": "Python 3 (ipykernel)",
   "language": "python",
   "name": "python3"
  },
  "language_info": {
   "codemirror_mode": {
    "name": "ipython",
    "version": 3
   },
   "file_extension": ".py",
   "mimetype": "text/x-python",
   "name": "python",
   "nbconvert_exporter": "python",
   "pygments_lexer": "ipython3",
   "version": "3.9.7"
  }
 },
 "nbformat": 4,
 "nbformat_minor": 5
}
